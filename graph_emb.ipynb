{
  "cells": [
    {
      "cell_type": "markdown",
      "id": "3d7dd97c",
      "metadata": {
        "id": "3d7dd97c"
      },
      "source": [
        "# Assignment — Graph Embeddings"
      ]
    },
    {
      "cell_type": "code",
      "execution_count": 22,
      "id": "a5fc4aed",
      "metadata": {
        "id": "a5fc4aed"
      },
      "outputs": [],
      "source": [
        "from sklearn.metrics import mutual_info_score\n",
        "from sklearn.cluster import k_means\n",
        "import numpy as np\n",
        "import torch\n",
        "from scipy.sparse import csr_matrix\n",
        "from sklearn.decomposition import PCA\n",
        "from torch.utils.data import Dataset\n",
        "import torch.nn as nn\n",
        "from torch.optim import Adam\n",
        "from torch.utils.data import DataLoader\n",
        "import matplotlib.pyplot as plt\n",
        "from sklearn.manifold import TSNE\n",
        "from tqdm.notebook import tqdm, trange\n",
        "from scipy.sparse.linalg import svds\n",
        "import requests\n",
        "import networkx as nx"
      ]
    },
    {
      "cell_type": "markdown",
      "id": "1607604d",
      "metadata": {
        "id": "1607604d"
      },
      "source": [
        "### Facebook graph"
      ]
    },
    {
      "cell_type": "markdown",
      "id": "05cba833",
      "metadata": {
        "id": "05cba833"
      },
      "source": [
        "In this assignment, we will evaluate node embedding methods on the facebook graph where nodes are pages and edges are links. Each node has a category: government, tv-show, company, politician."
      ]
    },
    {
      "cell_type": "code",
      "execution_count": 23,
      "id": "20ca6ef5",
      "metadata": {
        "id": "20ca6ef5",
        "colab": {
          "base_uri": "https://localhost:8080/"
        },
        "outputId": "6f2ed280-59c5-4624-fe82-3e2c5a1cd9a6"
      },
      "outputs": [
        {
          "output_type": "execute_result",
          "data": {
            "text/plain": [
              "(3873, array([3, 3, 3, ..., 2, 2, 2]))"
            ]
          },
          "metadata": {},
          "execution_count": 23
        }
      ],
      "source": [
        "url = 'https://raw.githubusercontent.com/netspractice/network-science/main/datasets/musae_facebook_ego_802.gml'\n",
        "open('musae_facebook_ego_802.gml', 'wb').write(requests.get(url).content)\n",
        "G = nx.read_gml('musae_facebook_ego_802.gml')\n",
        "G = nx.convert_node_labels_to_integers(G)\n",
        "_labels = np.array(list(nx.get_node_attributes(G, 'value').values()))\n",
        "unique = list(set(_labels))\n",
        "labels = np.array([unique.index(l) for l in _labels])\n",
        "len(G), labels"
      ]
    },
    {
      "cell_type": "markdown",
      "id": "5aaad914",
      "metadata": {
        "id": "5aaad914"
      },
      "source": [
        "### Task 1. DeepWalk (0 points)"
      ]
    },
    {
      "cell_type": "code",
      "execution_count": 24,
      "id": "5afaa979",
      "metadata": {
        "id": "5afaa979"
      },
      "outputs": [],
      "source": [
        "import warnings\n",
        "warnings.simplefilter(action='ignore', category=FutureWarning)"
      ]
    },
    {
      "cell_type": "markdown",
      "id": "b33ccb4f",
      "metadata": {
        "id": "b33ccb4f"
      },
      "source": [
        "Deepwalk is an approach for learning latent representations of nodes in a network. The motivation of DeepWalk is based on an observation that the frequency of nodes occurrence in the short random walks in social networks is similar to the frequency of words occurrence in sentences in natural languages.\n",
        "\n",
        "<img src=\"https://raw.githubusercontent.com/netspractice/network-science/main/images/node_word_powerlaw.png\" width=600>\n",
        "\n",
        "The both follow a power-law distribution, therefore NLP word embedding models can help to represent nodes in networks. DeepWalk is based on SkipGram model that is trained to predict the context for a given word.\n",
        "\n",
        "<img src='https://lena-voita.github.io/resources/lectures/word_emb/w2v/window_prob1-min.png' width=600>\n",
        "\n",
        "(an image is taken from [NLP Course For You](https://lena-voita.github.io/nlp_course.html))\n",
        "\n",
        "DeepWalk uses nodes instead of words and random walks on a network instead of sentences. Let a central word be a start node of a random walk, context words be nodes in a tail of a random walk."
      ]
    },
    {
      "cell_type": "markdown",
      "id": "6067034b",
      "metadata": {
        "id": "6067034b"
      },
      "source": [
        "Write a function `sample_random_walks` that takes a graph, number of walks per node and the length of walks, returns np.array of the shape (total number of walks) x (length)."
      ]
    },
    {
      "cell_type": "code",
      "execution_count": 25,
      "id": "3fe4a8a7",
      "metadata": {
        "deletable": false,
        "id": "3fe4a8a7",
        "nbgrader": {
          "cell_type": "code",
          "checksum": "d3ce58f440fdc8e196671a9575dd819b",
          "grade": false,
          "grade_id": "cell-6dae7ab8bdd8bca1",
          "locked": false,
          "schema_version": 3,
          "solution": true,
          "task": false
        }
      },
      "outputs": [],
      "source": [
        "def sample_random_walks(G, walks_per_node, length):\n",
        "    walks = []\n",
        "    for node in G.nodes():\n",
        "      for _ in range(walks_per_node):\n",
        "        walk = [node]\n",
        "        for _ in range(1, length):\n",
        "          walk.append(np.random.choice(list(G.neighbors(walk[-1]))))\n",
        "        walks.append(walk)\n",
        "    return np.array(walks)"
      ]
    },
    {
      "cell_type": "code",
      "execution_count": 26,
      "id": "faf5aeed",
      "metadata": {
        "deletable": false,
        "editable": false,
        "id": "faf5aeed",
        "nbgrader": {
          "cell_type": "code",
          "checksum": "bf580c164d7ab96868a44d09bf855390",
          "grade": true,
          "grade_id": "cell-6804ce30d354612f",
          "locked": true,
          "points": 0,
          "schema_version": 3,
          "solution": false,
          "task": false
        }
      },
      "outputs": [],
      "source": [
        "walks_per_node = 5\n",
        "length = 5\n",
        "rwalks = sample_random_walks(G, walks_per_node, length)\n",
        "assert rwalks.shape == (len(G) * walks_per_node, length)\n",
        "assert np.all(rwalks[:, 0][::5] == np.arange(len(G)))\n",
        "A = nx.to_numpy_array(G)\n",
        "assert np.all(A[rwalks[0, :-1], rwalks[0, 1:]] == 1)"
      ]
    },
    {
      "cell_type": "code",
      "execution_count": 27,
      "id": "66ba80da",
      "metadata": {
        "id": "66ba80da",
        "colab": {
          "base_uri": "https://localhost:8080/"
        },
        "outputId": "b0179459-3e88-4d8d-cca3-a0989e848f98"
      },
      "outputs": [
        {
          "output_type": "execute_result",
          "data": {
            "text/plain": [
              "array([[   0,   11,   66,  369,  485],\n",
              "       [   0,   22,   40,   15,   18],\n",
              "       [   0,   24,   70,  174,   82],\n",
              "       ...,\n",
              "       [3872, 1495, 1946, 2141, 3424],\n",
              "       [3872, 1980, 3872, 1495,  169],\n",
              "       [3872, 1980, 3178, 1861, 3181]])"
            ]
          },
          "metadata": {},
          "execution_count": 27
        }
      ],
      "source": [
        "rwalks"
      ]
    },
    {
      "cell_type": "markdown",
      "id": "24aa9ea7",
      "metadata": {
        "id": "24aa9ea7"
      },
      "source": [
        "Consider a graph $G=(V,E)$. Let the first node in each random walk be _start node_ and others be _context nodes_. DeepWalk uses two embedding layers:\n",
        "* $v_i: \\{0, 1\\}^{|V|} \\to \\mathbb R^{d}$ embeds the one-hot encoded vector of the start node $i$ to latent space\n",
        "* $u_j: \\{0, 1\\}^{|V|} \\to \\mathbb R^{d}$ embeds the one-hot encoded vector of the context node $j$ to latent space\n",
        "\n",
        "The objective is to maximize the probability that $i$ and $j$ co-occur on a random walk over the network. Maximizing of the probability is equivalent to minimizing negative log-likelihood:\n",
        "\n",
        "$$\\mathcal L = - \\frac{1}{|V|\\times N} \\sum_{i=1}^{|V|\\times N} \\sum_{j=1}^L \\log P(j|i)$$\n",
        "\n",
        "where $N$ is the number of walks per node, $L$ is the length of a random walk excluding start node. $P(j|i)$ can be modelled by softmax with dot product similarity score $\\text{sim}(i, j) = u_i^\\top v_j$ as follows:\n",
        "\n",
        "$$\\mathcal L = - \\frac{1}{|V|\\times N} \\sum_{i=1}^{|V|\\times N} \\sum_{j=1}^L \\log \\frac{\\exp(v_i^\\top u_j)}{\\sum_{k=1}^{|V|}\\exp(u_k^\\top v_i)}$$\n",
        "\n",
        "However, calculating $\\sum_{k=1}^{|V|}\\exp(v_i^\\top u_j)$ is computationally expensive in a large network. To overcome such an obstacle, we can approximate softmax by binary cross-entropy with _negative sampling_. Instead of calculating softmax, we draw some random (negative) context and minimize binary cross-entropy using sigmoid function:\n",
        "\n",
        "$$\\mathcal L^{\\text{pos}}_{ij} = -\\log P(j|i) = - \\log \\sigma(v_i^\\top u_j) \\\\\n",
        "\\mathcal L^\\text{neg}_{ij} = -\\sum_{k=1}^K \\log P(k|i) = -\\sum_{k=1}^K \\log (1 - \\sigma(v_i^\\top u_k)) \\\\ \n",
        "\\mathcal L = \\frac{1}{|V|\\times N} \\sum_{i=1}^{|V|\\times N} \\sum_{j=1}^L \\left(\\mathcal L^{\\text{pos}}_{ij} + \\mathcal L^\\text{neg}_{ij}\\right)$$\n",
        "\n",
        "where $K$ is the number of negative nodes for each context node."
      ]
    },
    {
      "cell_type": "markdown",
      "id": "d534609d",
      "metadata": {
        "id": "d534609d"
      },
      "source": [
        "Let us create a dataset for computing a such loss function. Write a class `NodeContextDataset`. \n",
        "\n",
        "Function `__init__` takes random walks, the number of nodes in a graph and the number of negative nodes per each context node.\n",
        "\n",
        "Function `__len__` returns the number of random walks.\n",
        "\n",
        "Function `__getitem__` takes an index of random walk, sample a negative context and returns a tuple:\n",
        "\n",
        "* start node, torch.int64\n",
        "* positive context nodes, torch.tensor of the shape (number of context nodes)\n",
        "* negative context nodes, torch.tensor of the shape (number of context nodes, number of negative nodes)"
      ]
    },
    {
      "cell_type": "code",
      "execution_count": 28,
      "id": "79043f56",
      "metadata": {
        "deletable": false,
        "id": "79043f56",
        "nbgrader": {
          "cell_type": "code",
          "checksum": "f37ac528f7f9c27b886cd738c11ed47f",
          "grade": false,
          "grade_id": "cell-92d80df6a92f6fc2",
          "locked": false,
          "schema_version": 3,
          "solution": true,
          "task": false
        }
      },
      "outputs": [],
      "source": [
        "class NodeContextDataset(Dataset):\n",
        "    def __init__(self, rwalks, n_nodes, n_neg):\n",
        "        self.n_nodes = n_nodes\n",
        "        self.n_neg = n_neg\n",
        "        self.start_nodes = torch.Tensor(rwalks[:, 0]).long()\n",
        "        self.context_nodes = torch.Tensor(rwalks[:, 1:]).long()\n",
        "        self.len_context = self.context_nodes.shape[1]\n",
        "        \n",
        "\n",
        "    def __len__(self):\n",
        "        return self.start_nodes.shape[0]\n",
        "\n",
        "    def __getitem__(self, idx):\n",
        "        start_node = self.start_nodes[idx]\n",
        "        pos_context = self.context_nodes[idx]\n",
        "        neg_context = torch.randint(0, self.n_nodes, (self.len_context, self.n_neg))\n",
        "        return start_node, pos_context, neg_context"
      ]
    },
    {
      "cell_type": "code",
      "execution_count": 29,
      "id": "14140e24",
      "metadata": {
        "deletable": false,
        "editable": false,
        "id": "14140e24",
        "nbgrader": {
          "cell_type": "code",
          "checksum": "33e459957a271d9fbd1451657741be76",
          "grade": true,
          "grade_id": "cell-a745361ad8b8827a",
          "locked": true,
          "points": 0,
          "schema_version": 3,
          "solution": false,
          "task": false
        }
      },
      "outputs": [],
      "source": [
        "dataset = NodeContextDataset(rwalks, len(G), n_neg=5)\n",
        "assert len(dataset) == rwalks.shape[0]\n",
        "start_node, pos_context, neg_context0 = dataset[0]\n",
        "start_node, pos_context, neg_context1 = dataset[0]\n",
        "assert start_node == 0\n",
        "assert start_node.dtype == torch.int64\n",
        "assert start_node.shape == ()\n",
        "assert pos_context.shape == (4, )\n",
        "assert neg_context0.shape == neg_context1.shape ==(4, 5)\n",
        "assert not torch.all(neg_context0 == neg_context1)\n",
        "dloader = DataLoader(dataset, batch_size=2)\n",
        "for start_nodes, pos_context, neg_context in dloader:\n",
        "    break\n",
        "assert start_nodes.shape == (2,)\n",
        "assert pos_context.shape == (2, 4)\n",
        "assert neg_context.shape == (2, 4, 5)"
      ]
    },
    {
      "cell_type": "markdown",
      "id": "fc9f8aec",
      "metadata": {
        "id": "fc9f8aec"
      },
      "source": [
        "Write a function `cross_entropy` that takes vectors $v$, positive $u$, negative $u$ and returns the binary cross-entropy loss before reduction $\\frac{1}{|V|\\times N} \\sum_{i=1}^{|V|\\times N} \\sum_{j=1}^L$.\n",
        "\n",
        "_Remark: to prevent $-\\infty$ in log, add $\\varepsilon=1^{-6}$ as follows `torch.log(x + 1e-6)`_"
      ]
    },
    {
      "cell_type": "code",
      "execution_count": 30,
      "id": "323f3ec4",
      "metadata": {
        "deletable": false,
        "id": "323f3ec4",
        "nbgrader": {
          "cell_type": "code",
          "checksum": "8c52f1255915a57c9e9e136063d7a1bb",
          "grade": false,
          "grade_id": "cell-e2f4ba57342fd5e8",
          "locked": false,
          "schema_version": 3,
          "solution": true,
          "task": false
        }
      },
      "outputs": [],
      "source": [
        "def cross_entropy(v, u_pos, u_neg):\n",
        "    pos_probs = (v[:, None, :] * u_pos).sum(dim=2).sigmoid()\n",
        "    neg_probs = (- v[:, None, None, :] * u_neg).sum(dim=3).sigmoid()\n",
        "    return -(torch.log(pos_probs + 1e-6) + torch.log(neg_probs + 1e-6).sum(dim=2))\n"
      ]
    },
    {
      "cell_type": "code",
      "execution_count": 31,
      "id": "d142273b",
      "metadata": {
        "deletable": false,
        "editable": false,
        "id": "d142273b",
        "nbgrader": {
          "cell_type": "code",
          "checksum": "6560bbf935e37888e3e3b1bf47bd0881",
          "grade": true,
          "grade_id": "cell-588d17c4193a2d02",
          "locked": true,
          "points": 0,
          "schema_version": 3,
          "solution": false,
          "task": false
        }
      },
      "outputs": [],
      "source": [
        "np.random.seed(0)\n",
        "start_node_emb = torch.randn(len(G), 16)\n",
        "context_emb = torch.randn(len(G), 16)\n",
        "v = start_node_emb[start_nodes]\n",
        "u_pos = context_emb[pos_context]\n",
        "u_neg = context_emb[neg_context]\n",
        "loss = cross_entropy(v, u_pos, u_neg)\n",
        "assert loss.shape == (2, 4)\n",
        "lpos = -torch.log(torch.sigmoid(v[0] @ u_pos[0, 0]) + 1e-6)\n",
        "lneg = -torch.log(1 - torch.sigmoid(torch.tensor([v[0] @ u_neg[0, 0, i] for i in range(5)])) + 1e-6).sum()\n",
        "assert round((lpos + lneg).item(), 2) == round(loss[0, 0].item(), 2)"
      ]
    },
    {
      "cell_type": "markdown",
      "id": "724cb87d",
      "metadata": {
        "id": "724cb87d"
      },
      "source": [
        "Here is SkipGram model with negative sampling. It takes start nodes and positive, negative context nodes, returns cross-entropy loss."
      ]
    },
    {
      "cell_type": "code",
      "execution_count": 32,
      "id": "97156679",
      "metadata": {
        "deletable": false,
        "editable": false,
        "id": "97156679",
        "nbgrader": {
          "cell_type": "code",
          "checksum": "fc264bd4d5ca49b71b8ebd673adcb1d7",
          "grade": false,
          "grade_id": "cell-79e82ef853f9c439",
          "locked": true,
          "schema_version": 3,
          "solution": false,
          "task": false
        }
      },
      "outputs": [],
      "source": [
        "class SkipGramNegativeSampling(nn.Module):\n",
        "    def __init__(self, n_nodes, dim):\n",
        "        super().__init__()\n",
        "        self.start_node_emb = nn.Embedding(n_nodes, dim)\n",
        "        self.context_emb = nn.Embedding(n_nodes, dim)\n",
        "    def forward(self, start_nodes, pos_context, neg_context):\n",
        "        v = self.start_node_emb(start_nodes)\n",
        "        u_pos = self.context_emb(pos_context)\n",
        "        u_neg = self.context_emb(neg_context)\n",
        "        return cross_entropy(v, u_pos, u_neg)"
      ]
    },
    {
      "cell_type": "markdown",
      "id": "01b92d93",
      "metadata": {
        "id": "01b92d93"
      },
      "source": [
        "Let us train the model using Adam optimizer."
      ]
    },
    {
      "cell_type": "code",
      "execution_count": 33,
      "id": "d09f9677",
      "metadata": {
        "id": "d09f9677",
        "colab": {
          "base_uri": "https://localhost:8080/",
          "height": 462,
          "referenced_widgets": [
            "7a0c63075784488b950265ae55493f1d",
            "706fd142b57749178fd8e2beee09f749",
            "9a7e7ed18fc94156a57dea1dbc19bea9",
            "0cdbff698f3b4c88ab02981986867c0d",
            "e6f2c16695a949d1b8d0c3ff5852f664",
            "4c69f08214b44941bd02333dbb9a040c",
            "a242403195c44deb9ac54d730a3ad225",
            "70e1a78ab43b4ec299121c201bf50e62",
            "6f9ab8a55180445b92587f24200a2211",
            "04ddb79a80914c659239e980f3a5c3b4",
            "47b56357cc154d3d8d9d26bcff1617be"
          ]
        },
        "outputId": "4fdb0001-82f7-4a50-9d93-f6f9192357b9"
      },
      "outputs": [
        {
          "output_type": "display_data",
          "data": {
            "text/plain": [
              "  0%|          | 0/50 [00:00<?, ?it/s]"
            ],
            "application/vnd.jupyter.widget-view+json": {
              "version_major": 2,
              "version_minor": 0,
              "model_id": "7a0c63075784488b950265ae55493f1d"
            }
          },
          "metadata": {}
        },
        {
          "output_type": "display_data",
          "data": {
            "text/plain": [
              "<Figure size 640x480 with 1 Axes>"
            ],
            "image/png": "[encoded data removed]"
          },
          "metadata": {}
        }
      ],
      "source": [
        "sgmodel = SkipGramNegativeSampling(n_nodes=len(G), dim=16)\n",
        "epoch_loss = []\n",
        "opt = Adam(sgmodel.parameters(), lr=0.1)\n",
        "dloader = DataLoader(dataset, batch_size=len(G))\n",
        "for epoch in trange(50):\n",
        "    for start_nodes, pos_context, neg_context in dloader:\n",
        "        loss = sgmodel(start_nodes, pos_context, neg_context).sum(dim=1).mean()\n",
        "        opt.zero_grad()\n",
        "        loss.backward()\n",
        "        opt.step()\n",
        "    epoch_loss.append(loss.item())\n",
        "plt.plot(epoch_loss);"
      ]
    },
    {
      "cell_type": "markdown",
      "id": "fc431c1c",
      "metadata": {
        "id": "fc431c1c"
      },
      "source": [
        "We evaluate the model by mutual information between ground truth labels and cluster indices."
      ]
    },
    {
      "cell_type": "code",
      "execution_count": 34,
      "id": "d6c01a21",
      "metadata": {
        "deletable": false,
        "editable": false,
        "id": "d6c01a21",
        "nbgrader": {
          "cell_type": "code",
          "checksum": "95d47fc2fc4c52f43987f446abb71cb2",
          "grade": true,
          "grade_id": "cell-1685a473a18d47f8",
          "locked": true,
          "points": 0,
          "schema_version": 3,
          "solution": false,
          "task": false
        }
      },
      "outputs": [],
      "source": [
        "with torch.no_grad():\n",
        "    emb = sgmodel.start_node_emb(torch.arange(len(G)))\n",
        "_, pred_labels, _ = k_means(emb, n_clusters=8)\n",
        "mi = mutual_info_score(labels, pred_labels)\n",
        "assert mi > 0.15"
      ]
    },
    {
      "cell_type": "markdown",
      "id": "4ce78a35",
      "metadata": {
        "id": "4ce78a35"
      },
      "source": [
        "Let us plot the t-SNE visualization of node embeddings."
      ]
    },
    {
      "cell_type": "code",
      "execution_count": 35,
      "id": "15c151d3",
      "metadata": {
        "id": "15c151d3",
        "colab": {
          "base_uri": "https://localhost:8080/",
          "height": 699
        },
        "outputId": "3685b2af-c42b-4965-bbab-1e8f20f8f9be"
      },
      "outputs": [
        {
          "output_type": "display_data",
          "data": {
            "text/plain": [
              "<Figure size 800x800 with 1 Axes>"
            ],
            "image/png": "[encoded data removed]"
          },
          "metadata": {}
        }
      ],
      "source": [
        "decomposition = TSNE(n_components=2)\n",
        "xy_emb = decomposition.fit_transform(emb)\n",
        "\n",
        "plt.figure(figsize=(8, 8))\n",
        "scatter = plt.scatter(xy_emb[:, 0], xy_emb[:, 1], c=labels, s=10, cmap=plt.cm.Set2)\n",
        "\n",
        "plt.legend(handles=scatter.legend_elements()[0], labels=unique)\n",
        "plt.title(f'MI: {mi:.4f}');"
      ]
    },
    {
      "cell_type": "markdown",
      "id": "379d3814",
      "metadata": {
        "id": "379d3814"
      },
      "source": [
        "### Task 2. Node2Vec (3 points)"
      ]
    },
    {
      "cell_type": "markdown",
      "id": "252e7a47",
      "metadata": {
        "id": "252e7a47"
      },
      "source": [
        "In this task, we will consider Node2Vec embedding algorithm. In Node2Vec, we learn a mapping of nodes to a low-dimensional space of features that maximizes the likelihood of preserving network neighborhoods of nodes. It is similar to DeepWalk, but uses *biased random walk procedure* which efficiently explores diverse neighborhoods. There are two parameters:\n",
        "\n",
        "* Return parameter $p$ controls the likelihood of immediately revisiting a node in the walk. Setting it to a high value ensures that we are less likely to sample an already-visited node in the following two steps.\n",
        "\n",
        "* In-out parameter $q$ allows the search to differentiate between “inward” and “outward” nodes. If $q > 1$, the random walk is biased towards nodes close to previous node. In contrast, if $q < 1$, the walk is more inclined to visit nodes which are further away from the previous node.\n",
        "\n",
        "<img src='https://raw.githubusercontent.com/netspractice/network-science/main/images/biased_random_walk.png' width=300>\n",
        "\n",
        "Consider that we just moved from the node $t$ to $v$ and now we want to decide on the next step so it evaluates the transition probabilities on edges ($v$, $x$) leading from $v$. Then the *unnormalized* probability is\n",
        "\n",
        "$$\\alpha = \\begin{cases}\n",
        "\\frac{1}{p} &  \\text{ if } d_{tx} = 0\\\\\n",
        "1 & \\text{ if } d_{tx} = 1\\\\\n",
        "\\frac{1}{q} & \\text{ if } d_{tx} = 2\\\\\n",
        "\\end{cases}$$\n",
        "\n",
        "where $d_{tx}$ is the shortest path distance between nodes $t$ and $x$. To compute the true probability, we need to normalize values so that the sum is 1."
      ]
    },
    {
      "cell_type": "markdown",
      "id": "706b6487",
      "metadata": {
        "id": "706b6487"
      },
      "source": [
        "Write a function `biased_random_walk` that takes a graph, node for which we start random walk, length of walk, parameters `p` and `q` and returns a list with random walks.\n",
        "\n",
        "*Hint: do not use `nx.shortest_path` to calcule shortest paths, it is too expensive. Look at the image above — we can explicitly calculate probabilities for all neighbors of $v$ using neighborhood of $t$*."
      ]
    },
    {
      "cell_type": "code",
      "execution_count": 39,
      "id": "738446aa",
      "metadata": {
        "deletable": false,
        "id": "738446aa",
        "nbgrader": {
          "cell_type": "code",
          "checksum": "248810a536b6d7a59e0b93a8937cf7a8",
          "grade": false,
          "grade_id": "cell-982226ce9aa30f91",
          "locked": false,
          "schema_version": 3,
          "solution": true,
          "task": false
        }
      },
      "outputs": [],
      "source": [
        "def biased_random_walk(G, node, length, p, q):\n",
        "    # YOUR CODE HERE\n",
        "    node_add = node\n",
        "    node_prev = None\n",
        "    path_nodes = [node_add]\n",
        "    prob_dist = []\n",
        "    for i in range(length-1):   \n",
        "      probs = [1/q] * len(G.nodes)\n",
        "      probs = zip(list(G.nodes()), probs)\n",
        "      probs = dict(probs)\n",
        "      if node_prev == None:\n",
        "        node_prev = node_add\n",
        "        neighs = list(nx.neighbors(G, node_add))\n",
        "        neighs_prev = neighs\n",
        "        prob_dist = [probs.get(n) for n in neighs]\n",
        "        prob_dist =  [p/sum(prob_dist) for p in prob_dist]\n",
        "        node_add = np.random.choice(neighs, p=prob_dist)\n",
        "        path_nodes.append(node_add)\n",
        "      else:\n",
        "        neighs = list(nx.neighbors(G, node_add))\n",
        "        for n in neighs:\n",
        "          if n in neighs_prev:\n",
        "            probs[n] = 1\n",
        "        probs[node_prev] = 1 / p\n",
        "        prob_dist = [probs.get(n) for n in neighs]\n",
        "        prob_dist =  [pr/sum(prob_dist) for pr in prob_dist]\n",
        "        node_prev = node_add\n",
        "        neighs_prev = neighs\n",
        "        node_add = np.random.choice(neighs, p=prob_dist)\n",
        "        path_nodes.append(node_add)\n",
        "      \n",
        "    return path_nodes"
      ]
    },
    {
      "cell_type": "code",
      "source": [
        "#\n",
        "\n",
        "np.random.seed(0)"
      ],
      "metadata": {
        "id": "H-5_ic4I2f7I"
      },
      "id": "H-5_ic4I2f7I",
      "execution_count": 40,
      "outputs": []
    },
    {
      "cell_type": "code",
      "execution_count": 41,
      "id": "b6a264d9",
      "metadata": {
        "deletable": false,
        "editable": false,
        "id": "b6a264d9",
        "nbgrader": {
          "cell_type": "code",
          "checksum": "2435b88e56db99f5401d6df7bd8aac19",
          "grade": true,
          "grade_id": "cell-0404594e2e4226e7",
          "locked": true,
          "points": 1,
          "schema_version": 3,
          "solution": false,
          "task": false
        }
      },
      "outputs": [],
      "source": [
        "rwalks = biased_random_walk(G, 0, 10, 0.1, 0.5)\n",
        "assert len(rwalks) == 10\n",
        "rwalks = biased_random_walk(G, node=0, length=4, p=0.001, q=1000)\n",
        "assert rwalks[0] == rwalks[2]\n",
        "assert rwalks[1] == rwalks[3]\n",
        "rwalks = biased_random_walk(G, node=0, length=4, p=1000, q=0.001)\n",
        "assert len(set(rwalks)) >= 3"
      ]
    },
    {
      "cell_type": "markdown",
      "id": "57592aa9",
      "metadata": {
        "id": "57592aa9"
      },
      "source": [
        "Let us generate biased random walks."
      ]
    },
    {
      "cell_type": "code",
      "execution_count": 42,
      "id": "a74a639e",
      "metadata": {
        "id": "a74a639e"
      },
      "outputs": [],
      "source": [
        "def sample_biased_random_walks(G, walks_per_node, length, p, q):\n",
        "    walks = []\n",
        "    for node in tqdm(G.nodes, leave=False, desc='Sampling biased random walks'):\n",
        "        for _ in range(walks_per_node):\n",
        "            walk_from_node = biased_random_walk(G, node, length, p, q)\n",
        "            walks.append(walk_from_node)\n",
        "    return np.array(walks)"
      ]
    },
    {
      "cell_type": "code",
      "execution_count": 43,
      "id": "e7008bcb",
      "metadata": {
        "id": "e7008bcb",
        "outputId": "0042346f-da10-4fa4-acce-b2df37f20d99",
        "colab": {
          "base_uri": "https://localhost:8080/",
          "height": 139,
          "referenced_widgets": [
            "05d77ee26ddd4104b8f610dd3ae425b3",
            "1f72c7d988d340c7b8f9dd24bc98025b",
            "f723b920ae0846bab77076d3cd6396ce",
            "c88805baf4f7439bb54a9ab31a45d498",
            "320c7416dec149d49fdf5f3aef3b4224",
            "56729526ad424428bd06222161390812",
            "b72722779f6d4b0aae8486ef6b97637d",
            "e65d1ced10c747189ee4698c87491abb",
            "aa1bb1653f97451396ebd808b44d062c",
            "c020e84bd5b54ae293e5a3f5f5f67760",
            "7e66ce79cca844a2a8b729294bd10d08"
          ]
        }
      },
      "outputs": [
        {
          "output_type": "display_data",
          "data": {
            "text/plain": [
              "Sampling biased random walks:   0%|          | 0/3873 [00:00<?, ?it/s]"
            ],
            "application/vnd.jupyter.widget-view+json": {
              "version_major": 2,
              "version_minor": 0,
              "model_id": "05d77ee26ddd4104b8f610dd3ae425b3"
            }
          },
          "metadata": {}
        },
        {
          "output_type": "execute_result",
          "data": {
            "text/plain": [
              "array([[   0,   20,    0,   11,   48],\n",
              "       [   0,    8,  242,    8,  194],\n",
              "       [   0,   44,   13,   54,  472],\n",
              "       ...,\n",
              "       [3872, 1495, 2121,  409,   54],\n",
              "       [3872, 1495, 1953, 1828, 1496],\n",
              "       [3872, 1495, 1953,  333, 2552]])"
            ]
          },
          "metadata": {},
          "execution_count": 43
        }
      ],
      "source": [
        "walks_per_node = 5\n",
        "length = 5\n",
        "rwalks = sample_biased_random_walks(G, walks_per_node, length, p=0.25, q=0.25)\n",
        "rwalks"
      ]
    },
    {
      "cell_type": "markdown",
      "id": "0cf91418",
      "metadata": {
        "id": "0cf91418"
      },
      "source": [
        "Train the model."
      ]
    },
    {
      "cell_type": "code",
      "execution_count": 44,
      "id": "d10adc14",
      "metadata": {
        "id": "d10adc14",
        "outputId": "f77416e7-69bf-4df6-c350-2de0c6c4ee5f",
        "colab": {
          "base_uri": "https://localhost:8080/",
          "height": 462,
          "referenced_widgets": [
            "94c134d32203456babf6edf261cf08a5",
            "fb4d6c46be864c89843774a85c664e03",
            "d872e8989f3a4dbf9eaf4de047f0fc44",
            "4b01e99b313e493789a2728d6ff00feb",
            "00a520b53b004c9dac45aed52ec08803",
            "460dc53eb8ac44f680b77ad461a393b9",
            "826f064760df496fbe3eb0280aeb7003",
            "5c27c5a5dfa044aea746365255473579",
            "9f641a2313cc4684bf6635f7f8d1479c",
            "51ba462b1f354b339f5dc418fd2994bc",
            "088263c4afe145e1b740e34414ecdbcf"
          ]
        }
      },
      "outputs": [
        {
          "output_type": "display_data",
          "data": {
            "text/plain": [
              "  0%|          | 0/50 [00:00<?, ?it/s]"
            ],
            "application/vnd.jupyter.widget-view+json": {
              "version_major": 2,
              "version_minor": 0,
              "model_id": "94c134d32203456babf6edf261cf08a5"
            }
          },
          "metadata": {}
        },
        {
          "output_type": "display_data",
          "data": {
            "text/plain": [
              "<Figure size 640x480 with 1 Axes>"
            ],
            "image/png": "[encoded data removed]"
          },
          "metadata": {}
        }
      ],
      "source": [
        "e_loss = []\n",
        "dataset = NodeContextDataset(rwalks, len(G), n_neg=5)\n",
        "dloader = DataLoader(dataset, batch_size=len(G))\n",
        "sgmodel = SkipGramNegativeSampling(n_nodes=len(G), dim=16)\n",
        "opt = Adam(sgmodel.parameters(), lr=0.1)\n",
        "for e in trange(50):\n",
        "    for start_nodes, pos_context, neg_context in dloader:\n",
        "        loss = sgmodel(start_nodes, pos_context, neg_context).sum(dim=1).mean()\n",
        "        opt.zero_grad()\n",
        "        loss.backward()\n",
        "        opt.step()\n",
        "    e_loss.append(loss.item())\n",
        "plt.plot(e_loss);"
      ]
    },
    {
      "cell_type": "code",
      "execution_count": 45,
      "id": "b6eeab03",
      "metadata": {
        "deletable": false,
        "editable": false,
        "id": "b6eeab03",
        "nbgrader": {
          "cell_type": "code",
          "checksum": "7005fe5ef24ada019070d2e796d90abd",
          "grade": true,
          "grade_id": "cell-d1d23ef4a88759f7",
          "locked": true,
          "points": 1,
          "schema_version": 3,
          "solution": false,
          "task": false
        }
      },
      "outputs": [],
      "source": [
        "with torch.no_grad():\n",
        "    emb = sgmodel.start_node_emb(torch.arange(len(G)))\n",
        "_, pred_labels, _ = k_means(emb, n_clusters=8)\n",
        "mi = mutual_info_score(labels, pred_labels)\n",
        "assert mi > 0.15"
      ]
    },
    {
      "cell_type": "markdown",
      "id": "8e072e73",
      "metadata": {
        "id": "8e072e73"
      },
      "source": [
        "Find the best $p$ and $q$. Write a function `grid_search_pq` that takes a graph, node labels and returns the best $p$ and $q$ by grid search in $\\{0.01, 0.2, 1, 2, 8\\}$. Sample biased random walks with 5 walks per node and the length 5. Evaluate the model by mutual information score between ground truth labels and k-means with 8 clusters. To pass time limits, calculate the best `p` and `q` and then rewrite the function as\n",
        "\n",
        "```python\n",
        "def grid_search_pq(graph):\n",
        "    return best_p, best_q\n",
        "    # your grid search implementation ...\n",
        "```"
      ]
    },
    {
      "cell_type": "code",
      "execution_count": 46,
      "id": "3fa092da",
      "metadata": {
        "deletable": false,
        "id": "3fa092da",
        "nbgrader": {
          "cell_type": "code",
          "checksum": "2381e148a50dffea83ac5792805d7c31",
          "grade": false,
          "grade_id": "cell-63bf0f1902240663",
          "locked": false,
          "schema_version": 3,
          "solution": true,
          "task": false
        }
      },
      "outputs": [],
      "source": [
        "def grid_search_pq(G, labels):\n",
        "    # YOUR CODE HERE\n",
        "    p_values = [0.01, 0.2, 1, 2, 8]\n",
        "    q_values = [0.01, 0.2, 1, 2, 8]\n",
        "    best_score = -1\n",
        "    best_p = None\n",
        "    best_q = None\n",
        "    walks_per_node = 5\n",
        "    length = 5\n",
        "    \n",
        "    for p in p_values:\n",
        "        for q in q_values:\n",
        "            rwalks = sample_biased_random_walks(G, walks_per_node, length, p, q)\n",
        "            dataset = NodeContextDataset(rwalks, len(G), n_neg=5)\n",
        "            dloader = DataLoader(dataset, batch_size=len(G))\n",
        "            sgmodel = SkipGramNegativeSampling(n_nodes=len(G), dim=16)\n",
        "            opt = Adam(sgmodel.parameters(), lr=0.1)\n",
        "            e_loss = []\n",
        "            for e in range(50):\n",
        "                for start_nodes, pos_context, neg_context in dloader:\n",
        "                    loss = sgmodel(start_nodes, pos_context, neg_context).sum(dim=1).mean()\n",
        "                    opt.zero_grad()\n",
        "                    loss.backward()\n",
        "                    opt.step()\n",
        "                e_loss.append(loss.item())\n",
        "            with torch.no_grad():\n",
        "                emb = sgmodel.start_node_emb(torch.arange(len(G)))\n",
        "                _, pred_labels, _ = k_means(emb, n_clusters=8)\n",
        "                mi = mutual_info_score(labels, pred_labels)\n",
        "            if mi > best_score:\n",
        "                best_score = mi\n",
        "                best_p = p\n",
        "                best_q = q\n",
        "    return best_p, best_q"
      ]
    },
    {
      "cell_type": "code",
      "execution_count": 48,
      "id": "482df472",
      "metadata": {
        "deletable": false,
        "editable": false,
        "id": "482df472",
        "nbgrader": {
          "cell_type": "code",
          "checksum": "8e792a5d6956322dfacef58e8503a355",
          "grade": true,
          "grade_id": "cell-6102dd78a7156238",
          "locked": true,
          "points": 1,
          "schema_version": 3,
          "solution": false,
          "task": false
        },
        "outputId": "590ea51b-5792-4a89-f5fe-7b3ca2b372f1",
        "colab": {
          "base_uri": "https://localhost:8080/",
          "height": 381,
          "referenced_widgets": [
            "cc089db2937744c9a8cbb723b94b1449",
            "bef0045a1d2e4b2093fc8bdffb28f479",
            "e06b4018016e410c807258a516ded89f",
            "852486e32f2548f5a55b0dcce9bf30d9",
            "77e30152f15f491bae62f365973c580b",
            "848acba4677944feac1dc81b00f91620",
            "2e51e024eb4a47afa6bc6ae23e71a261",
            "6e966ec1158c4c719948a32e42492624",
            "64cc20e93df74f6fb6450bee2b106cff",
            "d230c0539ac04411b35000c3e0b194fc",
            "e455fdf67b864c3bb83f661994319cc0",
            "210926a87fec4497a13c0c223bc4c901",
            "b47ff4811128410294017d8128d00612",
            "e9d6954842d04329b6ffade73445e0b3",
            "457e22b3490d48ab9f5b62681bccc539",
            "ebbeeabc629d4b3e98e9ab379d50f05c",
            "e76ed4363b52499aa160585fbf75d1f6",
            "68c9b1c9983c44359a0a63ee101fd8f3",
            "5a656614650249a28017080dbd819d50",
            "92708960c2534d389f246b5e2daae4c4",
            "306dbff5539e47459ef7e80f7e85226b",
            "7170024b60ce4140a0499876fe2ad2a6",
            "a56c66506a904c38b46f8288986bbd4b",
            "3b0deff97d244ee6ad55dfaae17d7969",
            "ece7cd136a234a198c4fb510c5cd8947",
            "69a3565eb7a0493ab3ac83b9f7521840",
            "c641e2bd766c44939512a100c6976c49",
            "44ae122e6c7f4191ba6b7ac61d102d56",
            "6c3b91175f8247aaad5f12587e9f1e3c",
            "6e7b12038cc145c59292be9600897c51",
            "75d4c6a9fe1745e9bd5b814ccb0e5247",
            "e25c0cad4d9a4911aff9c4f998f788c4",
            "b1e3d3012436421bb3cb978b8f6179a9",
            "7acff3a8dc81414bbd66d4db55855f7b",
            "04cc6d451780434ebd9717ebbbc019ae",
            "fbbe26d114e3447bb50a4772430b2b65",
            "6d7809b2bf8c48ebb2b52e3c72107887",
            "7623e56893bf4a6998a90a44fb59cd00",
            "1cd7b5635a9f4e7b8f893d46a330a4d5",
            "094bf1a5dadd48608643b753383718d3",
            "2117f03c6c814e9282f21209e6fe8beb",
            "b005e6d1ab2b4f60a91af014fccdab26",
            "6b6eb70ab3f442ab89d4fff66b15d354",
            "4e686d0ce2774200bcc4ab84814a9e66"
          ]
        }
      },
      "outputs": [
        {
          "output_type": "display_data",
          "data": {
            "text/plain": [
              "Sampling biased random walks:   0%|          | 0/3873 [00:00<?, ?it/s]"
            ],
            "application/vnd.jupyter.widget-view+json": {
              "version_major": 2,
              "version_minor": 0,
              "model_id": "cc089db2937744c9a8cbb723b94b1449"
            }
          },
          "metadata": {}
        },
        {
          "output_type": "display_data",
          "data": {
            "text/plain": [
              "Sampling biased random walks:   0%|          | 0/3873 [00:00<?, ?it/s]"
            ],
            "application/vnd.jupyter.widget-view+json": {
              "version_major": 2,
              "version_minor": 0,
              "model_id": "210926a87fec4497a13c0c223bc4c901"
            }
          },
          "metadata": {}
        },
        {
          "output_type": "display_data",
          "data": {
            "text/plain": [
              "Sampling biased random walks:   0%|          | 0/3873 [00:00<?, ?it/s]"
            ],
            "application/vnd.jupyter.widget-view+json": {
              "version_major": 2,
              "version_minor": 0,
              "model_id": "a56c66506a904c38b46f8288986bbd4b"
            }
          },
          "metadata": {}
        },
        {
          "output_type": "display_data",
          "data": {
            "text/plain": [
              "Sampling biased random walks:   0%|          | 0/3873 [00:00<?, ?it/s]"
            ],
            "application/vnd.jupyter.widget-view+json": {
              "version_major": 2,
              "version_minor": 0,
              "model_id": "7acff3a8dc81414bbd66d4db55855f7b"
            }
          },
          "metadata": {}
        },
        {
          "output_type": "error",
          "ename": "KeyboardInterrupt",
          "evalue": "ignored",
          "traceback": [
            "\u001b[0;31m---------------------------------------------------------------------------\u001b[0m",
            "\u001b[0;31mKeyboardInterrupt\u001b[0m                         Traceback (most recent call last)",
            "\u001b[0;32m<ipython-input-48-1cc095965dcf>\u001b[0m in \u001b[0;36m<cell line: 1>\u001b[0;34m()\u001b[0m\n\u001b[0;32m----> 1\u001b[0;31m \u001b[0mbest_p\u001b[0m\u001b[0;34m,\u001b[0m \u001b[0mbest_q\u001b[0m \u001b[0;34m=\u001b[0m \u001b[0mgrid_search_pq\u001b[0m\u001b[0;34m(\u001b[0m\u001b[0mG\u001b[0m\u001b[0;34m,\u001b[0m \u001b[0mlabels\u001b[0m\u001b[0;34m)\u001b[0m\u001b[0;34m\u001b[0m\u001b[0;34m\u001b[0m\u001b[0m\n\u001b[0m\u001b[1;32m      2\u001b[0m \u001b[0mrwalks\u001b[0m \u001b[0;34m=\u001b[0m \u001b[0msample_biased_random_walks\u001b[0m\u001b[0;34m(\u001b[0m\u001b[0mG\u001b[0m\u001b[0;34m,\u001b[0m \u001b[0;36m5\u001b[0m\u001b[0;34m,\u001b[0m \u001b[0;36m5\u001b[0m\u001b[0;34m,\u001b[0m \u001b[0mbest_p\u001b[0m\u001b[0;34m,\u001b[0m \u001b[0mbest_q\u001b[0m\u001b[0;34m)\u001b[0m\u001b[0;34m\u001b[0m\u001b[0;34m\u001b[0m\u001b[0m\n\u001b[1;32m      3\u001b[0m \u001b[0mdataset\u001b[0m \u001b[0;34m=\u001b[0m \u001b[0mNodeContextDataset\u001b[0m\u001b[0;34m(\u001b[0m\u001b[0mrwalks\u001b[0m\u001b[0;34m,\u001b[0m \u001b[0mlen\u001b[0m\u001b[0;34m(\u001b[0m\u001b[0mG\u001b[0m\u001b[0;34m)\u001b[0m\u001b[0;34m,\u001b[0m \u001b[0mn_neg\u001b[0m\u001b[0;34m=\u001b[0m\u001b[0;36m5\u001b[0m\u001b[0;34m)\u001b[0m\u001b[0;34m\u001b[0m\u001b[0;34m\u001b[0m\u001b[0m\n\u001b[1;32m      4\u001b[0m \u001b[0mdloader\u001b[0m \u001b[0;34m=\u001b[0m \u001b[0mDataLoader\u001b[0m\u001b[0;34m(\u001b[0m\u001b[0mdataset\u001b[0m\u001b[0;34m,\u001b[0m \u001b[0mbatch_size\u001b[0m\u001b[0;34m=\u001b[0m\u001b[0mlen\u001b[0m\u001b[0;34m(\u001b[0m\u001b[0mG\u001b[0m\u001b[0;34m)\u001b[0m\u001b[0;34m)\u001b[0m\u001b[0;34m\u001b[0m\u001b[0;34m\u001b[0m\u001b[0m\n\u001b[1;32m      5\u001b[0m \u001b[0msgmodel\u001b[0m \u001b[0;34m=\u001b[0m \u001b[0mSkipGramNegativeSampling\u001b[0m\u001b[0;34m(\u001b[0m\u001b[0mn_nodes\u001b[0m\u001b[0;34m=\u001b[0m\u001b[0mlen\u001b[0m\u001b[0;34m(\u001b[0m\u001b[0mG\u001b[0m\u001b[0;34m)\u001b[0m\u001b[0;34m,\u001b[0m \u001b[0mdim\u001b[0m\u001b[0;34m=\u001b[0m\u001b[0;36m16\u001b[0m\u001b[0;34m)\u001b[0m\u001b[0;34m\u001b[0m\u001b[0;34m\u001b[0m\u001b[0m\n",
            "\u001b[0;32m<ipython-input-46-a3b4b3bba32a>\u001b[0m in \u001b[0;36mgrid_search_pq\u001b[0;34m(G, labels)\u001b[0m\n\u001b[1;32m     18\u001b[0m             \u001b[0me_loss\u001b[0m \u001b[0;34m=\u001b[0m \u001b[0;34m[\u001b[0m\u001b[0;34m]\u001b[0m\u001b[0;34m\u001b[0m\u001b[0;34m\u001b[0m\u001b[0m\n\u001b[1;32m     19\u001b[0m             \u001b[0;32mfor\u001b[0m \u001b[0me\u001b[0m \u001b[0;32min\u001b[0m \u001b[0mrange\u001b[0m\u001b[0;34m(\u001b[0m\u001b[0;36m50\u001b[0m\u001b[0;34m)\u001b[0m\u001b[0;34m:\u001b[0m\u001b[0;34m\u001b[0m\u001b[0;34m\u001b[0m\u001b[0m\n\u001b[0;32m---> 20\u001b[0;31m                 \u001b[0;32mfor\u001b[0m \u001b[0mstart_nodes\u001b[0m\u001b[0;34m,\u001b[0m \u001b[0mpos_context\u001b[0m\u001b[0;34m,\u001b[0m \u001b[0mneg_context\u001b[0m \u001b[0;32min\u001b[0m \u001b[0mdloader\u001b[0m\u001b[0;34m:\u001b[0m\u001b[0;34m\u001b[0m\u001b[0;34m\u001b[0m\u001b[0m\n\u001b[0m\u001b[1;32m     21\u001b[0m                     \u001b[0mloss\u001b[0m \u001b[0;34m=\u001b[0m \u001b[0msgmodel\u001b[0m\u001b[0;34m(\u001b[0m\u001b[0mstart_nodes\u001b[0m\u001b[0;34m,\u001b[0m \u001b[0mpos_context\u001b[0m\u001b[0;34m,\u001b[0m \u001b[0mneg_context\u001b[0m\u001b[0;34m)\u001b[0m\u001b[0;34m.\u001b[0m\u001b[0msum\u001b[0m\u001b[0;34m(\u001b[0m\u001b[0mdim\u001b[0m\u001b[0;34m=\u001b[0m\u001b[0;36m1\u001b[0m\u001b[0;34m)\u001b[0m\u001b[0;34m.\u001b[0m\u001b[0mmean\u001b[0m\u001b[0;34m(\u001b[0m\u001b[0;34m)\u001b[0m\u001b[0;34m\u001b[0m\u001b[0;34m\u001b[0m\u001b[0m\n\u001b[1;32m     22\u001b[0m                     \u001b[0mopt\u001b[0m\u001b[0;34m.\u001b[0m\u001b[0mzero_grad\u001b[0m\u001b[0;34m(\u001b[0m\u001b[0;34m)\u001b[0m\u001b[0;34m\u001b[0m\u001b[0;34m\u001b[0m\u001b[0m\n",
            "\u001b[0;32m/usr/local/lib/python3.9/dist-packages/torch/utils/data/dataloader.py\u001b[0m in \u001b[0;36m__next__\u001b[0;34m(self)\u001b[0m\n\u001b[1;32m    632\u001b[0m                 \u001b[0;31m# TODO(https://github.com/pytorch/pytorch/issues/76750)\u001b[0m\u001b[0;34m\u001b[0m\u001b[0;34m\u001b[0m\u001b[0m\n\u001b[1;32m    633\u001b[0m                 \u001b[0mself\u001b[0m\u001b[0;34m.\u001b[0m\u001b[0m_reset\u001b[0m\u001b[0;34m(\u001b[0m\u001b[0;34m)\u001b[0m  \u001b[0;31m# type: ignore[call-arg]\u001b[0m\u001b[0;34m\u001b[0m\u001b[0;34m\u001b[0m\u001b[0m\n\u001b[0;32m--> 634\u001b[0;31m             \u001b[0mdata\u001b[0m \u001b[0;34m=\u001b[0m \u001b[0mself\u001b[0m\u001b[0;34m.\u001b[0m\u001b[0m_next_data\u001b[0m\u001b[0;34m(\u001b[0m\u001b[0;34m)\u001b[0m\u001b[0;34m\u001b[0m\u001b[0;34m\u001b[0m\u001b[0m\n\u001b[0m\u001b[1;32m    635\u001b[0m             \u001b[0mself\u001b[0m\u001b[0;34m.\u001b[0m\u001b[0m_num_yielded\u001b[0m \u001b[0;34m+=\u001b[0m \u001b[0;36m1\u001b[0m\u001b[0;34m\u001b[0m\u001b[0;34m\u001b[0m\u001b[0m\n\u001b[1;32m    636\u001b[0m             \u001b[0;32mif\u001b[0m \u001b[0mself\u001b[0m\u001b[0;34m.\u001b[0m\u001b[0m_dataset_kind\u001b[0m \u001b[0;34m==\u001b[0m \u001b[0m_DatasetKind\u001b[0m\u001b[0;34m.\u001b[0m\u001b[0mIterable\u001b[0m \u001b[0;32mand\u001b[0m\u001b[0;31m \u001b[0m\u001b[0;31m\\\u001b[0m\u001b[0;34m\u001b[0m\u001b[0;34m\u001b[0m\u001b[0m\n",
            "\u001b[0;32m/usr/local/lib/python3.9/dist-packages/torch/utils/data/dataloader.py\u001b[0m in \u001b[0;36m_next_data\u001b[0;34m(self)\u001b[0m\n\u001b[1;32m    676\u001b[0m     \u001b[0;32mdef\u001b[0m \u001b[0m_next_data\u001b[0m\u001b[0;34m(\u001b[0m\u001b[0mself\u001b[0m\u001b[0;34m)\u001b[0m\u001b[0;34m:\u001b[0m\u001b[0;34m\u001b[0m\u001b[0;34m\u001b[0m\u001b[0m\n\u001b[1;32m    677\u001b[0m         \u001b[0mindex\u001b[0m \u001b[0;34m=\u001b[0m \u001b[0mself\u001b[0m\u001b[0;34m.\u001b[0m\u001b[0m_next_index\u001b[0m\u001b[0;34m(\u001b[0m\u001b[0;34m)\u001b[0m  \u001b[0;31m# may raise StopIteration\u001b[0m\u001b[0;34m\u001b[0m\u001b[0;34m\u001b[0m\u001b[0m\n\u001b[0;32m--> 678\u001b[0;31m         \u001b[0mdata\u001b[0m \u001b[0;34m=\u001b[0m \u001b[0mself\u001b[0m\u001b[0;34m.\u001b[0m\u001b[0m_dataset_fetcher\u001b[0m\u001b[0;34m.\u001b[0m\u001b[0mfetch\u001b[0m\u001b[0;34m(\u001b[0m\u001b[0mindex\u001b[0m\u001b[0;34m)\u001b[0m  \u001b[0;31m# may raise StopIteration\u001b[0m\u001b[0;34m\u001b[0m\u001b[0;34m\u001b[0m\u001b[0m\n\u001b[0m\u001b[1;32m    679\u001b[0m         \u001b[0;32mif\u001b[0m \u001b[0mself\u001b[0m\u001b[0;34m.\u001b[0m\u001b[0m_pin_memory\u001b[0m\u001b[0;34m:\u001b[0m\u001b[0;34m\u001b[0m\u001b[0;34m\u001b[0m\u001b[0m\n\u001b[1;32m    680\u001b[0m             \u001b[0mdata\u001b[0m \u001b[0;34m=\u001b[0m \u001b[0m_utils\u001b[0m\u001b[0;34m.\u001b[0m\u001b[0mpin_memory\u001b[0m\u001b[0;34m.\u001b[0m\u001b[0mpin_memory\u001b[0m\u001b[0;34m(\u001b[0m\u001b[0mdata\u001b[0m\u001b[0;34m,\u001b[0m \u001b[0mself\u001b[0m\u001b[0;34m.\u001b[0m\u001b[0m_pin_memory_device\u001b[0m\u001b[0;34m)\u001b[0m\u001b[0;34m\u001b[0m\u001b[0;34m\u001b[0m\u001b[0m\n",
            "\u001b[0;32m/usr/local/lib/python3.9/dist-packages/torch/utils/data/_utils/fetch.py\u001b[0m in \u001b[0;36mfetch\u001b[0;34m(self, possibly_batched_index)\u001b[0m\n\u001b[1;32m     49\u001b[0m                 \u001b[0mdata\u001b[0m \u001b[0;34m=\u001b[0m \u001b[0mself\u001b[0m\u001b[0;34m.\u001b[0m\u001b[0mdataset\u001b[0m\u001b[0;34m.\u001b[0m\u001b[0m__getitems__\u001b[0m\u001b[0;34m(\u001b[0m\u001b[0mpossibly_batched_index\u001b[0m\u001b[0;34m)\u001b[0m\u001b[0;34m\u001b[0m\u001b[0;34m\u001b[0m\u001b[0m\n\u001b[1;32m     50\u001b[0m             \u001b[0;32melse\u001b[0m\u001b[0;34m:\u001b[0m\u001b[0;34m\u001b[0m\u001b[0;34m\u001b[0m\u001b[0m\n\u001b[0;32m---> 51\u001b[0;31m                 \u001b[0mdata\u001b[0m \u001b[0;34m=\u001b[0m \u001b[0;34m[\u001b[0m\u001b[0mself\u001b[0m\u001b[0;34m.\u001b[0m\u001b[0mdataset\u001b[0m\u001b[0;34m[\u001b[0m\u001b[0midx\u001b[0m\u001b[0;34m]\u001b[0m \u001b[0;32mfor\u001b[0m \u001b[0midx\u001b[0m \u001b[0;32min\u001b[0m \u001b[0mpossibly_batched_index\u001b[0m\u001b[0;34m]\u001b[0m\u001b[0;34m\u001b[0m\u001b[0;34m\u001b[0m\u001b[0m\n\u001b[0m\u001b[1;32m     52\u001b[0m         \u001b[0;32melse\u001b[0m\u001b[0;34m:\u001b[0m\u001b[0;34m\u001b[0m\u001b[0;34m\u001b[0m\u001b[0m\n\u001b[1;32m     53\u001b[0m             \u001b[0mdata\u001b[0m \u001b[0;34m=\u001b[0m \u001b[0mself\u001b[0m\u001b[0;34m.\u001b[0m\u001b[0mdataset\u001b[0m\u001b[0;34m[\u001b[0m\u001b[0mpossibly_batched_index\u001b[0m\u001b[0;34m]\u001b[0m\u001b[0;34m\u001b[0m\u001b[0;34m\u001b[0m\u001b[0m\n",
            "\u001b[0;32m/usr/local/lib/python3.9/dist-packages/torch/utils/data/_utils/fetch.py\u001b[0m in \u001b[0;36m<listcomp>\u001b[0;34m(.0)\u001b[0m\n\u001b[1;32m     49\u001b[0m                 \u001b[0mdata\u001b[0m \u001b[0;34m=\u001b[0m \u001b[0mself\u001b[0m\u001b[0;34m.\u001b[0m\u001b[0mdataset\u001b[0m\u001b[0;34m.\u001b[0m\u001b[0m__getitems__\u001b[0m\u001b[0;34m(\u001b[0m\u001b[0mpossibly_batched_index\u001b[0m\u001b[0;34m)\u001b[0m\u001b[0;34m\u001b[0m\u001b[0;34m\u001b[0m\u001b[0m\n\u001b[1;32m     50\u001b[0m             \u001b[0;32melse\u001b[0m\u001b[0;34m:\u001b[0m\u001b[0;34m\u001b[0m\u001b[0;34m\u001b[0m\u001b[0m\n\u001b[0;32m---> 51\u001b[0;31m                 \u001b[0mdata\u001b[0m \u001b[0;34m=\u001b[0m \u001b[0;34m[\u001b[0m\u001b[0mself\u001b[0m\u001b[0;34m.\u001b[0m\u001b[0mdataset\u001b[0m\u001b[0;34m[\u001b[0m\u001b[0midx\u001b[0m\u001b[0;34m]\u001b[0m \u001b[0;32mfor\u001b[0m \u001b[0midx\u001b[0m \u001b[0;32min\u001b[0m \u001b[0mpossibly_batched_index\u001b[0m\u001b[0;34m]\u001b[0m\u001b[0;34m\u001b[0m\u001b[0;34m\u001b[0m\u001b[0m\n\u001b[0m\u001b[1;32m     52\u001b[0m         \u001b[0;32melse\u001b[0m\u001b[0;34m:\u001b[0m\u001b[0;34m\u001b[0m\u001b[0;34m\u001b[0m\u001b[0m\n\u001b[1;32m     53\u001b[0m             \u001b[0mdata\u001b[0m \u001b[0;34m=\u001b[0m \u001b[0mself\u001b[0m\u001b[0;34m.\u001b[0m\u001b[0mdataset\u001b[0m\u001b[0;34m[\u001b[0m\u001b[0mpossibly_batched_index\u001b[0m\u001b[0;34m]\u001b[0m\u001b[0;34m\u001b[0m\u001b[0;34m\u001b[0m\u001b[0m\n",
            "\u001b[0;32m<ipython-input-28-9d4aa5f74e88>\u001b[0m in \u001b[0;36m__getitem__\u001b[0;34m(self, idx)\u001b[0m\n\u001b[1;32m     13\u001b[0m     \u001b[0;32mdef\u001b[0m \u001b[0m__getitem__\u001b[0m\u001b[0;34m(\u001b[0m\u001b[0mself\u001b[0m\u001b[0;34m,\u001b[0m \u001b[0midx\u001b[0m\u001b[0;34m)\u001b[0m\u001b[0;34m:\u001b[0m\u001b[0;34m\u001b[0m\u001b[0;34m\u001b[0m\u001b[0m\n\u001b[1;32m     14\u001b[0m         \u001b[0mstart_node\u001b[0m \u001b[0;34m=\u001b[0m \u001b[0mself\u001b[0m\u001b[0;34m.\u001b[0m\u001b[0mstart_nodes\u001b[0m\u001b[0;34m[\u001b[0m\u001b[0midx\u001b[0m\u001b[0;34m]\u001b[0m\u001b[0;34m\u001b[0m\u001b[0;34m\u001b[0m\u001b[0m\n\u001b[0;32m---> 15\u001b[0;31m         \u001b[0mpos_context\u001b[0m \u001b[0;34m=\u001b[0m \u001b[0mself\u001b[0m\u001b[0;34m.\u001b[0m\u001b[0mcontext_nodes\u001b[0m\u001b[0;34m[\u001b[0m\u001b[0midx\u001b[0m\u001b[0;34m]\u001b[0m\u001b[0;34m\u001b[0m\u001b[0;34m\u001b[0m\u001b[0m\n\u001b[0m\u001b[1;32m     16\u001b[0m         \u001b[0mneg_context\u001b[0m \u001b[0;34m=\u001b[0m \u001b[0mtorch\u001b[0m\u001b[0;34m.\u001b[0m\u001b[0mrandint\u001b[0m\u001b[0;34m(\u001b[0m\u001b[0;36m0\u001b[0m\u001b[0;34m,\u001b[0m \u001b[0mself\u001b[0m\u001b[0;34m.\u001b[0m\u001b[0mn_nodes\u001b[0m\u001b[0;34m,\u001b[0m \u001b[0;34m(\u001b[0m\u001b[0mself\u001b[0m\u001b[0;34m.\u001b[0m\u001b[0mlen_context\u001b[0m\u001b[0;34m,\u001b[0m \u001b[0mself\u001b[0m\u001b[0;34m.\u001b[0m\u001b[0mn_neg\u001b[0m\u001b[0;34m)\u001b[0m\u001b[0;34m)\u001b[0m\u001b[0;34m\u001b[0m\u001b[0;34m\u001b[0m\u001b[0m\n\u001b[1;32m     17\u001b[0m         \u001b[0;32mreturn\u001b[0m \u001b[0mstart_node\u001b[0m\u001b[0;34m,\u001b[0m \u001b[0mpos_context\u001b[0m\u001b[0;34m,\u001b[0m \u001b[0mneg_context\u001b[0m\u001b[0;34m\u001b[0m\u001b[0;34m\u001b[0m\u001b[0m\n",
            "\u001b[0;31mKeyboardInterrupt\u001b[0m: "
          ]
        }
      ],
      "source": [
        "best_p, best_q = grid_search_pq(G, labels)\n",
        "rwalks = sample_biased_random_walks(G, 5, 5, best_p, best_q)\n",
        "dataset = NodeContextDataset(rwalks, len(G), n_neg=5)\n",
        "dloader = DataLoader(dataset, batch_size=len(G))\n",
        "sgmodel = SkipGramNegativeSampling(n_nodes=len(G), dim=16)\n",
        "opt = Adam(sgmodel.parameters(), lr=0.1)\n",
        "dloader = DataLoader(dataset, batch_size=len(G))\n",
        "for epoch in trange(50):\n",
        "    for start_nodes, pos_context, neg_context in dloader:\n",
        "        loss = sgmodel(start_nodes, pos_context, neg_context).sum(dim=1).mean()\n",
        "        opt.zero_grad()\n",
        "        loss.backward()\n",
        "        opt.step()\n",
        "with torch.no_grad():\n",
        "    emb = sgmodel.start_node_emb(torch.arange(len(G)))\n",
        "_, pred_labels, _ = k_means(emb, n_clusters=8)\n",
        "mi = mutual_info_score(labels, pred_labels)\n",
        "assert mi > 0.21"
      ]
    },
    {
      "cell_type": "markdown",
      "id": "e8b11faf",
      "metadata": {
        "id": "e8b11faf"
      },
      "source": [
        "Plot t-SNE visualization of node embeddings."
      ]
    },
    {
      "cell_type": "code",
      "execution_count": null,
      "id": "01404606",
      "metadata": {
        "id": "01404606"
      },
      "outputs": [],
      "source": [
        "decomposition = TSNE(n_components=2)\n",
        "xy_emb = decomposition.fit_transform(emb)\n",
        "\n",
        "plt.figure(figsize=(8, 8))\n",
        "scatter = plt.scatter(xy_emb[:, 0], xy_emb[:, 1], c=labels, s=10, cmap=plt.cm.Set2)\n",
        "\n",
        "plt.legend(handles=scatter.legend_elements()[0], labels=unique)\n",
        "plt.title(f'MI: {mi:.4f}');"
      ]
    },
    {
      "cell_type": "markdown",
      "id": "424ca6b6",
      "metadata": {
        "id": "424ca6b6"
      },
      "source": [
        "### Task 3. Hierarchical softmax (4 points)"
      ]
    },
    {
      "cell_type": "markdown",
      "id": "54588aa6",
      "metadata": {
        "id": "54588aa6"
      },
      "source": [
        "Hierarchical softmax is an alternative way to approximate softmax in DeepWalk and similar models such as Walklets, Node2Vec. Remind the regular loss function with softmax:\n",
        "\n",
        "$$\\mathcal L = - \\frac{1}{|V|\\times N} \\sum_{i=1}^{|V|\\times N} \\sum_{j=1}^L \\log P(j|i) = - \\frac{1}{|V|\\times N} \\sum_{i=1}^{|V|\\times N} \\sum_{j=1}^L \\log \\frac{\\exp(v_i^\\top u_j)}{\\sum_{k=1}^{|V|}\\exp(v_i^\\top u_k)}$$\n",
        "\n",
        "We have observed that computing $\\sum_{k=1}^{|V|}\\exp(v_i^\\top u_k)$ is expensive in a large network. Indeed, it takes $O(|V|)$ since we need to compute $v_i^\\top u_k$ for each $k$. \n",
        "\n",
        "Hierarchical softmax allows to approximate softmax by propagation probabilities in a binary tree where leaves are nodes in the original network. Consider a simple network on 6 nodes and the corresponding binary tree.\n",
        "\n",
        "<img src=\"https://raw.githubusercontent.com/netspractice/network-science/main/images/hs_btree.png\" width=600>\n",
        "\n",
        "We observe that leaves correspond to nodes in the network: the leaf 5 corresponds to the node 0, the leaf 6 corresponds to the node 1 and so on. Let us call all other white nodes in the binary tree units.\n",
        "\n",
        "Write a function `get_binary_tree` that takes number of leaves and returns a binary tree.\n",
        "\n",
        "_Hint: create a binary tree by `nx.balanced_tree(2, depth, nx.DiGraph)` and drop extra leaves. The depth of the tree can be calculated as $\\lceil \\log_2 |V| \\rceil$._"
      ]
    },
    {
      "cell_type": "code",
      "source": [
        "import math\n",
        "import random"
      ],
      "metadata": {
        "id": "zIzf_1hRmefZ"
      },
      "id": "zIzf_1hRmefZ",
      "execution_count": 79,
      "outputs": []
    },
    {
      "cell_type": "code",
      "execution_count": 84,
      "id": "0e189631",
      "metadata": {
        "deletable": false,
        "id": "0e189631",
        "nbgrader": {
          "cell_type": "code",
          "checksum": "01c8b6fa4bd256a22b699e36c1556bbd",
          "grade": false,
          "grade_id": "cell-fa6e506ce6741f45",
          "locked": false,
          "schema_version": 3,
          "solution": true,
          "task": false
        }
      },
      "outputs": [],
      "source": [
        "def get_binary_tree(n_leaves):\n",
        "    # YOUR CODE HERE\n",
        "    depth = math.ceil(math.log2(n_leaves))\n",
        "    tree = nx.balanced_tree(2, depth, create_using=nx.DiGraph)\n",
        "    extra_leaves = set(tree.nodes)[n_leaves:]\n",
        "    tree.remove_nodes_from(extra_leaves)\n",
        "    return tree\n",
        "    "
      ]
    },
    {
      "cell_type": "code",
      "execution_count": 85,
      "id": "e090bf47",
      "metadata": {
        "deletable": false,
        "editable": false,
        "id": "e090bf47",
        "nbgrader": {
          "cell_type": "code",
          "checksum": "8fcd40389d09de393cba575495e2513d",
          "grade": true,
          "grade_id": "cell-12931d335d97bb1c",
          "locked": true,
          "points": 1,
          "schema_version": 3,
          "solution": false,
          "task": false
        },
        "outputId": "c9d937ac-abcb-480a-c671-e5bd5667b3b6",
        "colab": {
          "base_uri": "https://localhost:8080/",
          "height": 357
        }
      },
      "outputs": [
        {
          "output_type": "error",
          "ename": "TypeError",
          "evalue": "ignored",
          "traceback": [
            "\u001b[0;31m---------------------------------------------------------------------------\u001b[0m",
            "\u001b[0;31mTypeError\u001b[0m                                 Traceback (most recent call last)",
            "\u001b[0;32m<ipython-input-85-58582c134536>\u001b[0m in \u001b[0;36m<cell line: 1>\u001b[0;34m()\u001b[0m\n\u001b[0;32m----> 1\u001b[0;31m \u001b[0mbtree\u001b[0m \u001b[0;34m=\u001b[0m \u001b[0mget_binary_tree\u001b[0m\u001b[0;34m(\u001b[0m\u001b[0mn_leaves\u001b[0m\u001b[0;34m=\u001b[0m\u001b[0mlen\u001b[0m\u001b[0;34m(\u001b[0m\u001b[0mG\u001b[0m\u001b[0;34m)\u001b[0m\u001b[0;34m)\u001b[0m\u001b[0;34m\u001b[0m\u001b[0;34m\u001b[0m\u001b[0m\n\u001b[0m\u001b[1;32m      2\u001b[0m \u001b[0mleaves\u001b[0m \u001b[0;34m=\u001b[0m \u001b[0;34m[\u001b[0m\u001b[0mn\u001b[0m \u001b[0;32mfor\u001b[0m \u001b[0mn\u001b[0m \u001b[0;32min\u001b[0m \u001b[0mbtree\u001b[0m\u001b[0;34m.\u001b[0m\u001b[0mnodes\u001b[0m \u001b[0;32mif\u001b[0m \u001b[0mbtree\u001b[0m\u001b[0;34m.\u001b[0m\u001b[0mdegree\u001b[0m\u001b[0;34m[\u001b[0m\u001b[0mn\u001b[0m\u001b[0;34m]\u001b[0m \u001b[0;34m==\u001b[0m \u001b[0;36m1\u001b[0m\u001b[0;34m]\u001b[0m\u001b[0;34m\u001b[0m\u001b[0;34m\u001b[0m\u001b[0m\n\u001b[1;32m      3\u001b[0m \u001b[0;32massert\u001b[0m \u001b[0mlen\u001b[0m\u001b[0;34m(\u001b[0m\u001b[0mleaves\u001b[0m\u001b[0;34m)\u001b[0m \u001b[0;34m==\u001b[0m \u001b[0mlen\u001b[0m\u001b[0;34m(\u001b[0m\u001b[0mG\u001b[0m\u001b[0;34m)\u001b[0m\u001b[0;34m\u001b[0m\u001b[0;34m\u001b[0m\u001b[0m\n\u001b[1;32m      4\u001b[0m \u001b[0;32massert\u001b[0m \u001b[0mlist\u001b[0m\u001b[0;34m(\u001b[0m\u001b[0mbtree\u001b[0m\u001b[0;34m.\u001b[0m\u001b[0mnodes\u001b[0m\u001b[0;34m)\u001b[0m\u001b[0;34m[\u001b[0m\u001b[0;36m0\u001b[0m\u001b[0;34m]\u001b[0m \u001b[0;34m==\u001b[0m \u001b[0;36m0\u001b[0m\u001b[0;34m\u001b[0m\u001b[0;34m\u001b[0m\u001b[0m\n\u001b[1;32m      5\u001b[0m \u001b[0;32massert\u001b[0m \u001b[0mnx\u001b[0m\u001b[0;34m.\u001b[0m\u001b[0mis_weakly_connected\u001b[0m\u001b[0;34m(\u001b[0m\u001b[0mbtree\u001b[0m\u001b[0;34m)\u001b[0m\u001b[0;34m\u001b[0m\u001b[0;34m\u001b[0m\u001b[0m\n",
            "\u001b[0;32m<ipython-input-84-a35fb8c82b6d>\u001b[0m in \u001b[0;36mget_binary_tree\u001b[0;34m(n_leaves)\u001b[0m\n\u001b[1;32m      3\u001b[0m     \u001b[0mdepth\u001b[0m \u001b[0;34m=\u001b[0m \u001b[0mmath\u001b[0m\u001b[0;34m.\u001b[0m\u001b[0mceil\u001b[0m\u001b[0;34m(\u001b[0m\u001b[0mmath\u001b[0m\u001b[0;34m.\u001b[0m\u001b[0mlog2\u001b[0m\u001b[0;34m(\u001b[0m\u001b[0mn_leaves\u001b[0m\u001b[0;34m)\u001b[0m\u001b[0;34m)\u001b[0m\u001b[0;34m\u001b[0m\u001b[0;34m\u001b[0m\u001b[0m\n\u001b[1;32m      4\u001b[0m     \u001b[0mtree\u001b[0m \u001b[0;34m=\u001b[0m \u001b[0mnx\u001b[0m\u001b[0;34m.\u001b[0m\u001b[0mbalanced_tree\u001b[0m\u001b[0;34m(\u001b[0m\u001b[0;36m2\u001b[0m\u001b[0;34m,\u001b[0m \u001b[0mdepth\u001b[0m\u001b[0;34m,\u001b[0m \u001b[0mcreate_using\u001b[0m\u001b[0;34m=\u001b[0m\u001b[0mnx\u001b[0m\u001b[0;34m.\u001b[0m\u001b[0mDiGraph\u001b[0m\u001b[0;34m)\u001b[0m\u001b[0;34m\u001b[0m\u001b[0;34m\u001b[0m\u001b[0m\n\u001b[0;32m----> 5\u001b[0;31m     \u001b[0mextra_leaves\u001b[0m \u001b[0;34m=\u001b[0m \u001b[0mset\u001b[0m\u001b[0;34m(\u001b[0m\u001b[0mtree\u001b[0m\u001b[0;34m.\u001b[0m\u001b[0mnodes\u001b[0m\u001b[0;34m)\u001b[0m\u001b[0;34m[\u001b[0m\u001b[0mn_leaves\u001b[0m\u001b[0;34m:\u001b[0m\u001b[0;34m]\u001b[0m\u001b[0;34m\u001b[0m\u001b[0;34m\u001b[0m\u001b[0m\n\u001b[0m\u001b[1;32m      6\u001b[0m     \u001b[0mtree\u001b[0m\u001b[0;34m.\u001b[0m\u001b[0mremove_nodes_from\u001b[0m\u001b[0;34m(\u001b[0m\u001b[0mextra_leaves\u001b[0m\u001b[0;34m)\u001b[0m\u001b[0;34m\u001b[0m\u001b[0;34m\u001b[0m\u001b[0m\n\u001b[1;32m      7\u001b[0m     \u001b[0;32mreturn\u001b[0m \u001b[0mtree\u001b[0m\u001b[0;34m\u001b[0m\u001b[0;34m\u001b[0m\u001b[0m\n",
            "\u001b[0;31mTypeError\u001b[0m: 'set' object is not subscriptable"
          ]
        }
      ],
      "source": [
        "btree = get_binary_tree(n_leaves=len(G))\n",
        "leaves = [n for n in btree.nodes if btree.degree[n] == 1]\n",
        "assert len(leaves) == len(G)\n",
        "assert list(btree.nodes)[0] == 0\n",
        "assert nx.is_weakly_connected(btree)\n",
        "assert btree.in_degree[0] == 0\n",
        "assert np.all([btree.in_degree[n] == 1 for n in range(1, len(btree))])\n",
        "assert np.all([btree.out_degree[n] == 2 for n in range(len(btree) - len(leaves))])\n",
        "assert np.all([btree.out_degree[n] == 0 for n in range(len(btree) - len(leaves), len(btree))])"
      ]
    },
    {
      "cell_type": "markdown",
      "id": "54c33394",
      "metadata": {
        "id": "54c33394"
      },
      "source": [
        "If we assign a probability conditioned by the start node for each unit, we can calculate a probability of each context node as the product of probabilities of all units in the path from the root unit to a corresponding leaf taking $p_i$ if we go to the left and $1 - p_i$ if we go to the right from the unit $i$. For example, consider a path from the root unit to the context node 5 (leaf 10):\n",
        "\n",
        "<img src=\"https://raw.githubusercontent.com/netspractice/network-science/main/images/hs_btree_proba.png\" width=600>\n",
        "\n",
        "$$P(5|i) = p_0\\cdot (1-p_1) \\cdot (1-p_4)$$\n",
        "\n",
        "We can observe following thigs:\n",
        "* Each unit divides probability space into two subspace, so that probabilities on leaves are summed up to 1.\n",
        "* We make only 3 multiplucations instead of 6 summations in regular softmax. Indeed, the number of multiplications is equal to the depth of the binary tree $O(\\log_2|V|)$. The number of summations in regular softmax is $O(|V|)$. That is, the cost of calculating probabilities for all context nodes is reduced from $O(|V|^2)$ to $O(|V|\\log_2|V|)$.\n",
        "\n",
        "We condition probabilities by the start node as follows:\n",
        "\n",
        "$$p_j(i) = \\sigma(v_i^\\top u_j)$$\n",
        "\n",
        "where $v_i$ is embedding of the start node $i$ and $u_j$ is embedding of the unit $j$. Thus, we have no embeddings for context nodes in this model. Note that $1-\\sigma(v_i^\\top u_j)$ can be substituted to $\\sigma(-v_i^\\top u_j)$. Let us call a sign under the sigmoid a turn $t_k$: $-1$ if we go to the left and $1$ if we go to the right. Thus the probability of co-occurance of the context node 5 and the start node, say, 1 is\n",
        "\n",
        "$$P(5|1) = \\sigma(t_0 v_1^\\top u_0) \\cdot \\sigma(t_1 v_1^\\top u_1) \\cdot \\sigma(t_2 v_1^\\top u_4)$$\n",
        "\n",
        "where $t_0=1$, $t_1=-1$, $t_2=-1$. Our objective is to maximize the probability of co-occurance of start nodes and context nodes by minimizing the negative log-likelihood, thus the loss function is turned out to\n",
        "\n",
        "$$\\mathcal L = - \\frac{1}{|V|\\times N} \\sum_{i=1}^{|V|\\times N} \\sum_{j=1}^L \\sum_{k=1}^K\\log \\sigma(t_{[jk]} v_i^\\top u_{[jk]})$$\n",
        "\n",
        "where $K$ is the path length from the root to the leaf excluding the leaf. Subscript $[jk]$ means the index corresponded to k-th step of the path to j-th context node. Note that the path length depends on a leaf, it makes calculating loss in mini-batch training inconvenient, so let us set $K$ as the depth of the tree and multiply the loss by _training mask_ $z_{jk}$: $0$ for all $k$ that greater than path length and $1$ otherwise. The final loss function is\n",
        "\n",
        "$$\\mathcal L = - \\frac{1}{|V|\\times N} \\sum_{i=1}^{|V|\\times N} \\sum_{j=1}^L \\sum_{k=1}^K\\log \\sigma(t_{[jk]} v_i^\\top u_{[jk]}) z_{[jk]}$$"
      ]
    },
    {
      "cell_type": "markdown",
      "id": "c3d18ee4",
      "metadata": {
        "id": "c3d18ee4"
      },
      "source": [
        "Let us create a dataset for computing a such loss function. Write a class `NodePathDataset`. \n",
        "\n",
        "Function `__init__` takes random walks, binary tree, depth of the binary tree and finds paths for each leaf.\n",
        "\n",
        "Function `__len__` returns the number of random walks.\n",
        "\n",
        "Function `__getitem__` takes an index of random walk and returns a tuple:\n",
        "\n",
        "* start node, torch.int64\n",
        "* context nodes, torch.tensor of the shape (number of context nodes)\n",
        "* paths to the context nodes excluding a leaf: torch.tensor of the shape (number of context nodes, depth). Padded with zeros if the depth is greater than the path length.\n",
        "* turns on the paths: torch.tensor of the shape (number of context nodes, depth). Padded with zeros if the depth is greater than the path length. Define the left turn as a link to the even unit.\n",
        "* training mask on the paths: torch.tensor of the shape (number of context nodes, depth)\n",
        "\n",
        "_Hint: use `nx.shortest_path(btree, 0, n)` to find a path from the root unit to the leaf `n` in the tree._"
      ]
    },
    {
      "cell_type": "code",
      "execution_count": 90,
      "id": "cac4889a",
      "metadata": {
        "deletable": false,
        "id": "cac4889a",
        "nbgrader": {
          "cell_type": "code",
          "checksum": "c0cc9935a2395e5bc227fbeb197535d8",
          "grade": false,
          "grade_id": "cell-48de35ab799a5afd",
          "locked": false,
          "schema_version": 3,
          "solution": true,
          "task": false
        }
      },
      "outputs": [],
      "source": [
        "class NodePathDataset(Dataset):\n",
        "    def __init__(self, rwalks, btree, depth):\n",
        "        self.start_nodes = torch.tensor(rwalks[:, 0])\n",
        "        self.context = torch.tensor(rwalks[:, 1:])\n",
        "        self.paths = []\n",
        "        self.turns = []\n",
        "        self.masks = []\n",
        "        # YOUR CODE HERE\n",
        "        for i in range(len(self.context)):\n",
        "            for j in range(len(self.context[i])):\n",
        "                path = nx.shortest_path(btree, source=0, target=self.context[i][j])\n",
        "                path = path[:-1]  # exclude the leaf node\n",
        "                self.paths.append(path + [0] * (depth - len(path)))  # pad with zeros\n",
        "                self.turns.append([1 - 2 * int(n % 2 == 0) for n in path] + [0] * (depth - len(path)))  # pad with zeros\n",
        "                self.masks.append([1] * len(path) + [0] * (depth - len(path)))\n",
        "        ####        \n",
        "\n",
        "\n",
        "        self.paths = torch.tensor(self.paths)\n",
        "        self.turns = torch.tensor(self.turns)\n",
        "        self.masks = torch.tensor(self.masks)\n",
        "\n",
        "    def __len__(self):\n",
        "        return len(self.start_nodes)\n",
        "\n",
        "    def __getitem__(self, idx):\n",
        "        return (\n",
        "            self.start_nodes[idx], \n",
        "            self.context[idx], \n",
        "            self.paths[self.context[idx]], \n",
        "            self.turns[self.context[idx]], \n",
        "            self.masks[self.context[idx]]\n",
        "        )"
      ]
    },
    {
      "cell_type": "code",
      "execution_count": 91,
      "id": "a76c831f",
      "metadata": {
        "deletable": false,
        "editable": false,
        "id": "a76c831f",
        "nbgrader": {
          "cell_type": "code",
          "checksum": "d8ce7f617444f4b2c156cc851907e46d",
          "grade": true,
          "grade_id": "cell-41adebff43c8f34d",
          "locked": true,
          "points": 1,
          "schema_version": 3,
          "solution": false,
          "task": false
        },
        "outputId": "4da5e23f-1fc2-4315-c29e-2c833c0235f8",
        "colab": {
          "base_uri": "https://localhost:8080/",
          "height": 381
        }
      },
      "outputs": [
        {
          "output_type": "error",
          "ename": "NodeNotFound",
          "evalue": "ignored",
          "traceback": [
            "\u001b[0;31m---------------------------------------------------------------------------\u001b[0m",
            "\u001b[0;31mNodeNotFound\u001b[0m                              Traceback (most recent call last)",
            "\u001b[0;32m<ipython-input-91-f312b0276596>\u001b[0m in \u001b[0;36m<cell line: 2>\u001b[0;34m()\u001b[0m\n\u001b[1;32m      1\u001b[0m \u001b[0mdepth\u001b[0m \u001b[0;34m=\u001b[0m \u001b[0;36m12\u001b[0m\u001b[0;34m\u001b[0m\u001b[0;34m\u001b[0m\u001b[0m\n\u001b[0;32m----> 2\u001b[0;31m \u001b[0mdataset\u001b[0m \u001b[0;34m=\u001b[0m \u001b[0mNodePathDataset\u001b[0m\u001b[0;34m(\u001b[0m\u001b[0mrwalks\u001b[0m\u001b[0;34m,\u001b[0m \u001b[0mbtree\u001b[0m\u001b[0;34m,\u001b[0m \u001b[0mdepth\u001b[0m\u001b[0;34m)\u001b[0m\u001b[0;34m\u001b[0m\u001b[0;34m\u001b[0m\u001b[0m\n\u001b[0m\u001b[1;32m      3\u001b[0m \u001b[0mstart_node\u001b[0m\u001b[0;34m,\u001b[0m \u001b[0mcontext\u001b[0m\u001b[0;34m,\u001b[0m \u001b[0mpaths\u001b[0m\u001b[0;34m,\u001b[0m \u001b[0mturns\u001b[0m\u001b[0;34m,\u001b[0m \u001b[0mmasks\u001b[0m \u001b[0;34m=\u001b[0m \u001b[0mdataset\u001b[0m\u001b[0;34m[\u001b[0m\u001b[0;36m0\u001b[0m\u001b[0;34m]\u001b[0m\u001b[0;34m\u001b[0m\u001b[0;34m\u001b[0m\u001b[0m\n\u001b[1;32m      4\u001b[0m \u001b[0;32massert\u001b[0m \u001b[0mstart_node\u001b[0m\u001b[0;34m.\u001b[0m\u001b[0mshape\u001b[0m \u001b[0;34m==\u001b[0m \u001b[0;34m(\u001b[0m\u001b[0;34m)\u001b[0m\u001b[0;34m\u001b[0m\u001b[0;34m\u001b[0m\u001b[0m\n\u001b[1;32m      5\u001b[0m \u001b[0;32massert\u001b[0m \u001b[0mcontext\u001b[0m\u001b[0;34m.\u001b[0m\u001b[0mshape\u001b[0m \u001b[0;34m==\u001b[0m \u001b[0;34m(\u001b[0m\u001b[0;36m4\u001b[0m\u001b[0;34m,\u001b[0m\u001b[0;34m)\u001b[0m\u001b[0;34m\u001b[0m\u001b[0;34m\u001b[0m\u001b[0m\n",
            "\u001b[0;32m<ipython-input-90-062c6a9d3d54>\u001b[0m in \u001b[0;36m__init__\u001b[0;34m(self, rwalks, btree, depth)\u001b[0m\n\u001b[1;32m      9\u001b[0m         \u001b[0;32mfor\u001b[0m \u001b[0mi\u001b[0m \u001b[0;32min\u001b[0m \u001b[0mrange\u001b[0m\u001b[0;34m(\u001b[0m\u001b[0mlen\u001b[0m\u001b[0;34m(\u001b[0m\u001b[0mself\u001b[0m\u001b[0;34m.\u001b[0m\u001b[0mcontext\u001b[0m\u001b[0;34m)\u001b[0m\u001b[0;34m)\u001b[0m\u001b[0;34m:\u001b[0m\u001b[0;34m\u001b[0m\u001b[0;34m\u001b[0m\u001b[0m\n\u001b[1;32m     10\u001b[0m             \u001b[0;32mfor\u001b[0m \u001b[0mj\u001b[0m \u001b[0;32min\u001b[0m \u001b[0mrange\u001b[0m\u001b[0;34m(\u001b[0m\u001b[0mlen\u001b[0m\u001b[0;34m(\u001b[0m\u001b[0mself\u001b[0m\u001b[0;34m.\u001b[0m\u001b[0mcontext\u001b[0m\u001b[0;34m[\u001b[0m\u001b[0mi\u001b[0m\u001b[0;34m]\u001b[0m\u001b[0;34m)\u001b[0m\u001b[0;34m)\u001b[0m\u001b[0;34m:\u001b[0m\u001b[0;34m\u001b[0m\u001b[0;34m\u001b[0m\u001b[0m\n\u001b[0;32m---> 11\u001b[0;31m                 \u001b[0mpath\u001b[0m \u001b[0;34m=\u001b[0m \u001b[0mnx\u001b[0m\u001b[0;34m.\u001b[0m\u001b[0mshortest_path\u001b[0m\u001b[0;34m(\u001b[0m\u001b[0mbtree\u001b[0m\u001b[0;34m,\u001b[0m \u001b[0msource\u001b[0m\u001b[0;34m=\u001b[0m\u001b[0;36m0\u001b[0m\u001b[0;34m,\u001b[0m \u001b[0mtarget\u001b[0m\u001b[0;34m=\u001b[0m\u001b[0mself\u001b[0m\u001b[0;34m.\u001b[0m\u001b[0mcontext\u001b[0m\u001b[0;34m[\u001b[0m\u001b[0mi\u001b[0m\u001b[0;34m]\u001b[0m\u001b[0;34m[\u001b[0m\u001b[0mj\u001b[0m\u001b[0;34m]\u001b[0m\u001b[0;34m)\u001b[0m\u001b[0;34m\u001b[0m\u001b[0;34m\u001b[0m\u001b[0m\n\u001b[0m\u001b[1;32m     12\u001b[0m                 \u001b[0mpath\u001b[0m \u001b[0;34m=\u001b[0m \u001b[0mpath\u001b[0m\u001b[0;34m[\u001b[0m\u001b[0;34m:\u001b[0m\u001b[0;34m-\u001b[0m\u001b[0;36m1\u001b[0m\u001b[0;34m]\u001b[0m  \u001b[0;31m# exclude the leaf node\u001b[0m\u001b[0;34m\u001b[0m\u001b[0;34m\u001b[0m\u001b[0m\n\u001b[1;32m     13\u001b[0m                 \u001b[0mself\u001b[0m\u001b[0;34m.\u001b[0m\u001b[0mpaths\u001b[0m\u001b[0;34m.\u001b[0m\u001b[0mappend\u001b[0m\u001b[0;34m(\u001b[0m\u001b[0mpath\u001b[0m \u001b[0;34m+\u001b[0m \u001b[0;34m[\u001b[0m\u001b[0;36m0\u001b[0m\u001b[0;34m]\u001b[0m \u001b[0;34m*\u001b[0m \u001b[0;34m(\u001b[0m\u001b[0mdepth\u001b[0m \u001b[0;34m-\u001b[0m \u001b[0mlen\u001b[0m\u001b[0;34m(\u001b[0m\u001b[0mpath\u001b[0m\u001b[0;34m)\u001b[0m\u001b[0;34m)\u001b[0m\u001b[0;34m)\u001b[0m  \u001b[0;31m# pad with zeros\u001b[0m\u001b[0;34m\u001b[0m\u001b[0;34m\u001b[0m\u001b[0m\n",
            "\u001b[0;32m/usr/local/lib/python3.9/dist-packages/networkx/classes/backends.py\u001b[0m in \u001b[0;36mwrapper\u001b[0;34m(*args, **kwds)\u001b[0m\n\u001b[1;32m    146\u001b[0m                         \u001b[0;34mf\"'{name}' not implemented by {plugin_name}\"\u001b[0m\u001b[0;34m\u001b[0m\u001b[0;34m\u001b[0m\u001b[0m\n\u001b[1;32m    147\u001b[0m                     )\n\u001b[0;32m--> 148\u001b[0;31m         \u001b[0;32mreturn\u001b[0m \u001b[0mfunc\u001b[0m\u001b[0;34m(\u001b[0m\u001b[0;34m*\u001b[0m\u001b[0margs\u001b[0m\u001b[0;34m,\u001b[0m \u001b[0;34m**\u001b[0m\u001b[0mkwds\u001b[0m\u001b[0;34m)\u001b[0m\u001b[0;34m\u001b[0m\u001b[0;34m\u001b[0m\u001b[0m\n\u001b[0m\u001b[1;32m    149\u001b[0m \u001b[0;34m\u001b[0m\u001b[0m\n\u001b[1;32m    150\u001b[0m     \u001b[0;31m# Keep a handle to the original function to use when testing\u001b[0m\u001b[0;34m\u001b[0m\u001b[0;34m\u001b[0m\u001b[0m\n",
            "\u001b[0;32m/usr/local/lib/python3.9/dist-packages/networkx/algorithms/shortest_paths/generic.py\u001b[0m in \u001b[0;36mshortest_path\u001b[0;34m(G, source, target, weight, method)\u001b[0m\n\u001b[1;32m    169\u001b[0m             \u001b[0;31m# Find shortest source-target path.\u001b[0m\u001b[0;34m\u001b[0m\u001b[0;34m\u001b[0m\u001b[0m\n\u001b[1;32m    170\u001b[0m             \u001b[0;32mif\u001b[0m \u001b[0mmethod\u001b[0m \u001b[0;34m==\u001b[0m \u001b[0;34m\"unweighted\"\u001b[0m\u001b[0;34m:\u001b[0m\u001b[0;34m\u001b[0m\u001b[0;34m\u001b[0m\u001b[0m\n\u001b[0;32m--> 171\u001b[0;31m                 \u001b[0mpaths\u001b[0m \u001b[0;34m=\u001b[0m \u001b[0mnx\u001b[0m\u001b[0;34m.\u001b[0m\u001b[0mbidirectional_shortest_path\u001b[0m\u001b[0;34m(\u001b[0m\u001b[0mG\u001b[0m\u001b[0;34m,\u001b[0m \u001b[0msource\u001b[0m\u001b[0;34m,\u001b[0m \u001b[0mtarget\u001b[0m\u001b[0;34m)\u001b[0m\u001b[0;34m\u001b[0m\u001b[0;34m\u001b[0m\u001b[0m\n\u001b[0m\u001b[1;32m    172\u001b[0m             \u001b[0;32melif\u001b[0m \u001b[0mmethod\u001b[0m \u001b[0;34m==\u001b[0m \u001b[0;34m\"dijkstra\"\u001b[0m\u001b[0;34m:\u001b[0m\u001b[0;34m\u001b[0m\u001b[0;34m\u001b[0m\u001b[0m\n\u001b[1;32m    173\u001b[0m                 \u001b[0m_\u001b[0m\u001b[0;34m,\u001b[0m \u001b[0mpaths\u001b[0m \u001b[0;34m=\u001b[0m \u001b[0mnx\u001b[0m\u001b[0;34m.\u001b[0m\u001b[0mbidirectional_dijkstra\u001b[0m\u001b[0;34m(\u001b[0m\u001b[0mG\u001b[0m\u001b[0;34m,\u001b[0m \u001b[0msource\u001b[0m\u001b[0;34m,\u001b[0m \u001b[0mtarget\u001b[0m\u001b[0;34m,\u001b[0m \u001b[0mweight\u001b[0m\u001b[0;34m)\u001b[0m\u001b[0;34m\u001b[0m\u001b[0;34m\u001b[0m\u001b[0m\n",
            "\u001b[0;32m/usr/local/lib/python3.9/dist-packages/networkx/algorithms/shortest_paths/unweighted.py\u001b[0m in \u001b[0;36mbidirectional_shortest_path\u001b[0;34m(G, source, target)\u001b[0m\n\u001b[1;32m    235\u001b[0m     \u001b[0;32mif\u001b[0m \u001b[0msource\u001b[0m \u001b[0;32mnot\u001b[0m \u001b[0;32min\u001b[0m \u001b[0mG\u001b[0m \u001b[0;32mor\u001b[0m \u001b[0mtarget\u001b[0m \u001b[0;32mnot\u001b[0m \u001b[0;32min\u001b[0m \u001b[0mG\u001b[0m\u001b[0;34m:\u001b[0m\u001b[0;34m\u001b[0m\u001b[0;34m\u001b[0m\u001b[0m\n\u001b[1;32m    236\u001b[0m         \u001b[0mmsg\u001b[0m \u001b[0;34m=\u001b[0m \u001b[0;34mf\"Either source {source} or target {target} is not in G\"\u001b[0m\u001b[0;34m\u001b[0m\u001b[0;34m\u001b[0m\u001b[0m\n\u001b[0;32m--> 237\u001b[0;31m         \u001b[0;32mraise\u001b[0m \u001b[0mnx\u001b[0m\u001b[0;34m.\u001b[0m\u001b[0mNodeNotFound\u001b[0m\u001b[0;34m(\u001b[0m\u001b[0mmsg\u001b[0m\u001b[0;34m)\u001b[0m\u001b[0;34m\u001b[0m\u001b[0;34m\u001b[0m\u001b[0m\n\u001b[0m\u001b[1;32m    238\u001b[0m \u001b[0;34m\u001b[0m\u001b[0m\n\u001b[1;32m    239\u001b[0m     \u001b[0;31m# call helper to do the real work\u001b[0m\u001b[0;34m\u001b[0m\u001b[0;34m\u001b[0m\u001b[0m\n",
            "\u001b[0;31mNodeNotFound\u001b[0m: Either source 0 or target 20 is not in G"
          ]
        }
      ],
      "source": [
        "depth = 12\n",
        "dataset = NodePathDataset(rwalks, btree, depth)\n",
        "start_node, context, paths, turns, masks = dataset[0]\n",
        "assert start_node.shape == ()\n",
        "assert context.shape == (4,)\n",
        "assert paths.shape == turns.shape == masks.shape == (4, 12)\n",
        "assert start_node == 0\n",
        "leaves = [n for n in btree.nodes if btree.degree[n] == 1]\n",
        "shortest_path = nx.shortest_path(btree, 0, leaves[context[1]])[:-1]\n",
        "mask = [1] * len(shortest_path)\n",
        "if len(shortest_path) < depth:\n",
        "    n_extra_units = depth - len(shortest_path)\n",
        "    shortest_path = shortest_path + [0] * n_extra_units\n",
        "    mask = mask + [0] * n_extra_units\n",
        "assert np.all(shortest_path == paths[1].numpy())\n",
        "assert np.all(mask == masks[1].numpy())"
      ]
    },
    {
      "cell_type": "code",
      "execution_count": 92,
      "id": "4e6cda22",
      "metadata": {
        "id": "4e6cda22",
        "outputId": "dab9ea4c-2452-4311-8a49-8a6d46984afd",
        "colab": {
          "base_uri": "https://localhost:8080/",
          "height": 218
        }
      },
      "outputs": [
        {
          "output_type": "error",
          "ename": "ValueError",
          "evalue": "ignored",
          "traceback": [
            "\u001b[0;31m---------------------------------------------------------------------------\u001b[0m",
            "\u001b[0;31mValueError\u001b[0m                                Traceback (most recent call last)",
            "\u001b[0;32m<ipython-input-92-c37e36a1c780>\u001b[0m in \u001b[0;36m<cell line: 2>\u001b[0;34m()\u001b[0m\n\u001b[1;32m      1\u001b[0m \u001b[0mdloader\u001b[0m \u001b[0;34m=\u001b[0m \u001b[0mDataLoader\u001b[0m\u001b[0;34m(\u001b[0m\u001b[0mdataset\u001b[0m\u001b[0;34m,\u001b[0m \u001b[0mbatch_size\u001b[0m\u001b[0;34m=\u001b[0m\u001b[0;36m2\u001b[0m\u001b[0;34m)\u001b[0m\u001b[0;34m\u001b[0m\u001b[0;34m\u001b[0m\u001b[0m\n\u001b[0;32m----> 2\u001b[0;31m \u001b[0;32mfor\u001b[0m \u001b[0mstart_nodes\u001b[0m\u001b[0;34m,\u001b[0m \u001b[0mcontext\u001b[0m\u001b[0;34m,\u001b[0m \u001b[0mpaths\u001b[0m\u001b[0;34m,\u001b[0m \u001b[0mturns\u001b[0m\u001b[0;34m,\u001b[0m \u001b[0mmasks\u001b[0m \u001b[0;32min\u001b[0m \u001b[0mdloader\u001b[0m\u001b[0;34m:\u001b[0m\u001b[0;34m\u001b[0m\u001b[0;34m\u001b[0m\u001b[0m\n\u001b[0m\u001b[1;32m      3\u001b[0m     \u001b[0;32mbreak\u001b[0m\u001b[0;34m\u001b[0m\u001b[0;34m\u001b[0m\u001b[0m\n\u001b[1;32m      4\u001b[0m \u001b[0mstart_nodes\u001b[0m\u001b[0;34m.\u001b[0m\u001b[0mshape\u001b[0m\u001b[0;34m,\u001b[0m \u001b[0mcontext\u001b[0m\u001b[0;34m.\u001b[0m\u001b[0mshape\u001b[0m\u001b[0;34m,\u001b[0m \u001b[0mpaths\u001b[0m\u001b[0;34m.\u001b[0m\u001b[0mshape\u001b[0m\u001b[0;34m,\u001b[0m \u001b[0mturns\u001b[0m\u001b[0;34m.\u001b[0m\u001b[0mshape\u001b[0m\u001b[0;34m,\u001b[0m \u001b[0mmasks\u001b[0m\u001b[0;34m.\u001b[0m\u001b[0mshape\u001b[0m\u001b[0;34m\u001b[0m\u001b[0;34m\u001b[0m\u001b[0m\n",
            "\u001b[0;31mValueError\u001b[0m: not enough values to unpack (expected 5, got 3)"
          ]
        }
      ],
      "source": [
        "dloader = DataLoader(dataset, batch_size=2)\n",
        "for start_nodes, context, paths, turns, masks in dloader:\n",
        "    break\n",
        "start_nodes.shape, context.shape, paths.shape, turns.shape, masks.shape"
      ]
    },
    {
      "cell_type": "markdown",
      "id": "a2b1beb2",
      "metadata": {
        "id": "a2b1beb2"
      },
      "source": [
        "Write a function `hierarchical_softmax_loss` that takes vectors $v$, $u$ and returns the hierarchical softmax loss before reduction $\\frac{1}{|V|\\times N} \\sum_{i=1}^{|V|\\times N} \\sum_{j=1}^L$.\n",
        "\n",
        "_Remark: to prevent $-\\infty$ in log, add $\\varepsilon=1^{-6}$ as follows `torch.log(x + 1e-6)`_"
      ]
    },
    {
      "cell_type": "code",
      "execution_count": 93,
      "id": "5414c3c4",
      "metadata": {
        "deletable": false,
        "id": "5414c3c4",
        "nbgrader": {
          "cell_type": "code",
          "checksum": "2d24227f9a5b502d535b0beff12e17f1",
          "grade": false,
          "grade_id": "cell-5580ea00c3649ace",
          "locked": false,
          "schema_version": 3,
          "solution": true,
          "task": false
        }
      },
      "outputs": [],
      "source": [
        "def hierarchical_softmax_loss(v, u, turns, masks):\n",
        "    # YOUR CODE HERE\n",
        "    \n",
        "    # Flatten the batch size and path length dimensions\n",
        "    v = v.view(-1, v.shape[-1])  # (batch_size*L, D)\n",
        "    turns = turns.view(-1)  # (batch_size*L,)\n",
        "    masks = masks.view(-1)  # (batch_size*L,)\n",
        "\n",
        "    # Compute the dot product between the path representations and the target node representation\n",
        "    dot_products = torch.mm(v, u.unsqueeze(1).transpose(0, 1))  # (batch_size*L, 1)\n",
        "\n",
        "    # Apply the turns and masks to the dot products\n",
        "    masked_dot_products = dot_products * turns.unsqueeze(1) * masks.unsqueeze(1)\n",
        "    \n",
        "    # Apply the hierarchical softmax\n",
        "    n, d = v.shape\n",
        "    loss = torch.zeros((n,))\n",
        "    for i in range(n):\n",
        "        path = v[i, :].cpu().numpy().astype(int).tolist()\n",
        "        hsm = hierarchical_softmax(btree, path)\n",
        "        loss[i] = -torch.log(hsm.dot(u.cpu().numpy().astype(float)))\n",
        "\n",
        "    return loss.view(v.shape[0] // turns.shape[0], turns.shape[0])"
      ]
    },
    {
      "cell_type": "code",
      "execution_count": 94,
      "id": "152885f1",
      "metadata": {
        "deletable": false,
        "editable": false,
        "id": "152885f1",
        "nbgrader": {
          "cell_type": "code",
          "checksum": "77571345c5f803b3d52b802c082392e0",
          "grade": true,
          "grade_id": "cell-8c8320b2c7c030eb",
          "locked": true,
          "points": 1,
          "schema_version": 3,
          "solution": false,
          "task": false
        },
        "outputId": "b67b90b1-13a7-4dd5-c30d-f73e8c9f7642",
        "colab": {
          "base_uri": "https://localhost:8080/",
          "height": 236
        }
      },
      "outputs": [
        {
          "output_type": "error",
          "ename": "NameError",
          "evalue": "ignored",
          "traceback": [
            "\u001b[0;31m---------------------------------------------------------------------------\u001b[0m",
            "\u001b[0;31mNameError\u001b[0m                                 Traceback (most recent call last)",
            "\u001b[0;32m<ipython-input-94-ec136eaef967>\u001b[0m in \u001b[0;36m<cell line: 5>\u001b[0;34m()\u001b[0m\n\u001b[1;32m      3\u001b[0m \u001b[0mpath_emb\u001b[0m \u001b[0;34m=\u001b[0m \u001b[0mtorch\u001b[0m\u001b[0;34m.\u001b[0m\u001b[0mrandn\u001b[0m\u001b[0;34m(\u001b[0m\u001b[0mlen\u001b[0m\u001b[0;34m(\u001b[0m\u001b[0mG\u001b[0m\u001b[0;34m)\u001b[0m \u001b[0;34m-\u001b[0m \u001b[0;36m1\u001b[0m\u001b[0;34m,\u001b[0m \u001b[0;36m16\u001b[0m\u001b[0;34m)\u001b[0m\u001b[0;34m\u001b[0m\u001b[0;34m\u001b[0m\u001b[0m\n\u001b[1;32m      4\u001b[0m \u001b[0mv\u001b[0m \u001b[0;34m=\u001b[0m \u001b[0mstart_node_emb\u001b[0m\u001b[0;34m[\u001b[0m\u001b[0mstart_nodes\u001b[0m\u001b[0;34m]\u001b[0m\u001b[0;34m\u001b[0m\u001b[0;34m\u001b[0m\u001b[0m\n\u001b[0;32m----> 5\u001b[0;31m \u001b[0mu\u001b[0m \u001b[0;34m=\u001b[0m \u001b[0mpath_emb\u001b[0m\u001b[0;34m[\u001b[0m\u001b[0mpaths\u001b[0m\u001b[0;34m]\u001b[0m\u001b[0;34m\u001b[0m\u001b[0;34m\u001b[0m\u001b[0m\n\u001b[0m\u001b[1;32m      6\u001b[0m \u001b[0mloss\u001b[0m \u001b[0;34m=\u001b[0m \u001b[0mhierarchical_softmax_loss\u001b[0m\u001b[0;34m(\u001b[0m\u001b[0mv\u001b[0m\u001b[0;34m,\u001b[0m \u001b[0mu\u001b[0m\u001b[0;34m,\u001b[0m \u001b[0mturns\u001b[0m\u001b[0;34m,\u001b[0m \u001b[0mmasks\u001b[0m\u001b[0;34m)\u001b[0m\u001b[0;34m\u001b[0m\u001b[0;34m\u001b[0m\u001b[0m\n\u001b[1;32m      7\u001b[0m \u001b[0;32massert\u001b[0m \u001b[0mloss\u001b[0m\u001b[0;34m.\u001b[0m\u001b[0mshape\u001b[0m \u001b[0;34m==\u001b[0m \u001b[0;34m(\u001b[0m\u001b[0;36m2\u001b[0m\u001b[0;34m,\u001b[0m \u001b[0;36m4\u001b[0m\u001b[0;34m)\u001b[0m\u001b[0;34m\u001b[0m\u001b[0;34m\u001b[0m\u001b[0m\n",
            "\u001b[0;31mNameError\u001b[0m: name 'paths' is not defined"
          ]
        }
      ],
      "source": [
        "np.random.seed(0)\n",
        "start_node_emb = torch.randn(len(G), 16)\n",
        "path_emb = torch.randn(len(G) - 1, 16)\n",
        "v = start_node_emb[start_nodes]\n",
        "u = path_emb[paths]\n",
        "loss = hierarchical_softmax_loss(v, u, turns, masks)\n",
        "assert loss.shape == (2, 4)\n",
        "l = -torch.log(torch.sigmoid(torch.tensor([v[0] @ u[0, 0, i] * turns[0, 0, i] for i in range(12)])) + 1e-6) * masks[0, 0]\n",
        "assert round(l.sum().item(), 2) == round(loss[0, 0].item(), 2)\n"
      ]
    },
    {
      "cell_type": "markdown",
      "id": "8293ac98",
      "metadata": {
        "id": "8293ac98"
      },
      "source": [
        "Here is SkipGram model with hierarchical softmax. The number of vectors in `path_emb` is `n_nodes - 1`, since it can be shown that the number of units is equal to $|V|-1$."
      ]
    },
    {
      "cell_type": "code",
      "execution_count": null,
      "id": "d94223c4",
      "metadata": {
        "deletable": false,
        "editable": false,
        "id": "d94223c4",
        "nbgrader": {
          "cell_type": "code",
          "checksum": "8535c3166b0b7c5bc2e57ab2960ddc75",
          "grade": false,
          "grade_id": "cell-39c948726656b5ba",
          "locked": true,
          "schema_version": 3,
          "solution": false,
          "task": false
        }
      },
      "outputs": [],
      "source": [
        "class SkipGramHierarchicalSoftmax(nn.Module):\n",
        "    def __init__(self, n_nodes, dim):\n",
        "        super().__init__()\n",
        "        self.start_node_emb = nn.Embedding(n_nodes, dim)\n",
        "        self.path_emb = nn.Embedding(n_nodes - 1, dim)\n",
        "    def forward(self, start_nodes, paths, turns, masks):\n",
        "        v = self.start_node_emb(start_nodes)\n",
        "        u = self.path_emb(paths)\n",
        "        loss = hierarchical_softmax_loss(v, u, turns, masks)\n",
        "        return loss"
      ]
    },
    {
      "cell_type": "markdown",
      "id": "f4210a1d",
      "metadata": {
        "id": "f4210a1d"
      },
      "source": [
        "Train the model using Adam optimizer."
      ]
    },
    {
      "cell_type": "code",
      "execution_count": null,
      "id": "93dc26c6",
      "metadata": {
        "id": "93dc26c6"
      },
      "outputs": [],
      "source": [
        "sgmodel = SkipGramHierarchicalSoftmax(n_nodes=len(G), dim=16)\n",
        "epoch_loss = []\n",
        "opt = Adam(sgmodel.parameters(), lr=0.1)\n",
        "dloader = DataLoader(dataset, batch_size=len(G))\n",
        "for epoch in trange(50):\n",
        "    for start_nodes, context, paths, turns, masks in dloader:\n",
        "        loss = sgmodel(start_nodes, paths, turns, masks).sum(dim=1).mean()\n",
        "        opt.zero_grad()\n",
        "        loss.backward()\n",
        "        opt.step()\n",
        "    epoch_loss.append(loss.item())\n",
        "plt.plot(epoch_loss);"
      ]
    },
    {
      "cell_type": "markdown",
      "id": "5dfb45c8",
      "metadata": {
        "id": "5dfb45c8"
      },
      "source": [
        "Evaluate the model by mutual information between ground truth labels and cluster indices."
      ]
    },
    {
      "cell_type": "code",
      "execution_count": null,
      "id": "ea4a3750",
      "metadata": {
        "deletable": false,
        "editable": false,
        "id": "ea4a3750",
        "nbgrader": {
          "cell_type": "code",
          "checksum": "163de70b349c978e9503141a12c90a5e",
          "grade": true,
          "grade_id": "cell-736c8f9bf1ffccd8",
          "locked": true,
          "points": 1,
          "schema_version": 3,
          "solution": false,
          "task": false
        }
      },
      "outputs": [],
      "source": [
        "with torch.no_grad():\n",
        "    emb = sgmodel.start_node_emb(torch.arange(len(G)))\n",
        "_, pred_labels, _ = k_means(emb, n_clusters=8)\n",
        "mi = mutual_info_score(labels, pred_labels)\n",
        "assert mi > 0.15"
      ]
    },
    {
      "cell_type": "markdown",
      "id": "3856477c",
      "metadata": {
        "id": "3856477c"
      },
      "source": [
        "Plot t-SNE visualization of node embeddings."
      ]
    },
    {
      "cell_type": "code",
      "execution_count": null,
      "id": "05cba718",
      "metadata": {
        "id": "05cba718"
      },
      "outputs": [],
      "source": [
        "decomposition = TSNE(n_components=2)\n",
        "xy_emb = decomposition.fit_transform(emb)\n",
        "\n",
        "plt.figure(figsize=(8, 8))\n",
        "scatter = plt.scatter(xy_emb[:, 0], xy_emb[:, 1], c=labels, s=10, cmap=plt.cm.Set2)\n",
        "plt.legend(handles=scatter.legend_elements()[0], labels=unique)\n",
        "plt.title(f'MI: {mi:.4f}');"
      ]
    },
    {
      "cell_type": "markdown",
      "id": "61992831",
      "metadata": {
        "id": "61992831"
      },
      "source": [
        "The hierarchical softmax can be improved by building a binary tree where hubs are closer to the root unit. In this task we have used the randomly builded binary tree and we can see that it works pretty well with respect to negative sampling."
      ]
    },
    {
      "cell_type": "markdown",
      "id": "a5165809",
      "metadata": {
        "id": "a5165809"
      },
      "source": [
        "### Task 4. GraRep (3 points)"
      ]
    },
    {
      "cell_type": "markdown",
      "id": "72748b25",
      "metadata": {
        "id": "72748b25"
      },
      "source": [
        "The idea behind GraRep is to account for multiscale relationships between nodes. For example,a student can have 1-hop neighborhood of friends, 2-hop neighborhood of classmates, 3-hop neighborhood of society and so on.\n",
        "\n",
        "<img src=\"https://raw.githubusercontent.com/netspractice/network-science/main/images/multiscale_relationships.png\" width=350>\n",
        "\n",
        "Unlike DeepWalk, GraRep defines different objective functions for capturing the different $k$-step local relational information by manipulating transition matrices in the $k$-th powers defined over the graph. Recall that the transition matrix is $P = D^{-1}A$ where $D$ is a degree matrix. $P_{ij}$ refers to a probability to move from the node $i$ to the node $j$ in one step of a random walk. Therefore, $P^k_{ij}$ is a probability to move from the node $i$ to the node $j$ in $k$ steps of a random walk. "
      ]
    },
    {
      "cell_type": "markdown",
      "id": "bad6b5b8",
      "metadata": {
        "id": "bad6b5b8"
      },
      "source": [
        "Write a function `csr_transition_matrix` that takes a graph and returns a transition matrix. To save memory and speed up the following calculation of powers, convert transition matrix to sparse format by `scipy.sparse.csr_matrix`."
      ]
    },
    {
      "cell_type": "code",
      "execution_count": 14,
      "id": "4a7e55cb",
      "metadata": {
        "deletable": false,
        "id": "4a7e55cb",
        "nbgrader": {
          "cell_type": "code",
          "checksum": "bec7a132a8e91292a33f9ce803d9e648",
          "grade": false,
          "grade_id": "cell-f0ec11b1c4da2c21",
          "locked": false,
          "schema_version": 3,
          "solution": true,
          "task": false
        }
      },
      "outputs": [],
      "source": [
        "def csr_transition_matrix(G):\n",
        "    # YOUR CODE HERE\n",
        "    # Get the adjacency matrix and degree matrix\n",
        "    \n",
        "\n",
        "\n",
        "    A = nx.to_numpy_array(G)\n",
        "    B = A/np.sum(A, axis=1, keepdims=True)\n",
        "\n",
        "    # Compute the transition matrix\n",
        "    transition_matrix = csr_matrix(B)\n",
        "\n",
        "    return transition_matrix"
      ]
    },
    {
      "cell_type": "code",
      "execution_count": 15,
      "id": "a5752b27",
      "metadata": {
        "deletable": false,
        "editable": false,
        "id": "a5752b27",
        "nbgrader": {
          "cell_type": "code",
          "checksum": "89c5d34c88f598b589ecaf7c68858755",
          "grade": true,
          "grade_id": "cell-2d2f99d8bac11893",
          "locked": true,
          "points": 0.75,
          "schema_version": 3,
          "solution": false,
          "task": false
        }
      },
      "outputs": [],
      "source": [
        "P = csr_transition_matrix(G)\n",
        "assert type(P) == csr_matrix\n",
        "assert P.shape == (len(G), len(G))\n",
        "assert round(P[3, 9], 4) == 0.0417"
      ]
    },
    {
      "cell_type": "markdown",
      "id": "bb3ec83a",
      "metadata": {
        "id": "bb3ec83a"
      },
      "source": [
        "Similar to DeepWalk, there are two types of embeddings:\n",
        "* $v_i$ is a vector that represents the start node $i$\n",
        "* $u_j$ is a vector that represents the context node $j$\n",
        "\n",
        "Our objective aims to maximize: 1) the probability that these pairs come from the graph, and 2) the probability that all other pairs do not come from the graph (negative samples). The objective function for nodes $i, j$ in the transition matrix of the power $k$ is\n",
        "\n",
        "$$\\mathcal L^k_{ij} = P^k_{ij}\\log \\sigma(v_i^\\top u_j) + \\frac{\\lambda}{|V|}\\sum_{t=1}^{|V|}P^k_{tj}\\log \\sigma(-v_t^\\top u_j)$$\n",
        "\n",
        "where $\\lambda$ is the hyperparameter indicating the number of negative samples. Optimizing this objective makes observed pairs $(i, j)$ have similar embeddings, while scattering unobserved pairs $(t, j)$. Substitution $v_i^\\top u_j = X_{ij}$ and setting $\\frac{\\partial \\mathcal L_{ij}}{ \\partial X_{ij}} = 0$ yields\n",
        "\n",
        "$$v_i^\\top u_j = X_{ij}^k = \\log \\frac{P^k_{ij}}{\\sum_{t=1}^{|V|}P^k_{tj}} - \\log\\frac{\\lambda}{|V|}$$"
      ]
    },
    {
      "cell_type": "markdown",
      "id": "60e520ce",
      "metadata": {
        "id": "60e520ce"
      },
      "source": [
        "Let us call $X^k$ log probabilistic matrix. Write a function `log_probabilistic_matrix` that takes a transition matrix, hyperparameter $\\lambda$ and returns a log probabilistic matrix.\n",
        "\n",
        "_Remark: to prevent $-\\infty$ in log, add $\\varepsilon=1^{-6}$ as follows `np.log(x + 1e-6)`_"
      ]
    },
    {
      "cell_type": "code",
      "execution_count": 20,
      "id": "fc40f12a",
      "metadata": {
        "deletable": false,
        "id": "fc40f12a",
        "nbgrader": {
          "cell_type": "code",
          "checksum": "63684003d32189034bf77a52da99cd2b",
          "grade": false,
          "grade_id": "cell-c949fe784127c31a",
          "locked": false,
          "schema_version": 3,
          "solution": true,
          "task": false
        }
      },
      "outputs": [],
      "source": [
        "\n",
        "def log_probabilistic_matrix(P, lambd):\n",
        "    # your code\n",
        "    V = P.shape[0]\n",
        "    X = np.zeros((V, V))\n",
        "\n",
        "    for k in range(V):\n",
        "        for i in range(V):\n",
        "            numerator = P[i,k]\n",
        "            denominator = np.sum(P[:,k])\n",
        "            pij = numerator / denominator\n",
        "            X[k,i] = np.log(pij + 1e-6)\n",
        "\n",
        "            neg_term = 0\n",
        "            for t in range(V):\n",
        "                if t == i:\n",
        "                    continue\n",
        "                Pkt = P[k,t]\n",
        "                neg_term += np.exp(X[k,t]) / (np.sum(np.exp(X[:,t])) + 1e-6)\n",
        "            X[k,i] -= lambd * np.log(neg_term + 1e-6)\n",
        "\n",
        "    return X\n",
        "\n",
        "    "
      ]
    },
    {
      "cell_type": "code",
      "execution_count": 21,
      "id": "0938d632",
      "metadata": {
        "deletable": false,
        "editable": false,
        "id": "0938d632",
        "nbgrader": {
          "cell_type": "code",
          "checksum": "f81afad0435cd21fc8814f7974fd775b",
          "grade": true,
          "grade_id": "cell-624f6d1384718d6f",
          "locked": true,
          "points": 0.75,
          "schema_version": 3,
          "solution": false,
          "task": false
        },
        "outputId": "0574fcfd-edbc-496b-9ea8-3ad6a048c787",
        "colab": {
          "base_uri": "https://localhost:8080/",
          "height": 340
        }
      },
      "outputs": [
        {
          "output_type": "error",
          "ename": "KeyboardInterrupt",
          "evalue": "ignored",
          "traceback": [
            "\u001b[0;31m---------------------------------------------------------------------------\u001b[0m",
            "\u001b[0;31mKeyboardInterrupt\u001b[0m                         Traceback (most recent call last)",
            "\u001b[0;32m<ipython-input-21-6fa4270c460b>\u001b[0m in \u001b[0;36m<cell line: 1>\u001b[0;34m()\u001b[0m\n\u001b[0;32m----> 1\u001b[0;31m \u001b[0mX\u001b[0m \u001b[0;34m=\u001b[0m \u001b[0mlog_probabilistic_matrix\u001b[0m\u001b[0;34m(\u001b[0m\u001b[0mP\u001b[0m\u001b[0;34m,\u001b[0m \u001b[0mlambd\u001b[0m\u001b[0;34m=\u001b[0m\u001b[0;36m5\u001b[0m\u001b[0;34m)\u001b[0m\u001b[0;34m\u001b[0m\u001b[0;34m\u001b[0m\u001b[0m\n\u001b[0m\u001b[1;32m      2\u001b[0m \u001b[0;32massert\u001b[0m \u001b[0mtype\u001b[0m\u001b[0;34m(\u001b[0m\u001b[0mX\u001b[0m\u001b[0;34m)\u001b[0m \u001b[0;34m==\u001b[0m \u001b[0mnp\u001b[0m\u001b[0;34m.\u001b[0m\u001b[0mmatrix\u001b[0m\u001b[0;34m\u001b[0m\u001b[0;34m\u001b[0m\u001b[0m\n\u001b[1;32m      3\u001b[0m \u001b[0;32massert\u001b[0m \u001b[0mX\u001b[0m\u001b[0;34m.\u001b[0m\u001b[0mshape\u001b[0m \u001b[0;34m==\u001b[0m \u001b[0;34m(\u001b[0m\u001b[0mlen\u001b[0m\u001b[0;34m(\u001b[0m\u001b[0mG\u001b[0m\u001b[0;34m)\u001b[0m\u001b[0;34m,\u001b[0m \u001b[0mlen\u001b[0m\u001b[0;34m(\u001b[0m\u001b[0mG\u001b[0m\u001b[0;34m)\u001b[0m\u001b[0;34m)\u001b[0m\u001b[0;34m\u001b[0m\u001b[0;34m\u001b[0m\u001b[0m\n\u001b[1;32m      4\u001b[0m \u001b[0;32massert\u001b[0m \u001b[0mround\u001b[0m\u001b[0;34m(\u001b[0m\u001b[0mX\u001b[0m\u001b[0;34m[\u001b[0m\u001b[0;36m3\u001b[0m\u001b[0;34m,\u001b[0m \u001b[0;36m9\u001b[0m\u001b[0;34m]\u001b[0m\u001b[0;34m,\u001b[0m \u001b[0;36m4\u001b[0m\u001b[0;34m)\u001b[0m \u001b[0;34m==\u001b[0m \u001b[0;36m3.182\u001b[0m\u001b[0;34m\u001b[0m\u001b[0;34m\u001b[0m\u001b[0m\n",
            "\u001b[0;32m<ipython-input-20-f217af4cc638>\u001b[0m in \u001b[0;36mlog_probabilistic_matrix\u001b[0;34m(P, lambd)\u001b[0m\n\u001b[1;32m     16\u001b[0m                     \u001b[0;32mcontinue\u001b[0m\u001b[0;34m\u001b[0m\u001b[0;34m\u001b[0m\u001b[0m\n\u001b[1;32m     17\u001b[0m                 \u001b[0mPkt\u001b[0m \u001b[0;34m=\u001b[0m \u001b[0mP\u001b[0m\u001b[0;34m[\u001b[0m\u001b[0mk\u001b[0m\u001b[0;34m,\u001b[0m\u001b[0mt\u001b[0m\u001b[0;34m]\u001b[0m\u001b[0;34m\u001b[0m\u001b[0;34m\u001b[0m\u001b[0m\n\u001b[0;32m---> 18\u001b[0;31m                 \u001b[0mneg_term\u001b[0m \u001b[0;34m+=\u001b[0m \u001b[0mnp\u001b[0m\u001b[0;34m.\u001b[0m\u001b[0mexp\u001b[0m\u001b[0;34m(\u001b[0m\u001b[0mX\u001b[0m\u001b[0;34m[\u001b[0m\u001b[0mk\u001b[0m\u001b[0;34m,\u001b[0m\u001b[0mt\u001b[0m\u001b[0;34m]\u001b[0m\u001b[0;34m)\u001b[0m \u001b[0;34m/\u001b[0m \u001b[0;34m(\u001b[0m\u001b[0mnp\u001b[0m\u001b[0;34m.\u001b[0m\u001b[0msum\u001b[0m\u001b[0;34m(\u001b[0m\u001b[0mnp\u001b[0m\u001b[0;34m.\u001b[0m\u001b[0mexp\u001b[0m\u001b[0;34m(\u001b[0m\u001b[0mX\u001b[0m\u001b[0;34m[\u001b[0m\u001b[0;34m:\u001b[0m\u001b[0;34m,\u001b[0m\u001b[0mt\u001b[0m\u001b[0;34m]\u001b[0m\u001b[0;34m)\u001b[0m\u001b[0;34m)\u001b[0m \u001b[0;34m+\u001b[0m \u001b[0;36m1e-6\u001b[0m\u001b[0;34m)\u001b[0m\u001b[0;34m\u001b[0m\u001b[0;34m\u001b[0m\u001b[0m\n\u001b[0m\u001b[1;32m     19\u001b[0m             \u001b[0mX\u001b[0m\u001b[0;34m[\u001b[0m\u001b[0mk\u001b[0m\u001b[0;34m,\u001b[0m\u001b[0mi\u001b[0m\u001b[0;34m]\u001b[0m \u001b[0;34m-=\u001b[0m \u001b[0mlambd\u001b[0m \u001b[0;34m*\u001b[0m \u001b[0mnp\u001b[0m\u001b[0;34m.\u001b[0m\u001b[0mlog\u001b[0m\u001b[0;34m(\u001b[0m\u001b[0mneg_term\u001b[0m \u001b[0;34m+\u001b[0m \u001b[0;36m1e-6\u001b[0m\u001b[0;34m)\u001b[0m\u001b[0;34m\u001b[0m\u001b[0;34m\u001b[0m\u001b[0m\n\u001b[1;32m     20\u001b[0m \u001b[0;34m\u001b[0m\u001b[0m\n",
            "\u001b[0;31mKeyboardInterrupt\u001b[0m: "
          ]
        }
      ],
      "source": [
        "X = log_probabilistic_matrix(P, lambd=5)\n",
        "assert type(X) == np.matrix\n",
        "assert X.shape == (len(G), len(G))\n",
        "assert round(X[3, 9], 4) == 3.182"
      ]
    },
    {
      "cell_type": "markdown",
      "id": "f1c850d8",
      "metadata": {
        "id": "f1c850d8"
      },
      "source": [
        "The log probabilistic matrix $X^k$ can be approximated by truncated SVD so that\n",
        "\n",
        "$$X^k \\approx X_d^k = U_d^k \\Sigma_d^k (V_d^k)^\\top$$\n",
        "\n",
        "where $d$ is the number of singular values of truncated SVD. Thus, embeddings of start nodes can be obtained by \n",
        "\n",
        "$$v_i = \\left[U_d^k \\sqrt{\\Sigma_d^k}\\right]_i$$ \n",
        "\n",
        "and embeddings of context nodes by \n",
        "\n",
        "$$u_j = \\left[\\sqrt{\\Sigma_d^k} (V_d^k)^\\top\\right]_j$$ \n",
        "\n",
        "_Remark: the power 1/2 makes SVD symmetric. It is empirically shown that the symmetric SVD is better for social graphs and makes embeddings more \"similar\" to corresponding embeddings of SkipGram with negative sampling in a sence of some matrix properties._"
      ]
    },
    {
      "cell_type": "markdown",
      "id": "108f74d7",
      "metadata": {
        "id": "108f74d7"
      },
      "source": [
        "Write a function `svd_emb` that takes a log probabilistic matrix, number of dimensions (number of largest singular values) in truncated SVD and returns embeddings of start nodes.\n",
        "\n",
        "_Hint: use `scipy.sparse.linalg.svds` to calculate truncated SVD for a given number of singular values._"
      ]
    },
    {
      "cell_type": "code",
      "execution_count": null,
      "id": "93cf648d",
      "metadata": {
        "deletable": false,
        "id": "93cf648d",
        "nbgrader": {
          "cell_type": "code",
          "checksum": "64aa1dc62ca5b5035ec1eedfc7372ab7",
          "grade": false,
          "grade_id": "cell-683cb8f26df5fd3a",
          "locked": false,
          "schema_version": 3,
          "solution": true,
          "task": false
        }
      },
      "outputs": [],
      "source": [
        "def svd_emb(X, dim):\n",
        "    # YOUR CODE HERE\n",
        "    U, S, V = svds(X, k=dim)\n",
        "    emb = U.dot(np.sqrt(np.diag(S)))\n",
        "    return emb"
      ]
    },
    {
      "cell_type": "code",
      "execution_count": null,
      "id": "8ff0f161",
      "metadata": {
        "deletable": false,
        "editable": false,
        "nbgrader": {
          "cell_type": "code",
          "checksum": "b79ac0db377db5bae1f2923b7877e2dc",
          "grade": true,
          "grade_id": "cell-426bb9037fe96aba",
          "locked": true,
          "points": 0.75,
          "schema_version": 3,
          "solution": false,
          "task": false
        },
        "id": "8ff0f161"
      },
      "outputs": [],
      "source": [
        "_emb = svd_emb(X, dim=4)\n",
        "assert type(_emb) == np.ndarray\n",
        "assert _emb.shape == (3873, 4)"
      ]
    },
    {
      "cell_type": "markdown",
      "id": "e4c32e06",
      "metadata": {
        "id": "e4c32e06"
      },
      "source": [
        "\n",
        "The resulting node embeddings are concatenated from the log probabilistic matrices $X, X^2, ..., X^k$.\n",
        "\n",
        "In `grarep_emb`, we calculate powers of transition matrix $P, P^2, \\dots, P^k$, calculate and concatenate embeddings of start nodes, then we compress them to the original number of dimensions by PCA."
      ]
    },
    {
      "cell_type": "code",
      "execution_count": null,
      "id": "f1f0f5f9",
      "metadata": {
        "deletable": false,
        "editable": false,
        "nbgrader": {
          "cell_type": "code",
          "checksum": "08744ba53988cb545f953cce607f67c6",
          "grade": false,
          "grade_id": "cell-fe1d6156e8d730ad",
          "locked": true,
          "schema_version": 3,
          "solution": false,
          "task": false
        },
        "id": "f1f0f5f9"
      },
      "outputs": [],
      "source": [
        "def grarep_emb(G, dim, k, lambd):\n",
        "    emb = []\n",
        "    P_1 = csr_transition_matrix(G)\n",
        "    P = P_1.copy()\n",
        "    for i in trange(k):\n",
        "        X = log_probabilistic_matrix(P, lambd=lambd)\n",
        "        _emb = svd_emb(X, dim=dim)\n",
        "        emb.append(_emb)\n",
        "        if i == (k - 1):\n",
        "            continue\n",
        "        P = P @ P_1\n",
        "    emb = PCA(n_components=dim).fit_transform(np.concatenate(emb, axis=1))\n",
        "    return emb"
      ]
    },
    {
      "cell_type": "markdown",
      "id": "d6658d3a",
      "metadata": {
        "id": "d6658d3a"
      },
      "source": [
        "Finally, we evaluate the model by mutual information between ground truth labels and cluster indices."
      ]
    },
    {
      "cell_type": "code",
      "execution_count": null,
      "id": "653f01d7",
      "metadata": {
        "deletable": false,
        "editable": false,
        "id": "653f01d7",
        "nbgrader": {
          "cell_type": "code",
          "checksum": "a8be8f00f7fc401b45409cd399e91d28",
          "grade": true,
          "grade_id": "cell-a016b73d556e34c9",
          "locked": true,
          "points": 0.75,
          "schema_version": 3,
          "solution": false,
          "task": false
        }
      },
      "outputs": [],
      "source": [
        "emb = grarep_emb(G, dim=16, k=4, lambd=5)\n",
        "assert emb.shape == (len(G), 16)\n",
        "_, pred_labels, _ = k_means(emb, n_clusters=8)\n",
        "mi = mutual_info_score(labels, pred_labels)\n",
        "assert mi > 0.22"
      ]
    },
    {
      "cell_type": "markdown",
      "id": "0bc7d3f1",
      "metadata": {
        "id": "0bc7d3f1"
      },
      "source": [
        "Plot t-SNE visualization of node embeddings."
      ]
    },
    {
      "cell_type": "code",
      "execution_count": null,
      "id": "5afc7097",
      "metadata": {
        "id": "5afc7097"
      },
      "outputs": [],
      "source": [
        "decomposition = TSNE(n_components=2)\n",
        "xy_emb = decomposition.fit_transform(emb)\n",
        "\n",
        "plt.figure(figsize=(8, 8))\n",
        "scatter = plt.scatter(xy_emb[:, 0], xy_emb[:, 1], c=labels, s=10, cmap=plt.cm.Set2)\n",
        "plt.legend(handles=scatter.legend_elements()[0], labels=unique)\n",
        "plt.title(f'MI: {mi:.4f}');"
      ]
    },
    {
      "cell_type": "code",
      "execution_count": null,
      "id": "b4c8ec86",
      "metadata": {
        "id": "b4c8ec86"
      },
      "outputs": [],
      "source": []
    }
  ],
  "metadata": {
    "kernelspec": {
      "display_name": "Python 3",
      "language": "python",
      "name": "python3"
    },
    "language_info": {
      "codemirror_mode": {
        "name": "ipython",
        "version": 3
      },
      "file_extension": ".py",
      "mimetype": "text/x-python",
      "name": "python",
      "nbconvert_exporter": "python",
      "pygments_lexer": "ipython3",
      "version": "3.7.4"
    },
    "colab": {
      "provenance": []
    },
    "widgets": {
      "application/vnd.jupyter.widget-state+json": {
        "7a0c63075784488b950265ae55493f1d": {
          "model_module": "@jupyter-widgets/controls",
          "model_name": "HBoxModel",
          "model_module_version": "1.5.0",
          "state": {
            "_dom_classes": [],
            "_model_module": "@jupyter-widgets/controls",
            "_model_module_version": "1.5.0",
            "_model_name": "HBoxModel",
            "_view_count": null,
            "_view_module": "@jupyter-widgets/controls",
            "_view_module_version": "1.5.0",
            "_view_name": "HBoxView",
            "box_style": "",
            "children": [
              "IPY_MODEL_706fd142b57749178fd8e2beee09f749",
              "IPY_MODEL_9a7e7ed18fc94156a57dea1dbc19bea9",
              "IPY_MODEL_0cdbff698f3b4c88ab02981986867c0d"
            ],
            "layout": "IPY_MODEL_e6f2c16695a949d1b8d0c3ff5852f664"
          }
        },
        "706fd142b57749178fd8e2beee09f749": {
          "model_module": "@jupyter-widgets/controls",
          "model_name": "HTMLModel",
          "model_module_version": "1.5.0",
          "state": {
            "_dom_classes": [],
            "_model_module": "@jupyter-widgets/controls",
            "_model_module_version": "1.5.0",
            "_model_name": "HTMLModel",
            "_view_count": null,
            "_view_module": "@jupyter-widgets/controls",
            "_view_module_version": "1.5.0",
            "_view_name": "HTMLView",
            "description": "",
            "description_tooltip": null,
            "layout": "IPY_MODEL_4c69f08214b44941bd02333dbb9a040c",
            "placeholder": "​",
            "style": "IPY_MODEL_a242403195c44deb9ac54d730a3ad225",
            "value": "100%"
          }
        },
        "9a7e7ed18fc94156a57dea1dbc19bea9": {
          "model_module": "@jupyter-widgets/controls",
          "model_name": "FloatProgressModel",
          "model_module_version": "1.5.0",
          "state": {
            "_dom_classes": [],
            "_model_module": "@jupyter-widgets/controls",
            "_model_module_version": "1.5.0",
            "_model_name": "FloatProgressModel",
            "_view_count": null,
            "_view_module": "@jupyter-widgets/controls",
            "_view_module_version": "1.5.0",
            "_view_name": "ProgressView",
            "bar_style": "success",
            "description": "",
            "description_tooltip": null,
            "layout": "IPY_MODEL_70e1a78ab43b4ec299121c201bf50e62",
            "max": 50,
            "min": 0,
            "orientation": "horizontal",
            "style": "IPY_MODEL_6f9ab8a55180445b92587f24200a2211",
            "value": 50
          }
        },
        "0cdbff698f3b4c88ab02981986867c0d": {
          "model_module": "@jupyter-widgets/controls",
          "model_name": "HTMLModel",
          "model_module_version": "1.5.0",
          "state": {
            "_dom_classes": [],
            "_model_module": "@jupyter-widgets/controls",
            "_model_module_version": "1.5.0",
            "_model_name": "HTMLModel",
            "_view_count": null,
            "_view_module": "@jupyter-widgets/controls",
            "_view_module_version": "1.5.0",
            "_view_name": "HTMLView",
            "description": "",
            "description_tooltip": null,
            "layout": "IPY_MODEL_04ddb79a80914c659239e980f3a5c3b4",
            "placeholder": "​",
            "style": "IPY_MODEL_47b56357cc154d3d8d9d26bcff1617be",
            "value": " 50/50 [00:35&lt;00:00,  1.52it/s]"
          }
        },
        "e6f2c16695a949d1b8d0c3ff5852f664": {
          "model_module": "@jupyter-widgets/base",
          "model_name": "LayoutModel",
          "model_module_version": "1.2.0",
          "state": {
            "_model_module": "@jupyter-widgets/base",
            "_model_module_version": "1.2.0",
            "_model_name": "LayoutModel",
            "_view_count": null,
            "_view_module": "@jupyter-widgets/base",
            "_view_module_version": "1.2.0",
            "_view_name": "LayoutView",
            "align_content": null,
            "align_items": null,
            "align_self": null,
            "border": null,
            "bottom": null,
            "display": null,
            "flex": null,
            "flex_flow": null,
            "grid_area": null,
            "grid_auto_columns": null,
            "grid_auto_flow": null,
            "grid_auto_rows": null,
            "grid_column": null,
            "grid_gap": null,
            "grid_row": null,
            "grid_template_areas": null,
            "grid_template_columns": null,
            "grid_template_rows": null,
            "height": null,
            "justify_content": null,
            "justify_items": null,
            "left": null,
            "margin": null,
            "max_height": null,
            "max_width": null,
            "min_height": null,
            "min_width": null,
            "object_fit": null,
            "object_position": null,
            "order": null,
            "overflow": null,
            "overflow_x": null,
            "overflow_y": null,
            "padding": null,
            "right": null,
            "top": null,
            "visibility": null,
            "width": null
          }
        },
        "4c69f08214b44941bd02333dbb9a040c": {
          "model_module": "@jupyter-widgets/base",
          "model_name": "LayoutModel",
          "model_module_version": "1.2.0",
          "state": {
            "_model_module": "@jupyter-widgets/base",
            "_model_module_version": "1.2.0",
            "_model_name": "LayoutModel",
            "_view_count": null,
            "_view_module": "@jupyter-widgets/base",
            "_view_module_version": "1.2.0",
            "_view_name": "LayoutView",
            "align_content": null,
            "align_items": null,
            "align_self": null,
            "border": null,
            "bottom": null,
            "display": null,
            "flex": null,
            "flex_flow": null,
            "grid_area": null,
            "grid_auto_columns": null,
            "grid_auto_flow": null,
            "grid_auto_rows": null,
            "grid_column": null,
            "grid_gap": null,
            "grid_row": null,
            "grid_template_areas": null,
            "grid_template_columns": null,
            "grid_template_rows": null,
            "height": null,
            "justify_content": null,
            "justify_items": null,
            "left": null,
            "margin": null,
            "max_height": null,
            "max_width": null,
            "min_height": null,
            "min_width": null,
            "object_fit": null,
            "object_position": null,
            "order": null,
            "overflow": null,
            "overflow_x": null,
            "overflow_y": null,
            "padding": null,
            "right": null,
            "top": null,
            "visibility": null,
            "width": null
          }
        },
        "a242403195c44deb9ac54d730a3ad225": {
          "model_module": "@jupyter-widgets/controls",
          "model_name": "DescriptionStyleModel",
          "model_module_version": "1.5.0",
          "state": {
            "_model_module": "@jupyter-widgets/controls",
            "_model_module_version": "1.5.0",
            "_model_name": "DescriptionStyleModel",
            "_view_count": null,
            "_view_module": "@jupyter-widgets/base",
            "_view_module_version": "1.2.0",
            "_view_name": "StyleView",
            "description_width": ""
          }
        },
        "70e1a78ab43b4ec299121c201bf50e62": {
          "model_module": "@jupyter-widgets/base",
          "model_name": "LayoutModel",
          "model_module_version": "1.2.0",
          "state": {
            "_model_module": "@jupyter-widgets/base",
            "_model_module_version": "1.2.0",
            "_model_name": "LayoutModel",
            "_view_count": null,
            "_view_module": "@jupyter-widgets/base",
            "_view_module_version": "1.2.0",
            "_view_name": "LayoutView",
            "align_content": null,
            "align_items": null,
            "align_self": null,
            "border": null,
            "bottom": null,
            "display": null,
            "flex": null,
            "flex_flow": null,
            "grid_area": null,
            "grid_auto_columns": null,
            "grid_auto_flow": null,
            "grid_auto_rows": null,
            "grid_column": null,
            "grid_gap": null,
            "grid_row": null,
            "grid_template_areas": null,
            "grid_template_columns": null,
            "grid_template_rows": null,
            "height": null,
            "justify_content": null,
            "justify_items": null,
            "left": null,
            "margin": null,
            "max_height": null,
            "max_width": null,
            "min_height": null,
            "min_width": null,
            "object_fit": null,
            "object_position": null,
            "order": null,
            "overflow": null,
            "overflow_x": null,
            "overflow_y": null,
            "padding": null,
            "right": null,
            "top": null,
            "visibility": null,
            "width": null
          }
        },
        "6f9ab8a55180445b92587f24200a2211": {
          "model_module": "@jupyter-widgets/controls",
          "model_name": "ProgressStyleModel",
          "model_module_version": "1.5.0",
          "state": {
            "_model_module": "@jupyter-widgets/controls",
            "_model_module_version": "1.5.0",
            "_model_name": "ProgressStyleModel",
            "_view_count": null,
            "_view_module": "@jupyter-widgets/base",
            "_view_module_version": "1.2.0",
            "_view_name": "StyleView",
            "bar_color": null,
            "description_width": ""
          }
        },
        "04ddb79a80914c659239e980f3a5c3b4": {
          "model_module": "@jupyter-widgets/base",
          "model_name": "LayoutModel",
          "model_module_version": "1.2.0",
          "state": {
            "_model_module": "@jupyter-widgets/base",
            "_model_module_version": "1.2.0",
            "_model_name": "LayoutModel",
            "_view_count": null,
            "_view_module": "@jupyter-widgets/base",
            "_view_module_version": "1.2.0",
            "_view_name": "LayoutView",
            "align_content": null,
            "align_items": null,
            "align_self": null,
            "border": null,
            "bottom": null,
            "display": null,
            "flex": null,
            "flex_flow": null,
            "grid_area": null,
            "grid_auto_columns": null,
            "grid_auto_flow": null,
            "grid_auto_rows": null,
            "grid_column": null,
            "grid_gap": null,
            "grid_row": null,
            "grid_template_areas": null,
            "grid_template_columns": null,
            "grid_template_rows": null,
            "height": null,
            "justify_content": null,
            "justify_items": null,
            "left": null,
            "margin": null,
            "max_height": null,
            "max_width": null,
            "min_height": null,
            "min_width": null,
            "object_fit": null,
            "object_position": null,
            "order": null,
            "overflow": null,
            "overflow_x": null,
            "overflow_y": null,
            "padding": null,
            "right": null,
            "top": null,
            "visibility": null,
            "width": null
          }
        },
        "47b56357cc154d3d8d9d26bcff1617be": {
          "model_module": "@jupyter-widgets/controls",
          "model_name": "DescriptionStyleModel",
          "model_module_version": "1.5.0",
          "state": {
            "_model_module": "@jupyter-widgets/controls",
            "_model_module_version": "1.5.0",
            "_model_name": "DescriptionStyleModel",
            "_view_count": null,
            "_view_module": "@jupyter-widgets/base",
            "_view_module_version": "1.2.0",
            "_view_name": "StyleView",
            "description_width": ""
          }
        },
        "05d77ee26ddd4104b8f610dd3ae425b3": {
          "model_module": "@jupyter-widgets/controls",
          "model_name": "HBoxModel",
          "model_module_version": "1.5.0",
          "state": {
            "_dom_classes": [],
            "_model_module": "@jupyter-widgets/controls",
            "_model_module_version": "1.5.0",
            "_model_name": "HBoxModel",
            "_view_count": null,
            "_view_module": "@jupyter-widgets/controls",
            "_view_module_version": "1.5.0",
            "_view_name": "HBoxView",
            "box_style": "",
            "children": [
              "IPY_MODEL_1f72c7d988d340c7b8f9dd24bc98025b",
              "IPY_MODEL_f723b920ae0846bab77076d3cd6396ce",
              "IPY_MODEL_c88805baf4f7439bb54a9ab31a45d498"
            ],
            "layout": "IPY_MODEL_320c7416dec149d49fdf5f3aef3b4224"
          }
        },
        "1f72c7d988d340c7b8f9dd24bc98025b": {
          "model_module": "@jupyter-widgets/controls",
          "model_name": "HTMLModel",
          "model_module_version": "1.5.0",
          "state": {
            "_dom_classes": [],
            "_model_module": "@jupyter-widgets/controls",
            "_model_module_version": "1.5.0",
            "_model_name": "HTMLModel",
            "_view_count": null,
            "_view_module": "@jupyter-widgets/controls",
            "_view_module_version": "1.5.0",
            "_view_name": "HTMLView",
            "description": "",
            "description_tooltip": null,
            "layout": "IPY_MODEL_56729526ad424428bd06222161390812",
            "placeholder": "​",
            "style": "IPY_MODEL_b72722779f6d4b0aae8486ef6b97637d",
            "value": "Sampling biased random walks: 100%"
          }
        },
        "f723b920ae0846bab77076d3cd6396ce": {
          "model_module": "@jupyter-widgets/controls",
          "model_name": "FloatProgressModel",
          "model_module_version": "1.5.0",
          "state": {
            "_dom_classes": [],
            "_model_module": "@jupyter-widgets/controls",
            "_model_module_version": "1.5.0",
            "_model_name": "FloatProgressModel",
            "_view_count": null,
            "_view_module": "@jupyter-widgets/controls",
            "_view_module_version": "1.5.0",
            "_view_name": "ProgressView",
            "bar_style": "",
            "description": "",
            "description_tooltip": null,
            "layout": "IPY_MODEL_e65d1ced10c747189ee4698c87491abb",
            "max": 3873,
            "min": 0,
            "orientation": "horizontal",
            "style": "IPY_MODEL_aa1bb1653f97451396ebd808b44d062c",
            "value": 3873
          }
        },
        "c88805baf4f7439bb54a9ab31a45d498": {
          "model_module": "@jupyter-widgets/controls",
          "model_name": "HTMLModel",
          "model_module_version": "1.5.0",
          "state": {
            "_dom_classes": [],
            "_model_module": "@jupyter-widgets/controls",
            "_model_module_version": "1.5.0",
            "_model_name": "HTMLModel",
            "_view_count": null,
            "_view_module": "@jupyter-widgets/controls",
            "_view_module_version": "1.5.0",
            "_view_name": "HTMLView",
            "description": "",
            "description_tooltip": null,
            "layout": "IPY_MODEL_c020e84bd5b54ae293e5a3f5f5f67760",
            "placeholder": "​",
            "style": "IPY_MODEL_7e66ce79cca844a2a8b729294bd10d08",
            "value": " 3867/3873 [00:38&lt;00:00, 145.30it/s]"
          }
        },
        "320c7416dec149d49fdf5f3aef3b4224": {
          "model_module": "@jupyter-widgets/base",
          "model_name": "LayoutModel",
          "model_module_version": "1.2.0",
          "state": {
            "_model_module": "@jupyter-widgets/base",
            "_model_module_version": "1.2.0",
            "_model_name": "LayoutModel",
            "_view_count": null,
            "_view_module": "@jupyter-widgets/base",
            "_view_module_version": "1.2.0",
            "_view_name": "LayoutView",
            "align_content": null,
            "align_items": null,
            "align_self": null,
            "border": null,
            "bottom": null,
            "display": null,
            "flex": null,
            "flex_flow": null,
            "grid_area": null,
            "grid_auto_columns": null,
            "grid_auto_flow": null,
            "grid_auto_rows": null,
            "grid_column": null,
            "grid_gap": null,
            "grid_row": null,
            "grid_template_areas": null,
            "grid_template_columns": null,
            "grid_template_rows": null,
            "height": null,
            "justify_content": null,
            "justify_items": null,
            "left": null,
            "margin": null,
            "max_height": null,
            "max_width": null,
            "min_height": null,
            "min_width": null,
            "object_fit": null,
            "object_position": null,
            "order": null,
            "overflow": null,
            "overflow_x": null,
            "overflow_y": null,
            "padding": null,
            "right": null,
            "top": null,
            "visibility": "hidden",
            "width": null
          }
        },
        "56729526ad424428bd06222161390812": {
          "model_module": "@jupyter-widgets/base",
          "model_name": "LayoutModel",
          "model_module_version": "1.2.0",
          "state": {
            "_model_module": "@jupyter-widgets/base",
            "_model_module_version": "1.2.0",
            "_model_name": "LayoutModel",
            "_view_count": null,
            "_view_module": "@jupyter-widgets/base",
            "_view_module_version": "1.2.0",
            "_view_name": "LayoutView",
            "align_content": null,
            "align_items": null,
            "align_self": null,
            "border": null,
            "bottom": null,
            "display": null,
            "flex": null,
            "flex_flow": null,
            "grid_area": null,
            "grid_auto_columns": null,
            "grid_auto_flow": null,
            "grid_auto_rows": null,
            "grid_column": null,
            "grid_gap": null,
            "grid_row": null,
            "grid_template_areas": null,
            "grid_template_columns": null,
            "grid_template_rows": null,
            "height": null,
            "justify_content": null,
            "justify_items": null,
            "left": null,
            "margin": null,
            "max_height": null,
            "max_width": null,
            "min_height": null,
            "min_width": null,
            "object_fit": null,
            "object_position": null,
            "order": null,
            "overflow": null,
            "overflow_x": null,
            "overflow_y": null,
            "padding": null,
            "right": null,
            "top": null,
            "visibility": null,
            "width": null
          }
        },
        "b72722779f6d4b0aae8486ef6b97637d": {
          "model_module": "@jupyter-widgets/controls",
          "model_name": "DescriptionStyleModel",
          "model_module_version": "1.5.0",
          "state": {
            "_model_module": "@jupyter-widgets/controls",
            "_model_module_version": "1.5.0",
            "_model_name": "DescriptionStyleModel",
            "_view_count": null,
            "_view_module": "@jupyter-widgets/base",
            "_view_module_version": "1.2.0",
            "_view_name": "StyleView",
            "description_width": ""
          }
        },
        "e65d1ced10c747189ee4698c87491abb": {
          "model_module": "@jupyter-widgets/base",
          "model_name": "LayoutModel",
          "model_module_version": "1.2.0",
          "state": {
            "_model_module": "@jupyter-widgets/base",
            "_model_module_version": "1.2.0",
            "_model_name": "LayoutModel",
            "_view_count": null,
            "_view_module": "@jupyter-widgets/base",
            "_view_module_version": "1.2.0",
            "_view_name": "LayoutView",
            "align_content": null,
            "align_items": null,
            "align_self": null,
            "border": null,
            "bottom": null,
            "display": null,
            "flex": null,
            "flex_flow": null,
            "grid_area": null,
            "grid_auto_columns": null,
            "grid_auto_flow": null,
            "grid_auto_rows": null,
            "grid_column": null,
            "grid_gap": null,
            "grid_row": null,
            "grid_template_areas": null,
            "grid_template_columns": null,
            "grid_template_rows": null,
            "height": null,
            "justify_content": null,
            "justify_items": null,
            "left": null,
            "margin": null,
            "max_height": null,
            "max_width": null,
            "min_height": null,
            "min_width": null,
            "object_fit": null,
            "object_position": null,
            "order": null,
            "overflow": null,
            "overflow_x": null,
            "overflow_y": null,
            "padding": null,
            "right": null,
            "top": null,
            "visibility": null,
            "width": null
          }
        },
        "aa1bb1653f97451396ebd808b44d062c": {
          "model_module": "@jupyter-widgets/controls",
          "model_name": "ProgressStyleModel",
          "model_module_version": "1.5.0",
          "state": {
            "_model_module": "@jupyter-widgets/controls",
            "_model_module_version": "1.5.0",
            "_model_name": "ProgressStyleModel",
            "_view_count": null,
            "_view_module": "@jupyter-widgets/base",
            "_view_module_version": "1.2.0",
            "_view_name": "StyleView",
            "bar_color": null,
            "description_width": ""
          }
        },
        "c020e84bd5b54ae293e5a3f5f5f67760": {
          "model_module": "@jupyter-widgets/base",
          "model_name": "LayoutModel",
          "model_module_version": "1.2.0",
          "state": {
            "_model_module": "@jupyter-widgets/base",
            "_model_module_version": "1.2.0",
            "_model_name": "LayoutModel",
            "_view_count": null,
            "_view_module": "@jupyter-widgets/base",
            "_view_module_version": "1.2.0",
            "_view_name": "LayoutView",
            "align_content": null,
            "align_items": null,
            "align_self": null,
            "border": null,
            "bottom": null,
            "display": null,
            "flex": null,
            "flex_flow": null,
            "grid_area": null,
            "grid_auto_columns": null,
            "grid_auto_flow": null,
            "grid_auto_rows": null,
            "grid_column": null,
            "grid_gap": null,
            "grid_row": null,
            "grid_template_areas": null,
            "grid_template_columns": null,
            "grid_template_rows": null,
            "height": null,
            "justify_content": null,
            "justify_items": null,
            "left": null,
            "margin": null,
            "max_height": null,
            "max_width": null,
            "min_height": null,
            "min_width": null,
            "object_fit": null,
            "object_position": null,
            "order": null,
            "overflow": null,
            "overflow_x": null,
            "overflow_y": null,
            "padding": null,
            "right": null,
            "top": null,
            "visibility": null,
            "width": null
          }
        },
        "7e66ce79cca844a2a8b729294bd10d08": {
          "model_module": "@jupyter-widgets/controls",
          "model_name": "DescriptionStyleModel",
          "model_module_version": "1.5.0",
          "state": {
            "_model_module": "@jupyter-widgets/controls",
            "_model_module_version": "1.5.0",
            "_model_name": "DescriptionStyleModel",
            "_view_count": null,
            "_view_module": "@jupyter-widgets/base",
            "_view_module_version": "1.2.0",
            "_view_name": "StyleView",
            "description_width": ""
          }
        },
        "94c134d32203456babf6edf261cf08a5": {
          "model_module": "@jupyter-widgets/controls",
          "model_name": "HBoxModel",
          "model_module_version": "1.5.0",
          "state": {
            "_dom_classes": [],
            "_model_module": "@jupyter-widgets/controls",
            "_model_module_version": "1.5.0",
            "_model_name": "HBoxModel",
            "_view_count": null,
            "_view_module": "@jupyter-widgets/controls",
            "_view_module_version": "1.5.0",
            "_view_name": "HBoxView",
            "box_style": "",
            "children": [
              "IPY_MODEL_fb4d6c46be864c89843774a85c664e03",
              "IPY_MODEL_d872e8989f3a4dbf9eaf4de047f0fc44",
              "IPY_MODEL_4b01e99b313e493789a2728d6ff00feb"
            ],
            "layout": "IPY_MODEL_00a520b53b004c9dac45aed52ec08803"
          }
        },
        "fb4d6c46be864c89843774a85c664e03": {
          "model_module": "@jupyter-widgets/controls",
          "model_name": "HTMLModel",
          "model_module_version": "1.5.0",
          "state": {
            "_dom_classes": [],
            "_model_module": "@jupyter-widgets/controls",
            "_model_module_version": "1.5.0",
            "_model_name": "HTMLModel",
            "_view_count": null,
            "_view_module": "@jupyter-widgets/controls",
            "_view_module_version": "1.5.0",
            "_view_name": "HTMLView",
            "description": "",
            "description_tooltip": null,
            "layout": "IPY_MODEL_460dc53eb8ac44f680b77ad461a393b9",
            "placeholder": "​",
            "style": "IPY_MODEL_826f064760df496fbe3eb0280aeb7003",
            "value": "100%"
          }
        },
        "d872e8989f3a4dbf9eaf4de047f0fc44": {
          "model_module": "@jupyter-widgets/controls",
          "model_name": "FloatProgressModel",
          "model_module_version": "1.5.0",
          "state": {
            "_dom_classes": [],
            "_model_module": "@jupyter-widgets/controls",
            "_model_module_version": "1.5.0",
            "_model_name": "FloatProgressModel",
            "_view_count": null,
            "_view_module": "@jupyter-widgets/controls",
            "_view_module_version": "1.5.0",
            "_view_name": "ProgressView",
            "bar_style": "success",
            "description": "",
            "description_tooltip": null,
            "layout": "IPY_MODEL_5c27c5a5dfa044aea746365255473579",
            "max": 50,
            "min": 0,
            "orientation": "horizontal",
            "style": "IPY_MODEL_9f641a2313cc4684bf6635f7f8d1479c",
            "value": 50
          }
        },
        "4b01e99b313e493789a2728d6ff00feb": {
          "model_module": "@jupyter-widgets/controls",
          "model_name": "HTMLModel",
          "model_module_version": "1.5.0",
          "state": {
            "_dom_classes": [],
            "_model_module": "@jupyter-widgets/controls",
            "_model_module_version": "1.5.0",
            "_model_name": "HTMLModel",
            "_view_count": null,
            "_view_module": "@jupyter-widgets/controls",
            "_view_module_version": "1.5.0",
            "_view_name": "HTMLView",
            "description": "",
            "description_tooltip": null,
            "layout": "IPY_MODEL_51ba462b1f354b339f5dc418fd2994bc",
            "placeholder": "​",
            "style": "IPY_MODEL_088263c4afe145e1b740e34414ecdbcf",
            "value": " 50/50 [00:39&lt;00:00,  1.87it/s]"
          }
        },
        "00a520b53b004c9dac45aed52ec08803": {
          "model_module": "@jupyter-widgets/base",
          "model_name": "LayoutModel",
          "model_module_version": "1.2.0",
          "state": {
            "_model_module": "@jupyter-widgets/base",
            "_model_module_version": "1.2.0",
            "_model_name": "LayoutModel",
            "_view_count": null,
            "_view_module": "@jupyter-widgets/base",
            "_view_module_version": "1.2.0",
            "_view_name": "LayoutView",
            "align_content": null,
            "align_items": null,
            "align_self": null,
            "border": null,
            "bottom": null,
            "display": null,
            "flex": null,
            "flex_flow": null,
            "grid_area": null,
            "grid_auto_columns": null,
            "grid_auto_flow": null,
            "grid_auto_rows": null,
            "grid_column": null,
            "grid_gap": null,
            "grid_row": null,
            "grid_template_areas": null,
            "grid_template_columns": null,
            "grid_template_rows": null,
            "height": null,
            "justify_content": null,
            "justify_items": null,
            "left": null,
            "margin": null,
            "max_height": null,
            "max_width": null,
            "min_height": null,
            "min_width": null,
            "object_fit": null,
            "object_position": null,
            "order": null,
            "overflow": null,
            "overflow_x": null,
            "overflow_y": null,
            "padding": null,
            "right": null,
            "top": null,
            "visibility": null,
            "width": null
          }
        },
        "460dc53eb8ac44f680b77ad461a393b9": {
          "model_module": "@jupyter-widgets/base",
          "model_name": "LayoutModel",
          "model_module_version": "1.2.0",
          "state": {
            "_model_module": "@jupyter-widgets/base",
            "_model_module_version": "1.2.0",
            "_model_name": "LayoutModel",
            "_view_count": null,
            "_view_module": "@jupyter-widgets/base",
            "_view_module_version": "1.2.0",
            "_view_name": "LayoutView",
            "align_content": null,
            "align_items": null,
            "align_self": null,
            "border": null,
            "bottom": null,
            "display": null,
            "flex": null,
            "flex_flow": null,
            "grid_area": null,
            "grid_auto_columns": null,
            "grid_auto_flow": null,
            "grid_auto_rows": null,
            "grid_column": null,
            "grid_gap": null,
            "grid_row": null,
            "grid_template_areas": null,
            "grid_template_columns": null,
            "grid_template_rows": null,
            "height": null,
            "justify_content": null,
            "justify_items": null,
            "left": null,
            "margin": null,
            "max_height": null,
            "max_width": null,
            "min_height": null,
            "min_width": null,
            "object_fit": null,
            "object_position": null,
            "order": null,
            "overflow": null,
            "overflow_x": null,
            "overflow_y": null,
            "padding": null,
            "right": null,
            "top": null,
            "visibility": null,
            "width": null
          }
        },
        "826f064760df496fbe3eb0280aeb7003": {
          "model_module": "@jupyter-widgets/controls",
          "model_name": "DescriptionStyleModel",
          "model_module_version": "1.5.0",
          "state": {
            "_model_module": "@jupyter-widgets/controls",
            "_model_module_version": "1.5.0",
            "_model_name": "DescriptionStyleModel",
            "_view_count": null,
            "_view_module": "@jupyter-widgets/base",
            "_view_module_version": "1.2.0",
            "_view_name": "StyleView",
            "description_width": ""
          }
        },
        "5c27c5a5dfa044aea746365255473579": {
          "model_module": "@jupyter-widgets/base",
          "model_name": "LayoutModel",
          "model_module_version": "1.2.0",
          "state": {
            "_model_module": "@jupyter-widgets/base",
            "_model_module_version": "1.2.0",
            "_model_name": "LayoutModel",
            "_view_count": null,
            "_view_module": "@jupyter-widgets/base",
            "_view_module_version": "1.2.0",
            "_view_name": "LayoutView",
            "align_content": null,
            "align_items": null,
            "align_self": null,
            "border": null,
            "bottom": null,
            "display": null,
            "flex": null,
            "flex_flow": null,
            "grid_area": null,
            "grid_auto_columns": null,
            "grid_auto_flow": null,
            "grid_auto_rows": null,
            "grid_column": null,
            "grid_gap": null,
            "grid_row": null,
            "grid_template_areas": null,
            "grid_template_columns": null,
            "grid_template_rows": null,
            "height": null,
            "justify_content": null,
            "justify_items": null,
            "left": null,
            "margin": null,
            "max_height": null,
            "max_width": null,
            "min_height": null,
            "min_width": null,
            "object_fit": null,
            "object_position": null,
            "order": null,
            "overflow": null,
            "overflow_x": null,
            "overflow_y": null,
            "padding": null,
            "right": null,
            "top": null,
            "visibility": null,
            "width": null
          }
        },
        "9f641a2313cc4684bf6635f7f8d1479c": {
          "model_module": "@jupyter-widgets/controls",
          "model_name": "ProgressStyleModel",
          "model_module_version": "1.5.0",
          "state": {
            "_model_module": "@jupyter-widgets/controls",
            "_model_module_version": "1.5.0",
            "_model_name": "ProgressStyleModel",
            "_view_count": null,
            "_view_module": "@jupyter-widgets/base",
            "_view_module_version": "1.2.0",
            "_view_name": "StyleView",
            "bar_color": null,
            "description_width": ""
          }
        },
        "51ba462b1f354b339f5dc418fd2994bc": {
          "model_module": "@jupyter-widgets/base",
          "model_name": "LayoutModel",
          "model_module_version": "1.2.0",
          "state": {
            "_model_module": "@jupyter-widgets/base",
            "_model_module_version": "1.2.0",
            "_model_name": "LayoutModel",
            "_view_count": null,
            "_view_module": "@jupyter-widgets/base",
            "_view_module_version": "1.2.0",
            "_view_name": "LayoutView",
            "align_content": null,
            "align_items": null,
            "align_self": null,
            "border": null,
            "bottom": null,
            "display": null,
            "flex": null,
            "flex_flow": null,
            "grid_area": null,
            "grid_auto_columns": null,
            "grid_auto_flow": null,
            "grid_auto_rows": null,
            "grid_column": null,
            "grid_gap": null,
            "grid_row": null,
            "grid_template_areas": null,
            "grid_template_columns": null,
            "grid_template_rows": null,
            "height": null,
            "justify_content": null,
            "justify_items": null,
            "left": null,
            "margin": null,
            "max_height": null,
            "max_width": null,
            "min_height": null,
            "min_width": null,
            "object_fit": null,
            "object_position": null,
            "order": null,
            "overflow": null,
            "overflow_x": null,
            "overflow_y": null,
            "padding": null,
            "right": null,
            "top": null,
            "visibility": null,
            "width": null
          }
        },
        "088263c4afe145e1b740e34414ecdbcf": {
          "model_module": "@jupyter-widgets/controls",
          "model_name": "DescriptionStyleModel",
          "model_module_version": "1.5.0",
          "state": {
            "_model_module": "@jupyter-widgets/controls",
            "_model_module_version": "1.5.0",
            "_model_name": "DescriptionStyleModel",
            "_view_count": null,
            "_view_module": "@jupyter-widgets/base",
            "_view_module_version": "1.2.0",
            "_view_name": "StyleView",
            "description_width": ""
          }
        },
        "cc089db2937744c9a8cbb723b94b1449": {
          "model_module": "@jupyter-widgets/controls",
          "model_name": "HBoxModel",
          "model_module_version": "1.5.0",
          "state": {
            "_dom_classes": [],
            "_model_module": "@jupyter-widgets/controls",
            "_model_module_version": "1.5.0",
            "_model_name": "HBoxModel",
            "_view_count": null,
            "_view_module": "@jupyter-widgets/controls",
            "_view_module_version": "1.5.0",
            "_view_name": "HBoxView",
            "box_style": "",
            "children": [
              "IPY_MODEL_bef0045a1d2e4b2093fc8bdffb28f479",
              "IPY_MODEL_e06b4018016e410c807258a516ded89f",
              "IPY_MODEL_852486e32f2548f5a55b0dcce9bf30d9"
            ],
            "layout": "IPY_MODEL_77e30152f15f491bae62f365973c580b"
          }
        },
        "bef0045a1d2e4b2093fc8bdffb28f479": {
          "model_module": "@jupyter-widgets/controls",
          "model_name": "HTMLModel",
          "model_module_version": "1.5.0",
          "state": {
            "_dom_classes": [],
            "_model_module": "@jupyter-widgets/controls",
            "_model_module_version": "1.5.0",
            "_model_name": "HTMLModel",
            "_view_count": null,
            "_view_module": "@jupyter-widgets/controls",
            "_view_module_version": "1.5.0",
            "_view_name": "HTMLView",
            "description": "",
            "description_tooltip": null,
            "layout": "IPY_MODEL_848acba4677944feac1dc81b00f91620",
            "placeholder": "​",
            "style": "IPY_MODEL_2e51e024eb4a47afa6bc6ae23e71a261",
            "value": "Sampling biased random walks: 100%"
          }
        },
        "e06b4018016e410c807258a516ded89f": {
          "model_module": "@jupyter-widgets/controls",
          "model_name": "FloatProgressModel",
          "model_module_version": "1.5.0",
          "state": {
            "_dom_classes": [],
            "_model_module": "@jupyter-widgets/controls",
            "_model_module_version": "1.5.0",
            "_model_name": "FloatProgressModel",
            "_view_count": null,
            "_view_module": "@jupyter-widgets/controls",
            "_view_module_version": "1.5.0",
            "_view_name": "ProgressView",
            "bar_style": "",
            "description": "",
            "description_tooltip": null,
            "layout": "IPY_MODEL_6e966ec1158c4c719948a32e42492624",
            "max": 3873,
            "min": 0,
            "orientation": "horizontal",
            "style": "IPY_MODEL_64cc20e93df74f6fb6450bee2b106cff",
            "value": 3873
          }
        },
        "852486e32f2548f5a55b0dcce9bf30d9": {
          "model_module": "@jupyter-widgets/controls",
          "model_name": "HTMLModel",
          "model_module_version": "1.5.0",
          "state": {
            "_dom_classes": [],
            "_model_module": "@jupyter-widgets/controls",
            "_model_module_version": "1.5.0",
            "_model_name": "HTMLModel",
            "_view_count": null,
            "_view_module": "@jupyter-widgets/controls",
            "_view_module_version": "1.5.0",
            "_view_name": "HTMLView",
            "description": "",
            "description_tooltip": null,
            "layout": "IPY_MODEL_d230c0539ac04411b35000c3e0b194fc",
            "placeholder": "​",
            "style": "IPY_MODEL_e455fdf67b864c3bb83f661994319cc0",
            "value": " 3864/3873 [00:41&lt;00:00, 133.57it/s]"
          }
        },
        "77e30152f15f491bae62f365973c580b": {
          "model_module": "@jupyter-widgets/base",
          "model_name": "LayoutModel",
          "model_module_version": "1.2.0",
          "state": {
            "_model_module": "@jupyter-widgets/base",
            "_model_module_version": "1.2.0",
            "_model_name": "LayoutModel",
            "_view_count": null,
            "_view_module": "@jupyter-widgets/base",
            "_view_module_version": "1.2.0",
            "_view_name": "LayoutView",
            "align_content": null,
            "align_items": null,
            "align_self": null,
            "border": null,
            "bottom": null,
            "display": null,
            "flex": null,
            "flex_flow": null,
            "grid_area": null,
            "grid_auto_columns": null,
            "grid_auto_flow": null,
            "grid_auto_rows": null,
            "grid_column": null,
            "grid_gap": null,
            "grid_row": null,
            "grid_template_areas": null,
            "grid_template_columns": null,
            "grid_template_rows": null,
            "height": null,
            "justify_content": null,
            "justify_items": null,
            "left": null,
            "margin": null,
            "max_height": null,
            "max_width": null,
            "min_height": null,
            "min_width": null,
            "object_fit": null,
            "object_position": null,
            "order": null,
            "overflow": null,
            "overflow_x": null,
            "overflow_y": null,
            "padding": null,
            "right": null,
            "top": null,
            "visibility": "hidden",
            "width": null
          }
        },
        "848acba4677944feac1dc81b00f91620": {
          "model_module": "@jupyter-widgets/base",
          "model_name": "LayoutModel",
          "model_module_version": "1.2.0",
          "state": {
            "_model_module": "@jupyter-widgets/base",
            "_model_module_version": "1.2.0",
            "_model_name": "LayoutModel",
            "_view_count": null,
            "_view_module": "@jupyter-widgets/base",
            "_view_module_version": "1.2.0",
            "_view_name": "LayoutView",
            "align_content": null,
            "align_items": null,
            "align_self": null,
            "border": null,
            "bottom": null,
            "display": null,
            "flex": null,
            "flex_flow": null,
            "grid_area": null,
            "grid_auto_columns": null,
            "grid_auto_flow": null,
            "grid_auto_rows": null,
            "grid_column": null,
            "grid_gap": null,
            "grid_row": null,
            "grid_template_areas": null,
            "grid_template_columns": null,
            "grid_template_rows": null,
            "height": null,
            "justify_content": null,
            "justify_items": null,
            "left": null,
            "margin": null,
            "max_height": null,
            "max_width": null,
            "min_height": null,
            "min_width": null,
            "object_fit": null,
            "object_position": null,
            "order": null,
            "overflow": null,
            "overflow_x": null,
            "overflow_y": null,
            "padding": null,
            "right": null,
            "top": null,
            "visibility": null,
            "width": null
          }
        },
        "2e51e024eb4a47afa6bc6ae23e71a261": {
          "model_module": "@jupyter-widgets/controls",
          "model_name": "DescriptionStyleModel",
          "model_module_version": "1.5.0",
          "state": {
            "_model_module": "@jupyter-widgets/controls",
            "_model_module_version": "1.5.0",
            "_model_name": "DescriptionStyleModel",
            "_view_count": null,
            "_view_module": "@jupyter-widgets/base",
            "_view_module_version": "1.2.0",
            "_view_name": "StyleView",
            "description_width": ""
          }
        },
        "6e966ec1158c4c719948a32e42492624": {
          "model_module": "@jupyter-widgets/base",
          "model_name": "LayoutModel",
          "model_module_version": "1.2.0",
          "state": {
            "_model_module": "@jupyter-widgets/base",
            "_model_module_version": "1.2.0",
            "_model_name": "LayoutModel",
            "_view_count": null,
            "_view_module": "@jupyter-widgets/base",
            "_view_module_version": "1.2.0",
            "_view_name": "LayoutView",
            "align_content": null,
            "align_items": null,
            "align_self": null,
            "border": null,
            "bottom": null,
            "display": null,
            "flex": null,
            "flex_flow": null,
            "grid_area": null,
            "grid_auto_columns": null,
            "grid_auto_flow": null,
            "grid_auto_rows": null,
            "grid_column": null,
            "grid_gap": null,
            "grid_row": null,
            "grid_template_areas": null,
            "grid_template_columns": null,
            "grid_template_rows": null,
            "height": null,
            "justify_content": null,
            "justify_items": null,
            "left": null,
            "margin": null,
            "max_height": null,
            "max_width": null,
            "min_height": null,
            "min_width": null,
            "object_fit": null,
            "object_position": null,
            "order": null,
            "overflow": null,
            "overflow_x": null,
            "overflow_y": null,
            "padding": null,
            "right": null,
            "top": null,
            "visibility": null,
            "width": null
          }
        },
        "64cc20e93df74f6fb6450bee2b106cff": {
          "model_module": "@jupyter-widgets/controls",
          "model_name": "ProgressStyleModel",
          "model_module_version": "1.5.0",
          "state": {
            "_model_module": "@jupyter-widgets/controls",
            "_model_module_version": "1.5.0",
            "_model_name": "ProgressStyleModel",
            "_view_count": null,
            "_view_module": "@jupyter-widgets/base",
            "_view_module_version": "1.2.0",
            "_view_name": "StyleView",
            "bar_color": null,
            "description_width": ""
          }
        },
        "d230c0539ac04411b35000c3e0b194fc": {
          "model_module": "@jupyter-widgets/base",
          "model_name": "LayoutModel",
          "model_module_version": "1.2.0",
          "state": {
            "_model_module": "@jupyter-widgets/base",
            "_model_module_version": "1.2.0",
            "_model_name": "LayoutModel",
            "_view_count": null,
            "_view_module": "@jupyter-widgets/base",
            "_view_module_version": "1.2.0",
            "_view_name": "LayoutView",
            "align_content": null,
            "align_items": null,
            "align_self": null,
            "border": null,
            "bottom": null,
            "display": null,
            "flex": null,
            "flex_flow": null,
            "grid_area": null,
            "grid_auto_columns": null,
            "grid_auto_flow": null,
            "grid_auto_rows": null,
            "grid_column": null,
            "grid_gap": null,
            "grid_row": null,
            "grid_template_areas": null,
            "grid_template_columns": null,
            "grid_template_rows": null,
            "height": null,
            "justify_content": null,
            "justify_items": null,
            "left": null,
            "margin": null,
            "max_height": null,
            "max_width": null,
            "min_height": null,
            "min_width": null,
            "object_fit": null,
            "object_position": null,
            "order": null,
            "overflow": null,
            "overflow_x": null,
            "overflow_y": null,
            "padding": null,
            "right": null,
            "top": null,
            "visibility": null,
            "width": null
          }
        },
        "e455fdf67b864c3bb83f661994319cc0": {
          "model_module": "@jupyter-widgets/controls",
          "model_name": "DescriptionStyleModel",
          "model_module_version": "1.5.0",
          "state": {
            "_model_module": "@jupyter-widgets/controls",
            "_model_module_version": "1.5.0",
            "_model_name": "DescriptionStyleModel",
            "_view_count": null,
            "_view_module": "@jupyter-widgets/base",
            "_view_module_version": "1.2.0",
            "_view_name": "StyleView",
            "description_width": ""
          }
        },
        "210926a87fec4497a13c0c223bc4c901": {
          "model_module": "@jupyter-widgets/controls",
          "model_name": "HBoxModel",
          "model_module_version": "1.5.0",
          "state": {
            "_dom_classes": [],
            "_model_module": "@jupyter-widgets/controls",
            "_model_module_version": "1.5.0",
            "_model_name": "HBoxModel",
            "_view_count": null,
            "_view_module": "@jupyter-widgets/controls",
            "_view_module_version": "1.5.0",
            "_view_name": "HBoxView",
            "box_style": "",
            "children": [
              "IPY_MODEL_b47ff4811128410294017d8128d00612",
              "IPY_MODEL_e9d6954842d04329b6ffade73445e0b3",
              "IPY_MODEL_457e22b3490d48ab9f5b62681bccc539"
            ],
            "layout": "IPY_MODEL_ebbeeabc629d4b3e98e9ab379d50f05c"
          }
        },
        "b47ff4811128410294017d8128d00612": {
          "model_module": "@jupyter-widgets/controls",
          "model_name": "HTMLModel",
          "model_module_version": "1.5.0",
          "state": {
            "_dom_classes": [],
            "_model_module": "@jupyter-widgets/controls",
            "_model_module_version": "1.5.0",
            "_model_name": "HTMLModel",
            "_view_count": null,
            "_view_module": "@jupyter-widgets/controls",
            "_view_module_version": "1.5.0",
            "_view_name": "HTMLView",
            "description": "",
            "description_tooltip": null,
            "layout": "IPY_MODEL_e76ed4363b52499aa160585fbf75d1f6",
            "placeholder": "​",
            "style": "IPY_MODEL_68c9b1c9983c44359a0a63ee101fd8f3",
            "value": "Sampling biased random walks: 100%"
          }
        },
        "e9d6954842d04329b6ffade73445e0b3": {
          "model_module": "@jupyter-widgets/controls",
          "model_name": "FloatProgressModel",
          "model_module_version": "1.5.0",
          "state": {
            "_dom_classes": [],
            "_model_module": "@jupyter-widgets/controls",
            "_model_module_version": "1.5.0",
            "_model_name": "FloatProgressModel",
            "_view_count": null,
            "_view_module": "@jupyter-widgets/controls",
            "_view_module_version": "1.5.0",
            "_view_name": "ProgressView",
            "bar_style": "",
            "description": "",
            "description_tooltip": null,
            "layout": "IPY_MODEL_5a656614650249a28017080dbd819d50",
            "max": 3873,
            "min": 0,
            "orientation": "horizontal",
            "style": "IPY_MODEL_92708960c2534d389f246b5e2daae4c4",
            "value": 3873
          }
        },
        "457e22b3490d48ab9f5b62681bccc539": {
          "model_module": "@jupyter-widgets/controls",
          "model_name": "HTMLModel",
          "model_module_version": "1.5.0",
          "state": {
            "_dom_classes": [],
            "_model_module": "@jupyter-widgets/controls",
            "_model_module_version": "1.5.0",
            "_model_name": "HTMLModel",
            "_view_count": null,
            "_view_module": "@jupyter-widgets/controls",
            "_view_module_version": "1.5.0",
            "_view_name": "HTMLView",
            "description": "",
            "description_tooltip": null,
            "layout": "IPY_MODEL_306dbff5539e47459ef7e80f7e85226b",
            "placeholder": "​",
            "style": "IPY_MODEL_7170024b60ce4140a0499876fe2ad2a6",
            "value": " 3872/3873 [00:44&lt;00:00, 138.44it/s]"
          }
        },
        "ebbeeabc629d4b3e98e9ab379d50f05c": {
          "model_module": "@jupyter-widgets/base",
          "model_name": "LayoutModel",
          "model_module_version": "1.2.0",
          "state": {
            "_model_module": "@jupyter-widgets/base",
            "_model_module_version": "1.2.0",
            "_model_name": "LayoutModel",
            "_view_count": null,
            "_view_module": "@jupyter-widgets/base",
            "_view_module_version": "1.2.0",
            "_view_name": "LayoutView",
            "align_content": null,
            "align_items": null,
            "align_self": null,
            "border": null,
            "bottom": null,
            "display": null,
            "flex": null,
            "flex_flow": null,
            "grid_area": null,
            "grid_auto_columns": null,
            "grid_auto_flow": null,
            "grid_auto_rows": null,
            "grid_column": null,
            "grid_gap": null,
            "grid_row": null,
            "grid_template_areas": null,
            "grid_template_columns": null,
            "grid_template_rows": null,
            "height": null,
            "justify_content": null,
            "justify_items": null,
            "left": null,
            "margin": null,
            "max_height": null,
            "max_width": null,
            "min_height": null,
            "min_width": null,
            "object_fit": null,
            "object_position": null,
            "order": null,
            "overflow": null,
            "overflow_x": null,
            "overflow_y": null,
            "padding": null,
            "right": null,
            "top": null,
            "visibility": "hidden",
            "width": null
          }
        },
        "e76ed4363b52499aa160585fbf75d1f6": {
          "model_module": "@jupyter-widgets/base",
          "model_name": "LayoutModel",
          "model_module_version": "1.2.0",
          "state": {
            "_model_module": "@jupyter-widgets/base",
            "_model_module_version": "1.2.0",
            "_model_name": "LayoutModel",
            "_view_count": null,
            "_view_module": "@jupyter-widgets/base",
            "_view_module_version": "1.2.0",
            "_view_name": "LayoutView",
            "align_content": null,
            "align_items": null,
            "align_self": null,
            "border": null,
            "bottom": null,
            "display": null,
            "flex": null,
            "flex_flow": null,
            "grid_area": null,
            "grid_auto_columns": null,
            "grid_auto_flow": null,
            "grid_auto_rows": null,
            "grid_column": null,
            "grid_gap": null,
            "grid_row": null,
            "grid_template_areas": null,
            "grid_template_columns": null,
            "grid_template_rows": null,
            "height": null,
            "justify_content": null,
            "justify_items": null,
            "left": null,
            "margin": null,
            "max_height": null,
            "max_width": null,
            "min_height": null,
            "min_width": null,
            "object_fit": null,
            "object_position": null,
            "order": null,
            "overflow": null,
            "overflow_x": null,
            "overflow_y": null,
            "padding": null,
            "right": null,
            "top": null,
            "visibility": null,
            "width": null
          }
        },
        "68c9b1c9983c44359a0a63ee101fd8f3": {
          "model_module": "@jupyter-widgets/controls",
          "model_name": "DescriptionStyleModel",
          "model_module_version": "1.5.0",
          "state": {
            "_model_module": "@jupyter-widgets/controls",
            "_model_module_version": "1.5.0",
            "_model_name": "DescriptionStyleModel",
            "_view_count": null,
            "_view_module": "@jupyter-widgets/base",
            "_view_module_version": "1.2.0",
            "_view_name": "StyleView",
            "description_width": ""
          }
        },
        "5a656614650249a28017080dbd819d50": {
          "model_module": "@jupyter-widgets/base",
          "model_name": "LayoutModel",
          "model_module_version": "1.2.0",
          "state": {
            "_model_module": "@jupyter-widgets/base",
            "_model_module_version": "1.2.0",
            "_model_name": "LayoutModel",
            "_view_count": null,
            "_view_module": "@jupyter-widgets/base",
            "_view_module_version": "1.2.0",
            "_view_name": "LayoutView",
            "align_content": null,
            "align_items": null,
            "align_self": null,
            "border": null,
            "bottom": null,
            "display": null,
            "flex": null,
            "flex_flow": null,
            "grid_area": null,
            "grid_auto_columns": null,
            "grid_auto_flow": null,
            "grid_auto_rows": null,
            "grid_column": null,
            "grid_gap": null,
            "grid_row": null,
            "grid_template_areas": null,
            "grid_template_columns": null,
            "grid_template_rows": null,
            "height": null,
            "justify_content": null,
            "justify_items": null,
            "left": null,
            "margin": null,
            "max_height": null,
            "max_width": null,
            "min_height": null,
            "min_width": null,
            "object_fit": null,
            "object_position": null,
            "order": null,
            "overflow": null,
            "overflow_x": null,
            "overflow_y": null,
            "padding": null,
            "right": null,
            "top": null,
            "visibility": null,
            "width": null
          }
        },
        "92708960c2534d389f246b5e2daae4c4": {
          "model_module": "@jupyter-widgets/controls",
          "model_name": "ProgressStyleModel",
          "model_module_version": "1.5.0",
          "state": {
            "_model_module": "@jupyter-widgets/controls",
            "_model_module_version": "1.5.0",
            "_model_name": "ProgressStyleModel",
            "_view_count": null,
            "_view_module": "@jupyter-widgets/base",
            "_view_module_version": "1.2.0",
            "_view_name": "StyleView",
            "bar_color": null,
            "description_width": ""
          }
        },
        "306dbff5539e47459ef7e80f7e85226b": {
          "model_module": "@jupyter-widgets/base",
          "model_name": "LayoutModel",
          "model_module_version": "1.2.0",
          "state": {
            "_model_module": "@jupyter-widgets/base",
            "_model_module_version": "1.2.0",
            "_model_name": "LayoutModel",
            "_view_count": null,
            "_view_module": "@jupyter-widgets/base",
            "_view_module_version": "1.2.0",
            "_view_name": "LayoutView",
            "align_content": null,
            "align_items": null,
            "align_self": null,
            "border": null,
            "bottom": null,
            "display": null,
            "flex": null,
            "flex_flow": null,
            "grid_area": null,
            "grid_auto_columns": null,
            "grid_auto_flow": null,
            "grid_auto_rows": null,
            "grid_column": null,
            "grid_gap": null,
            "grid_row": null,
            "grid_template_areas": null,
            "grid_template_columns": null,
            "grid_template_rows": null,
            "height": null,
            "justify_content": null,
            "justify_items": null,
            "left": null,
            "margin": null,
            "max_height": null,
            "max_width": null,
            "min_height": null,
            "min_width": null,
            "object_fit": null,
            "object_position": null,
            "order": null,
            "overflow": null,
            "overflow_x": null,
            "overflow_y": null,
            "padding": null,
            "right": null,
            "top": null,
            "visibility": null,
            "width": null
          }
        },
        "7170024b60ce4140a0499876fe2ad2a6": {
          "model_module": "@jupyter-widgets/controls",
          "model_name": "DescriptionStyleModel",
          "model_module_version": "1.5.0",
          "state": {
            "_model_module": "@jupyter-widgets/controls",
            "_model_module_version": "1.5.0",
            "_model_name": "DescriptionStyleModel",
            "_view_count": null,
            "_view_module": "@jupyter-widgets/base",
            "_view_module_version": "1.2.0",
            "_view_name": "StyleView",
            "description_width": ""
          }
        },
        "a56c66506a904c38b46f8288986bbd4b": {
          "model_module": "@jupyter-widgets/controls",
          "model_name": "HBoxModel",
          "model_module_version": "1.5.0",
          "state": {
            "_dom_classes": [],
            "_model_module": "@jupyter-widgets/controls",
            "_model_module_version": "1.5.0",
            "_model_name": "HBoxModel",
            "_view_count": null,
            "_view_module": "@jupyter-widgets/controls",
            "_view_module_version": "1.5.0",
            "_view_name": "HBoxView",
            "box_style": "",
            "children": [
              "IPY_MODEL_3b0deff97d244ee6ad55dfaae17d7969",
              "IPY_MODEL_ece7cd136a234a198c4fb510c5cd8947",
              "IPY_MODEL_69a3565eb7a0493ab3ac83b9f7521840"
            ],
            "layout": "IPY_MODEL_c641e2bd766c44939512a100c6976c49"
          }
        },
        "3b0deff97d244ee6ad55dfaae17d7969": {
          "model_module": "@jupyter-widgets/controls",
          "model_name": "HTMLModel",
          "model_module_version": "1.5.0",
          "state": {
            "_dom_classes": [],
            "_model_module": "@jupyter-widgets/controls",
            "_model_module_version": "1.5.0",
            "_model_name": "HTMLModel",
            "_view_count": null,
            "_view_module": "@jupyter-widgets/controls",
            "_view_module_version": "1.5.0",
            "_view_name": "HTMLView",
            "description": "",
            "description_tooltip": null,
            "layout": "IPY_MODEL_44ae122e6c7f4191ba6b7ac61d102d56",
            "placeholder": "​",
            "style": "IPY_MODEL_6c3b91175f8247aaad5f12587e9f1e3c",
            "value": "Sampling biased random walks: 100%"
          }
        },
        "ece7cd136a234a198c4fb510c5cd8947": {
          "model_module": "@jupyter-widgets/controls",
          "model_name": "FloatProgressModel",
          "model_module_version": "1.5.0",
          "state": {
            "_dom_classes": [],
            "_model_module": "@jupyter-widgets/controls",
            "_model_module_version": "1.5.0",
            "_model_name": "FloatProgressModel",
            "_view_count": null,
            "_view_module": "@jupyter-widgets/controls",
            "_view_module_version": "1.5.0",
            "_view_name": "ProgressView",
            "bar_style": "",
            "description": "",
            "description_tooltip": null,
            "layout": "IPY_MODEL_6e7b12038cc145c59292be9600897c51",
            "max": 3873,
            "min": 0,
            "orientation": "horizontal",
            "style": "IPY_MODEL_75d4c6a9fe1745e9bd5b814ccb0e5247",
            "value": 3873
          }
        },
        "69a3565eb7a0493ab3ac83b9f7521840": {
          "model_module": "@jupyter-widgets/controls",
          "model_name": "HTMLModel",
          "model_module_version": "1.5.0",
          "state": {
            "_dom_classes": [],
            "_model_module": "@jupyter-widgets/controls",
            "_model_module_version": "1.5.0",
            "_model_name": "HTMLModel",
            "_view_count": null,
            "_view_module": "@jupyter-widgets/controls",
            "_view_module_version": "1.5.0",
            "_view_name": "HTMLView",
            "description": "",
            "description_tooltip": null,
            "layout": "IPY_MODEL_e25c0cad4d9a4911aff9c4f998f788c4",
            "placeholder": "​",
            "style": "IPY_MODEL_b1e3d3012436421bb3cb978b8f6179a9",
            "value": " 3871/3873 [00:36&lt;00:00, 90.15it/s]"
          }
        },
        "c641e2bd766c44939512a100c6976c49": {
          "model_module": "@jupyter-widgets/base",
          "model_name": "LayoutModel",
          "model_module_version": "1.2.0",
          "state": {
            "_model_module": "@jupyter-widgets/base",
            "_model_module_version": "1.2.0",
            "_model_name": "LayoutModel",
            "_view_count": null,
            "_view_module": "@jupyter-widgets/base",
            "_view_module_version": "1.2.0",
            "_view_name": "LayoutView",
            "align_content": null,
            "align_items": null,
            "align_self": null,
            "border": null,
            "bottom": null,
            "display": null,
            "flex": null,
            "flex_flow": null,
            "grid_area": null,
            "grid_auto_columns": null,
            "grid_auto_flow": null,
            "grid_auto_rows": null,
            "grid_column": null,
            "grid_gap": null,
            "grid_row": null,
            "grid_template_areas": null,
            "grid_template_columns": null,
            "grid_template_rows": null,
            "height": null,
            "justify_content": null,
            "justify_items": null,
            "left": null,
            "margin": null,
            "max_height": null,
            "max_width": null,
            "min_height": null,
            "min_width": null,
            "object_fit": null,
            "object_position": null,
            "order": null,
            "overflow": null,
            "overflow_x": null,
            "overflow_y": null,
            "padding": null,
            "right": null,
            "top": null,
            "visibility": "hidden",
            "width": null
          }
        },
        "44ae122e6c7f4191ba6b7ac61d102d56": {
          "model_module": "@jupyter-widgets/base",
          "model_name": "LayoutModel",
          "model_module_version": "1.2.0",
          "state": {
            "_model_module": "@jupyter-widgets/base",
            "_model_module_version": "1.2.0",
            "_model_name": "LayoutModel",
            "_view_count": null,
            "_view_module": "@jupyter-widgets/base",
            "_view_module_version": "1.2.0",
            "_view_name": "LayoutView",
            "align_content": null,
            "align_items": null,
            "align_self": null,
            "border": null,
            "bottom": null,
            "display": null,
            "flex": null,
            "flex_flow": null,
            "grid_area": null,
            "grid_auto_columns": null,
            "grid_auto_flow": null,
            "grid_auto_rows": null,
            "grid_column": null,
            "grid_gap": null,
            "grid_row": null,
            "grid_template_areas": null,
            "grid_template_columns": null,
            "grid_template_rows": null,
            "height": null,
            "justify_content": null,
            "justify_items": null,
            "left": null,
            "margin": null,
            "max_height": null,
            "max_width": null,
            "min_height": null,
            "min_width": null,
            "object_fit": null,
            "object_position": null,
            "order": null,
            "overflow": null,
            "overflow_x": null,
            "overflow_y": null,
            "padding": null,
            "right": null,
            "top": null,
            "visibility": null,
            "width": null
          }
        },
        "6c3b91175f8247aaad5f12587e9f1e3c": {
          "model_module": "@jupyter-widgets/controls",
          "model_name": "DescriptionStyleModel",
          "model_module_version": "1.5.0",
          "state": {
            "_model_module": "@jupyter-widgets/controls",
            "_model_module_version": "1.5.0",
            "_model_name": "DescriptionStyleModel",
            "_view_count": null,
            "_view_module": "@jupyter-widgets/base",
            "_view_module_version": "1.2.0",
            "_view_name": "StyleView",
            "description_width": ""
          }
        },
        "6e7b12038cc145c59292be9600897c51": {
          "model_module": "@jupyter-widgets/base",
          "model_name": "LayoutModel",
          "model_module_version": "1.2.0",
          "state": {
            "_model_module": "@jupyter-widgets/base",
            "_model_module_version": "1.2.0",
            "_model_name": "LayoutModel",
            "_view_count": null,
            "_view_module": "@jupyter-widgets/base",
            "_view_module_version": "1.2.0",
            "_view_name": "LayoutView",
            "align_content": null,
            "align_items": null,
            "align_self": null,
            "border": null,
            "bottom": null,
            "display": null,
            "flex": null,
            "flex_flow": null,
            "grid_area": null,
            "grid_auto_columns": null,
            "grid_auto_flow": null,
            "grid_auto_rows": null,
            "grid_column": null,
            "grid_gap": null,
            "grid_row": null,
            "grid_template_areas": null,
            "grid_template_columns": null,
            "grid_template_rows": null,
            "height": null,
            "justify_content": null,
            "justify_items": null,
            "left": null,
            "margin": null,
            "max_height": null,
            "max_width": null,
            "min_height": null,
            "min_width": null,
            "object_fit": null,
            "object_position": null,
            "order": null,
            "overflow": null,
            "overflow_x": null,
            "overflow_y": null,
            "padding": null,
            "right": null,
            "top": null,
            "visibility": null,
            "width": null
          }
        },
        "75d4c6a9fe1745e9bd5b814ccb0e5247": {
          "model_module": "@jupyter-widgets/controls",
          "model_name": "ProgressStyleModel",
          "model_module_version": "1.5.0",
          "state": {
            "_model_module": "@jupyter-widgets/controls",
            "_model_module_version": "1.5.0",
            "_model_name": "ProgressStyleModel",
            "_view_count": null,
            "_view_module": "@jupyter-widgets/base",
            "_view_module_version": "1.2.0",
            "_view_name": "StyleView",
            "bar_color": null,
            "description_width": ""
          }
        },
        "e25c0cad4d9a4911aff9c4f998f788c4": {
          "model_module": "@jupyter-widgets/base",
          "model_name": "LayoutModel",
          "model_module_version": "1.2.0",
          "state": {
            "_model_module": "@jupyter-widgets/base",
            "_model_module_version": "1.2.0",
            "_model_name": "LayoutModel",
            "_view_count": null,
            "_view_module": "@jupyter-widgets/base",
            "_view_module_version": "1.2.0",
            "_view_name": "LayoutView",
            "align_content": null,
            "align_items": null,
            "align_self": null,
            "border": null,
            "bottom": null,
            "display": null,
            "flex": null,
            "flex_flow": null,
            "grid_area": null,
            "grid_auto_columns": null,
            "grid_auto_flow": null,
            "grid_auto_rows": null,
            "grid_column": null,
            "grid_gap": null,
            "grid_row": null,
            "grid_template_areas": null,
            "grid_template_columns": null,
            "grid_template_rows": null,
            "height": null,
            "justify_content": null,
            "justify_items": null,
            "left": null,
            "margin": null,
            "max_height": null,
            "max_width": null,
            "min_height": null,
            "min_width": null,
            "object_fit": null,
            "object_position": null,
            "order": null,
            "overflow": null,
            "overflow_x": null,
            "overflow_y": null,
            "padding": null,
            "right": null,
            "top": null,
            "visibility": null,
            "width": null
          }
        },
        "b1e3d3012436421bb3cb978b8f6179a9": {
          "model_module": "@jupyter-widgets/controls",
          "model_name": "DescriptionStyleModel",
          "model_module_version": "1.5.0",
          "state": {
            "_model_module": "@jupyter-widgets/controls",
            "_model_module_version": "1.5.0",
            "_model_name": "DescriptionStyleModel",
            "_view_count": null,
            "_view_module": "@jupyter-widgets/base",
            "_view_module_version": "1.2.0",
            "_view_name": "StyleView",
            "description_width": ""
          }
        },
        "7acff3a8dc81414bbd66d4db55855f7b": {
          "model_module": "@jupyter-widgets/controls",
          "model_name": "HBoxModel",
          "model_module_version": "1.5.0",
          "state": {
            "_dom_classes": [],
            "_model_module": "@jupyter-widgets/controls",
            "_model_module_version": "1.5.0",
            "_model_name": "HBoxModel",
            "_view_count": null,
            "_view_module": "@jupyter-widgets/controls",
            "_view_module_version": "1.5.0",
            "_view_name": "HBoxView",
            "box_style": "",
            "children": [
              "IPY_MODEL_04cc6d451780434ebd9717ebbbc019ae",
              "IPY_MODEL_fbbe26d114e3447bb50a4772430b2b65",
              "IPY_MODEL_6d7809b2bf8c48ebb2b52e3c72107887"
            ],
            "layout": "IPY_MODEL_7623e56893bf4a6998a90a44fb59cd00"
          }
        },
        "04cc6d451780434ebd9717ebbbc019ae": {
          "model_module": "@jupyter-widgets/controls",
          "model_name": "HTMLModel",
          "model_module_version": "1.5.0",
          "state": {
            "_dom_classes": [],
            "_model_module": "@jupyter-widgets/controls",
            "_model_module_version": "1.5.0",
            "_model_name": "HTMLModel",
            "_view_count": null,
            "_view_module": "@jupyter-widgets/controls",
            "_view_module_version": "1.5.0",
            "_view_name": "HTMLView",
            "description": "",
            "description_tooltip": null,
            "layout": "IPY_MODEL_1cd7b5635a9f4e7b8f893d46a330a4d5",
            "placeholder": "​",
            "style": "IPY_MODEL_094bf1a5dadd48608643b753383718d3",
            "value": "Sampling biased random walks: 100%"
          }
        },
        "fbbe26d114e3447bb50a4772430b2b65": {
          "model_module": "@jupyter-widgets/controls",
          "model_name": "FloatProgressModel",
          "model_module_version": "1.5.0",
          "state": {
            "_dom_classes": [],
            "_model_module": "@jupyter-widgets/controls",
            "_model_module_version": "1.5.0",
            "_model_name": "FloatProgressModel",
            "_view_count": null,
            "_view_module": "@jupyter-widgets/controls",
            "_view_module_version": "1.5.0",
            "_view_name": "ProgressView",
            "bar_style": "",
            "description": "",
            "description_tooltip": null,
            "layout": "IPY_MODEL_2117f03c6c814e9282f21209e6fe8beb",
            "max": 3873,
            "min": 0,
            "orientation": "horizontal",
            "style": "IPY_MODEL_b005e6d1ab2b4f60a91af014fccdab26",
            "value": 3873
          }
        },
        "6d7809b2bf8c48ebb2b52e3c72107887": {
          "model_module": "@jupyter-widgets/controls",
          "model_name": "HTMLModel",
          "model_module_version": "1.5.0",
          "state": {
            "_dom_classes": [],
            "_model_module": "@jupyter-widgets/controls",
            "_model_module_version": "1.5.0",
            "_model_name": "HTMLModel",
            "_view_count": null,
            "_view_module": "@jupyter-widgets/controls",
            "_view_module_version": "1.5.0",
            "_view_name": "HTMLView",
            "description": "",
            "description_tooltip": null,
            "layout": "IPY_MODEL_6b6eb70ab3f442ab89d4fff66b15d354",
            "placeholder": "​",
            "style": "IPY_MODEL_4e686d0ce2774200bcc4ab84814a9e66",
            "value": " 3866/3873 [00:39&lt;00:00, 83.14it/s]"
          }
        },
        "7623e56893bf4a6998a90a44fb59cd00": {
          "model_module": "@jupyter-widgets/base",
          "model_name": "LayoutModel",
          "model_module_version": "1.2.0",
          "state": {
            "_model_module": "@jupyter-widgets/base",
            "_model_module_version": "1.2.0",
            "_model_name": "LayoutModel",
            "_view_count": null,
            "_view_module": "@jupyter-widgets/base",
            "_view_module_version": "1.2.0",
            "_view_name": "LayoutView",
            "align_content": null,
            "align_items": null,
            "align_self": null,
            "border": null,
            "bottom": null,
            "display": null,
            "flex": null,
            "flex_flow": null,
            "grid_area": null,
            "grid_auto_columns": null,
            "grid_auto_flow": null,
            "grid_auto_rows": null,
            "grid_column": null,
            "grid_gap": null,
            "grid_row": null,
            "grid_template_areas": null,
            "grid_template_columns": null,
            "grid_template_rows": null,
            "height": null,
            "justify_content": null,
            "justify_items": null,
            "left": null,
            "margin": null,
            "max_height": null,
            "max_width": null,
            "min_height": null,
            "min_width": null,
            "object_fit": null,
            "object_position": null,
            "order": null,
            "overflow": null,
            "overflow_x": null,
            "overflow_y": null,
            "padding": null,
            "right": null,
            "top": null,
            "visibility": "hidden",
            "width": null
          }
        },
        "1cd7b5635a9f4e7b8f893d46a330a4d5": {
          "model_module": "@jupyter-widgets/base",
          "model_name": "LayoutModel",
          "model_module_version": "1.2.0",
          "state": {
            "_model_module": "@jupyter-widgets/base",
            "_model_module_version": "1.2.0",
            "_model_name": "LayoutModel",
            "_view_count": null,
            "_view_module": "@jupyter-widgets/base",
            "_view_module_version": "1.2.0",
            "_view_name": "LayoutView",
            "align_content": null,
            "align_items": null,
            "align_self": null,
            "border": null,
            "bottom": null,
            "display": null,
            "flex": null,
            "flex_flow": null,
            "grid_area": null,
            "grid_auto_columns": null,
            "grid_auto_flow": null,
            "grid_auto_rows": null,
            "grid_column": null,
            "grid_gap": null,
            "grid_row": null,
            "grid_template_areas": null,
            "grid_template_columns": null,
            "grid_template_rows": null,
            "height": null,
            "justify_content": null,
            "justify_items": null,
            "left": null,
            "margin": null,
            "max_height": null,
            "max_width": null,
            "min_height": null,
            "min_width": null,
            "object_fit": null,
            "object_position": null,
            "order": null,
            "overflow": null,
            "overflow_x": null,
            "overflow_y": null,
            "padding": null,
            "right": null,
            "top": null,
            "visibility": null,
            "width": null
          }
        },
        "094bf1a5dadd48608643b753383718d3": {
          "model_module": "@jupyter-widgets/controls",
          "model_name": "DescriptionStyleModel",
          "model_module_version": "1.5.0",
          "state": {
            "_model_module": "@jupyter-widgets/controls",
            "_model_module_version": "1.5.0",
            "_model_name": "DescriptionStyleModel",
            "_view_count": null,
            "_view_module": "@jupyter-widgets/base",
            "_view_module_version": "1.2.0",
            "_view_name": "StyleView",
            "description_width": ""
          }
        },
        "2117f03c6c814e9282f21209e6fe8beb": {
          "model_module": "@jupyter-widgets/base",
          "model_name": "LayoutModel",
          "model_module_version": "1.2.0",
          "state": {
            "_model_module": "@jupyter-widgets/base",
            "_model_module_version": "1.2.0",
            "_model_name": "LayoutModel",
            "_view_count": null,
            "_view_module": "@jupyter-widgets/base",
            "_view_module_version": "1.2.0",
            "_view_name": "LayoutView",
            "align_content": null,
            "align_items": null,
            "align_self": null,
            "border": null,
            "bottom": null,
            "display": null,
            "flex": null,
            "flex_flow": null,
            "grid_area": null,
            "grid_auto_columns": null,
            "grid_auto_flow": null,
            "grid_auto_rows": null,
            "grid_column": null,
            "grid_gap": null,
            "grid_row": null,
            "grid_template_areas": null,
            "grid_template_columns": null,
            "grid_template_rows": null,
            "height": null,
            "justify_content": null,
            "justify_items": null,
            "left": null,
            "margin": null,
            "max_height": null,
            "max_width": null,
            "min_height": null,
            "min_width": null,
            "object_fit": null,
            "object_position": null,
            "order": null,
            "overflow": null,
            "overflow_x": null,
            "overflow_y": null,
            "padding": null,
            "right": null,
            "top": null,
            "visibility": null,
            "width": null
          }
        },
        "b005e6d1ab2b4f60a91af014fccdab26": {
          "model_module": "@jupyter-widgets/controls",
          "model_name": "ProgressStyleModel",
          "model_module_version": "1.5.0",
          "state": {
            "_model_module": "@jupyter-widgets/controls",
            "_model_module_version": "1.5.0",
            "_model_name": "ProgressStyleModel",
            "_view_count": null,
            "_view_module": "@jupyter-widgets/base",
            "_view_module_version": "1.2.0",
            "_view_name": "StyleView",
            "bar_color": null,
            "description_width": ""
          }
        },
        "6b6eb70ab3f442ab89d4fff66b15d354": {
          "model_module": "@jupyter-widgets/base",
          "model_name": "LayoutModel",
          "model_module_version": "1.2.0",
          "state": {
            "_model_module": "@jupyter-widgets/base",
            "_model_module_version": "1.2.0",
            "_model_name": "LayoutModel",
            "_view_count": null,
            "_view_module": "@jupyter-widgets/base",
            "_view_module_version": "1.2.0",
            "_view_name": "LayoutView",
            "align_content": null,
            "align_items": null,
            "align_self": null,
            "border": null,
            "bottom": null,
            "display": null,
            "flex": null,
            "flex_flow": null,
            "grid_area": null,
            "grid_auto_columns": null,
            "grid_auto_flow": null,
            "grid_auto_rows": null,
            "grid_column": null,
            "grid_gap": null,
            "grid_row": null,
            "grid_template_areas": null,
            "grid_template_columns": null,
            "grid_template_rows": null,
            "height": null,
            "justify_content": null,
            "justify_items": null,
            "left": null,
            "margin": null,
            "max_height": null,
            "max_width": null,
            "min_height": null,
            "min_width": null,
            "object_fit": null,
            "object_position": null,
            "order": null,
            "overflow": null,
            "overflow_x": null,
            "overflow_y": null,
            "padding": null,
            "right": null,
            "top": null,
            "visibility": null,
            "width": null
          }
        },
        "4e686d0ce2774200bcc4ab84814a9e66": {
          "model_module": "@jupyter-widgets/controls",
          "model_name": "DescriptionStyleModel",
          "model_module_version": "1.5.0",
          "state": {
            "_model_module": "@jupyter-widgets/controls",
            "_model_module_version": "1.5.0",
            "_model_name": "DescriptionStyleModel",
            "_view_count": null,
            "_view_module": "@jupyter-widgets/base",
            "_view_module_version": "1.2.0",
            "_view_name": "StyleView",
            "description_width": ""
          }
        }
      }
    }
  },
  "nbformat": 4,
  "nbformat_minor": 5
}