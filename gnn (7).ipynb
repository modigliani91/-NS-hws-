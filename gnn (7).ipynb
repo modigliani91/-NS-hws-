{
  "cells": [
    {
      "cell_type": "markdown",
      "id": "dbb6ddd8",
      "metadata": {
        "id": "dbb6ddd8"
      },
      "source": [
        "# Assignment — Graph Neural Networks"
      ]
    },
    {
      "cell_type": "code",
      "execution_count": 68,
      "id": "5ac9bb80",
      "metadata": {
        "id": "5ac9bb80"
      },
      "outputs": [],
      "source": [
        "import torch\n",
        "from sklearn.metrics import balanced_accuracy_score\n",
        "import torch.nn as nn\n",
        "from tqdm.notebook import trange\n",
        "from sklearn.manifold import TSNE\n",
        "from torch.optim import Adam\n",
        "import numpy as np\n",
        "import matplotlib.pyplot as plt\n",
        "import torch.nn.functional as F\n",
        "from sklearn.linear_model import LogisticRegression"
      ]
    },
    {
      "cell_type": "markdown",
      "id": "bc204875",
      "metadata": {
        "id": "bc204875"
      },
      "source": [
        "### CORA dataset"
      ]
    },
    {
      "cell_type": "code",
      "execution_count": null,
      "id": "8217ac0c",
      "metadata": {
        "id": "8217ac0c",
        "colab": {
          "base_uri": "https://localhost:8080/"
        },
        "outputId": "f8aecfc1-f3ec-40ad-fb34-de0413378e5d"
      },
      "outputs": [
        {
          "output_type": "stream",
          "name": "stdout",
          "text": [
            "\u001b[2K     \u001b[90m━━━━━━━━━━━━━━━━━━━━━━━━━━━━━━━━━━━━━━━━\u001b[0m \u001b[32m4.9/4.9 MB\u001b[0m \u001b[31m3.2 MB/s\u001b[0m eta \u001b[36m0:00:00\u001b[0m\n",
            "\u001b[2K     \u001b[90m━━━━━━━━━━━━━━━━━━━━━━━━━━━━━━━━━━━━━━━━\u001b[0m \u001b[32m63.5/63.5 kB\u001b[0m \u001b[31m6.9 MB/s\u001b[0m eta \u001b[36m0:00:00\u001b[0m\n",
            "\u001b[2K     \u001b[90m━━━━━━━━━━━━━━━━━━━━━━━━━━━━━━━━━━━━━━━━\u001b[0m \u001b[32m78.8/78.8 kB\u001b[0m \u001b[31m6.3 MB/s\u001b[0m eta \u001b[36m0:00:00\u001b[0m\n",
            "\u001b[2K     \u001b[90m━━━━━━━━━━━━━━━━━━━━━━━━━━━━━━━━━━━━━━━━\u001b[0m \u001b[32m52.4/52.4 kB\u001b[0m \u001b[31m4.9 MB/s\u001b[0m eta \u001b[36m0:00:00\u001b[0m\n",
            "\u001b[2K     \u001b[90m━━━━━━━━━━━━━━━━━━━━━━━━━━━━━━━━━━━━━━━━\u001b[0m \u001b[32m29.4/29.4 MB\u001b[0m \u001b[31m44.2 MB/s\u001b[0m eta \u001b[36m0:00:00\u001b[0m\n",
            "\u001b[2K     \u001b[90m━━━━━━━━━━━━━━━━━━━━━━━━━━━━━━━━━━━━━━\u001b[0m \u001b[32m109.5/109.5 kB\u001b[0m \u001b[31m10.3 MB/s\u001b[0m eta \u001b[36m0:00:00\u001b[0m\n",
            "\u001b[2K     \u001b[90m━━━━━━━━━━━━━━━━━━━━━━━━━━━━━━━━━━━━━━━━\u001b[0m \u001b[32m45.2/45.2 kB\u001b[0m \u001b[31m4.8 MB/s\u001b[0m eta \u001b[36m0:00:00\u001b[0m\n",
            "\u001b[2K     \u001b[90m━━━━━━━━━━━━━━━━━━━━━━━━━━━━━━━━━━━━━━━━\u001b[0m \u001b[32m91.2/91.2 kB\u001b[0m \u001b[31m11.1 MB/s\u001b[0m eta \u001b[36m0:00:00\u001b[0m\n",
            "\u001b[2K     \u001b[90m━━━━━━━━━━━━━━━━━━━━━━━━━━━━━━━━━━━━━━━━\u001b[0m \u001b[32m41.3/41.3 kB\u001b[0m \u001b[31m4.2 MB/s\u001b[0m eta \u001b[36m0:00:00\u001b[0m\n",
            "\u001b[2K     \u001b[90m━━━━━━━━━━━━━━━━━━━━━━━━━━━━━━━━━━━━━━━━\u001b[0m \u001b[32m3.0/3.0 MB\u001b[0m \u001b[31m60.7 MB/s\u001b[0m eta \u001b[36m0:00:00\u001b[0m\n",
            "\u001b[2K     \u001b[90m━━━━━━━━━━━━━━━━━━━━━━━━━━━━━━━━━━━━━━\u001b[0m \u001b[32m519.4/519.4 kB\u001b[0m \u001b[31m33.4 MB/s\u001b[0m eta \u001b[36m0:00:00\u001b[0m\n",
            "\u001b[?25h  Preparing metadata (setup.py) ... \u001b[?25l\u001b[?25hdone\n",
            "\u001b[2K     \u001b[90m━━━━━━━━━━━━━━━━━━━━━━━━━━━━━━━━━━━━━━\u001b[0m \u001b[32m570.5/570.5 kB\u001b[0m \u001b[31m46.6 MB/s\u001b[0m eta \u001b[36m0:00:00\u001b[0m\n",
            "\u001b[?25h  Building wheel for littleutils (setup.py) ... \u001b[?25l\u001b[?25hdone\n"
          ]
        }
      ],
      "source": [
        "!pip install dgl==0.9.1 dglgo -f https://data.dgl.ai/wheels/repo.html -q"
      ]
    },
    {
      "cell_type": "code",
      "source": [
        " !pip install -U dgl==0.8.1 dglgo -f https://data.dgl.ai/wheels/repo.html -q"
      ],
      "metadata": {
        "id": "6ho3Le7Lsgf1"
      },
      "id": "6ho3Le7Lsgf1",
      "execution_count": 69,
      "outputs": []
    },
    {
      "cell_type": "code",
      "execution_count": 73,
      "id": "97f7e59c",
      "metadata": {
        "id": "97f7e59c"
      },
      "outputs": [],
      "source": [
        "import dgl\n",
        "from dgl.data import CoraGraphDataset\n",
        "from dgl import function as fn\n",
        "from dgl.nn import SAGEConv"
      ]
    },
    {
      "cell_type": "code",
      "execution_count": 74,
      "id": "b9a52628",
      "metadata": {
        "id": "b9a52628"
      },
      "outputs": [],
      "source": [
        "import warnings\n",
        "warnings.filterwarnings(action='ignore', category=UserWarning)\n",
        "warnings.simplefilter(action='ignore', category=FutureWarning)"
      ]
    },
    {
      "cell_type": "markdown",
      "id": "6f992762",
      "metadata": {
        "id": "6f992762"
      },
      "source": [
        "The Cora dataset consists of 2708 scientific publications classified into one of seven classes. The citation network consists of 10556/2 links. Let us take a closer look at this dataset. Each publication in the dataset is described by a 0/1-valued word vector indicating the absence/presence of the corresponding word from the dictionary. The dictionary consists of 1433 unique words."
      ]
    },
    {
      "cell_type": "code",
      "execution_count": 75,
      "id": "3876dd0c",
      "metadata": {
        "id": "3876dd0c",
        "colab": {
          "base_uri": "https://localhost:8080/"
        },
        "outputId": "00bba2e4-be51-4720-9970-fc5fc4354255"
      },
      "outputs": [
        {
          "output_type": "stream",
          "name": "stdout",
          "text": [
            "Finished data loading and preprocessing.\n",
            "  NumNodes: 2708\n",
            "  NumEdges: 10556\n",
            "  NumFeats: 1433\n",
            "  NumClasses: 7\n",
            "  NumTrainingSamples: 140\n",
            "  NumValidationSamples: 500\n",
            "  NumTestSamples: 1000\n",
            "Done saving data into cached files.\n"
          ]
        }
      ],
      "source": [
        "data = CoraGraphDataset(force_reload=True)"
      ]
    },
    {
      "cell_type": "code",
      "execution_count": 76,
      "id": "60459d90",
      "metadata": {
        "id": "60459d90",
        "colab": {
          "base_uri": "https://localhost:8080/"
        },
        "outputId": "ada085c0-e0ba-4da7-853a-3b8d7fb3b8d5"
      },
      "outputs": [
        {
          "output_type": "execute_result",
          "data": {
            "text/plain": [
              "Graph(num_nodes=2708, num_edges=10556,\n",
              "      ndata_schemes={'train_mask': Scheme(shape=(), dtype=torch.bool), 'val_mask': Scheme(shape=(), dtype=torch.bool), 'test_mask': Scheme(shape=(), dtype=torch.bool), 'label': Scheme(shape=(), dtype=torch.int64), 'feat': Scheme(shape=(1433,), dtype=torch.float32)}\n",
              "      edata_schemes={'__orig__': Scheme(shape=(), dtype=torch.int64)})"
            ]
          },
          "metadata": {},
          "execution_count": 76
        }
      ],
      "source": [
        "graph = data[0]\n",
        "graph"
      ]
    },
    {
      "cell_type": "markdown",
      "id": "8e97b108",
      "metadata": {
        "id": "8e97b108"
      },
      "source": [
        "Adjacency matrix can be obtained as follows"
      ]
    },
    {
      "cell_type": "code",
      "execution_count": 77,
      "id": "2cc92084",
      "metadata": {
        "id": "2cc92084",
        "colab": {
          "base_uri": "https://localhost:8080/"
        },
        "outputId": "9bcf96c1-8b5c-4254-b191-6d77f5d734d5"
      },
      "outputs": [
        {
          "output_type": "execute_result",
          "data": {
            "text/plain": [
              "tensor([[0., 1., 1.,  ..., 0., 0., 0.],\n",
              "        [1., 0., 0.,  ..., 0., 0., 0.],\n",
              "        [1., 0., 0.,  ..., 0., 0., 0.],\n",
              "        ...,\n",
              "        [0., 0., 0.,  ..., 0., 0., 0.],\n",
              "        [0., 0., 0.,  ..., 0., 0., 1.],\n",
              "        [0., 0., 0.,  ..., 0., 1., 0.]])"
            ]
          },
          "metadata": {},
          "execution_count": 77
        }
      ],
      "source": [
        "adj = graph.adj().to_dense()\n",
        "adj"
      ]
    },
    {
      "cell_type": "markdown",
      "id": "613d60e2",
      "metadata": {
        "id": "613d60e2"
      },
      "source": [
        "Feature matrix is stored in node features `feat`."
      ]
    },
    {
      "cell_type": "code",
      "execution_count": 78,
      "id": "ffe904f8",
      "metadata": {
        "id": "ffe904f8",
        "colab": {
          "base_uri": "https://localhost:8080/"
        },
        "outputId": "cd94d36d-3030-479f-e0a3-ed3995f083f3"
      },
      "outputs": [
        {
          "output_type": "stream",
          "name": "stdout",
          "text": [
            "torch.Size([2708, 1433])\n"
          ]
        },
        {
          "output_type": "execute_result",
          "data": {
            "text/plain": [
              "tensor([[0.0000, 0.0000, 0.0000,  ..., 0.0000, 0.0000, 0.0000],\n",
              "        [0.0000, 0.0000, 0.0000,  ..., 0.0000, 0.0000, 0.0000],\n",
              "        [0.0000, 0.0000, 0.0000,  ..., 0.0000, 0.0000, 0.0000],\n",
              "        ...,\n",
              "        [0.0000, 0.0000, 0.0000,  ..., 0.0000, 0.0000, 0.0000],\n",
              "        [0.0000, 0.0000, 0.0000,  ..., 0.0000, 0.0000, 0.0000],\n",
              "        [0.0000, 0.0000, 0.0000,  ..., 0.0000, 0.0526, 0.0000]])"
            ]
          },
          "metadata": {},
          "execution_count": 78
        }
      ],
      "source": [
        "feat = graph.ndata['feat']\n",
        "print(feat.shape)\n",
        "feat"
      ]
    },
    {
      "cell_type": "markdown",
      "id": "a22e2f36",
      "metadata": {
        "id": "a22e2f36"
      },
      "source": [
        "In DGL, Cora feature matrix are normalized so that the sum per row is 1. Labels are represent type of the publication, they are stored in `label`."
      ]
    },
    {
      "cell_type": "code",
      "execution_count": 79,
      "id": "9c85b87c",
      "metadata": {
        "id": "9c85b87c",
        "colab": {
          "base_uri": "https://localhost:8080/"
        },
        "outputId": "918b8f2d-3e0f-4fb0-de5f-2bc317d46d62"
      },
      "outputs": [
        {
          "output_type": "execute_result",
          "data": {
            "text/plain": [
              "tensor([4, 4, 4,  ..., 4, 3, 3])"
            ]
          },
          "metadata": {},
          "execution_count": 79
        }
      ],
      "source": [
        "label = graph.ndata['label']\n",
        "label"
      ]
    },
    {
      "cell_type": "markdown",
      "id": "8ffdf1c0",
      "metadata": {
        "id": "8ffdf1c0"
      },
      "source": [
        "Here are train, validation and test masks."
      ]
    },
    {
      "cell_type": "code",
      "execution_count": 80,
      "id": "a0cb7ad4",
      "metadata": {
        "id": "a0cb7ad4",
        "colab": {
          "base_uri": "https://localhost:8080/"
        },
        "outputId": "11fb389f-92ed-4da3-82ab-cff0dfd2f270"
      },
      "outputs": [
        {
          "output_type": "execute_result",
          "data": {
            "text/plain": [
              "(tensor([False, False,  True,  ..., False, False, False]),\n",
              " tensor([False, False, False,  ..., False, False, False]),\n",
              " tensor([ True,  True, False,  ..., False, False, False]))"
            ]
          },
          "metadata": {},
          "execution_count": 80
        }
      ],
      "source": [
        "train_mask = graph.ndata['train_mask']\n",
        "val_mask = graph.ndata['val_mask']\n",
        "test_mask = graph.ndata['test_mask']\n",
        "val_mask, train_mask, test_mask"
      ]
    },
    {
      "cell_type": "markdown",
      "id": "18597045",
      "metadata": {
        "id": "18597045"
      },
      "source": [
        "### Task 1. Graph convolution as matrix product (0 points)"
      ]
    },
    {
      "cell_type": "markdown",
      "id": "ddc79913",
      "metadata": {
        "id": "ddc79913"
      },
      "source": [
        "Graph convolutional network (GCN) was proposed in [[1]](#references) and defined on an undirected graph as the following propagation rule:\n",
        "\n",
        "$$H^{(l)}=\\sigma\\left(\\tilde D^{-1 / 2} \\tilde A \\tilde D^{-1 / 2} H^{(l-1)} W^{(l)}\\right)$$\n",
        "\n",
        "where $\\tilde A = A + I_N$ is the adjacency matrix with added self-connections. $I_N$ is the identity matrix, $\\tilde D_{ii} = \\sum_j \\tilde A_{ij}$ is the degree matrix and $W^{(l)}$ is trainable matrix at the layer $l$. $\\sigma$ represents non-linear activation function such as ReLU. $H^{(l)}$ is the hidden states at the layer $l$ and $H^{(0)} = X$ is the initial feature matrix.\n",
        "\n",
        "Write a class `GCNMatrixProductLayer` that takes adjacency matrix, hidden states and returns the next hidden states before activation."
      ]
    },
    {
      "cell_type": "code",
      "execution_count": 81,
      "id": "7ff5b791",
      "metadata": {
        "deletable": false,
        "id": "7ff5b791",
        "nbgrader": {
          "cell_type": "code",
          "checksum": "a8e8bb1c6da30605ca8ba49a6c4ecfa9",
          "grade": false,
          "grade_id": "cell-b71f48a8f9c231a0",
          "locked": false,
          "schema_version": 3,
          "solution": true,
          "task": false
        }
      },
      "outputs": [],
      "source": [
        "class GCNMatrixProductLayer(nn.Module):\n",
        "    def __init__(self, in_dim, out_dim):\n",
        "        super().__init__()\n",
        "        self.dense = nn.Linear(in_dim, out_dim)\n",
        "        \n",
        "    def forward(self, adj, h):\n",
        "        _adj = adj.clone()\n",
        "        _adj = _adj + torch.eye(_adj.shape[0])\n",
        "        diag = _adj.sum(dim=1) ** (- 0.5)\n",
        "        return diag[:, None] * _adj * diag[None, :] @ self.dense(h)"
      ]
    },
    {
      "cell_type": "code",
      "execution_count": 83,
      "id": "904fa061",
      "metadata": {
        "deletable": false,
        "editable": false,
        "id": "904fa061",
        "nbgrader": {
          "cell_type": "code",
          "checksum": "508f28b0a571960c10b36bb656874b59",
          "grade": true,
          "grade_id": "cell-59516dd351a3b233",
          "locked": true,
          "points": 0,
          "schema_version": 3,
          "solution": false,
          "task": false
        }
      },
      "outputs": [],
      "source": [
        "layer = GCNMatrixProductLayer(in_dim=2708, out_dim=10)\n",
        "with torch.no_grad():\n",
        "    layer.dense.weight.fill_(0.1)\n",
        "    layer.dense.bias.fill_(0.1)\n",
        "    h = layer(adj, torch.eye(2708))\n",
        "assert round(h[0, 0].item(), 2) == 0.19"
      ]
    },
    {
      "cell_type": "markdown",
      "id": "1b041722",
      "metadata": {
        "id": "1b041722"
      },
      "source": [
        "Write a class `GCNMatrixProduct` that takes the adjacency matrix and feature matrix and performs two-layer convolution with intermediate ReLU activation. The class initialized by input, hidden and output dimensions."
      ]
    },
    {
      "cell_type": "code",
      "execution_count": 84,
      "id": "1c9ef4e4",
      "metadata": {
        "deletable": false,
        "id": "1c9ef4e4",
        "nbgrader": {
          "cell_type": "code",
          "checksum": "856ad1e1e46a477d61fb9ebbde928fa4",
          "grade": false,
          "grade_id": "cell-5cecc368828015e4",
          "locked": false,
          "schema_version": 3,
          "solution": true,
          "task": false
        }
      },
      "outputs": [],
      "source": [
        "class GCNMatrixProduct(nn.Module):\n",
        "    def __init__(self, in_dim, hid_dim, out_dim):\n",
        "        super().__init__()\n",
        "        self.gcn1 = GCNMatrixProductLayer(in_dim, hid_dim)\n",
        "        self.gcn2 = GCNMatrixProductLayer(hid_dim, out_dim)\n",
        "\n",
        "    def forward(self, adj, feat):\n",
        "        h = self.gcn1(adj, feat)\n",
        "        h = F.relu(h)\n",
        "        return self.gcn2(adj, h)"
      ]
    },
    {
      "cell_type": "code",
      "execution_count": 85,
      "id": "13b3e790",
      "metadata": {
        "deletable": false,
        "editable": false,
        "nbgrader": {
          "cell_type": "code",
          "checksum": "20891f674b1f17ad9b39e5e7323599cd",
          "grade": true,
          "grade_id": "cell-13a9aa3e489245ee",
          "locked": true,
          "points": 0,
          "schema_version": 3,
          "solution": false,
          "task": false
        },
        "id": "13b3e790"
      },
      "outputs": [],
      "source": [
        "model = GCNMatrixProduct(2708, 32, 7)\n",
        "logits = model(adj, torch.eye(2708))\n",
        "assert logits.shape == (2708, 7)\n",
        "assert logits.min() < 0"
      ]
    },
    {
      "cell_type": "markdown",
      "id": "217ab100",
      "metadata": {
        "id": "217ab100"
      },
      "source": [
        "Let us create the two-layer GCN for node classification task."
      ]
    },
    {
      "cell_type": "code",
      "execution_count": 86,
      "id": "a83c6c89",
      "metadata": {
        "id": "a83c6c89"
      },
      "outputs": [],
      "source": [
        "model = GCNMatrixProduct(1433, 32, 7)\n",
        "opt = torch.optim.Adam(model.parameters(), lr=0.01)\n",
        "log = []"
      ]
    },
    {
      "cell_type": "markdown",
      "id": "0569ff05",
      "metadata": {
        "id": "0569ff05"
      },
      "source": [
        "We train the model in semi-supervised setting: propagate information over the full graph, but optimize it by only train cross-entropy loss."
      ]
    },
    {
      "cell_type": "code",
      "execution_count": 87,
      "id": "e2e7d012",
      "metadata": {
        "id": "e2e7d012",
        "colab": {
          "base_uri": "https://localhost:8080/",
          "height": 484,
          "referenced_widgets": [
            "5c50d8232a884dfe8d39f867a4ac265e",
            "a084bb2514164799a53ead0182d8ab8d",
            "9536510cb774444f9c14cff0e86628e1",
            "f50566b8bf87428ea8730e19af487aff",
            "2b107449694a4e3bbb7eee94e93afde8",
            "a5f23c86092244519b0246bf39202b6e",
            "8ff61f5f44ec4c1599b4e0d500102ec3",
            "b12669fa686441a7bbc17ea387638ea3",
            "6ac586a11e00434185385237458719cb",
            "b846735d1c6d49b59ed41cb88b7c9b51",
            "d1b46b8f5d3a464796787227be1f839a"
          ]
        },
        "outputId": "607eb2c7-539a-452c-a251-31b8aab0b101"
      },
      "outputs": [
        {
          "output_type": "display_data",
          "data": {
            "text/plain": [
              "  0%|          | 0/200 [00:00<?, ?it/s]"
            ],
            "application/vnd.jupyter.widget-view+json": {
              "version_major": 2,
              "version_minor": 0,
              "model_id": "5c50d8232a884dfe8d39f867a4ac265e"
            }
          },
          "metadata": {}
        },
        {
          "output_type": "display_data",
          "data": {
            "text/plain": [
              "<Figure size 640x480 with 1 Axes>"
            ],
            "image/png": "[encoded data removed]"
          },
          "metadata": {}
        }
      ],
      "source": [
        "n_epochs = 200\n",
        "for i in trange(n_epochs):\n",
        "    \n",
        "    logits = model(adj, feat)\n",
        "    train_loss = F.cross_entropy(logits[train_mask], label[train_mask])\n",
        "\n",
        "    opt.zero_grad()\n",
        "    train_loss.backward()\n",
        "    opt.step()\n",
        "\n",
        "    with torch.no_grad():\n",
        "        val_loss = F.cross_entropy(logits[val_mask], label[val_mask])\n",
        "    \n",
        "    log.append([train_loss.item(), val_loss.item()])\n",
        "    \n",
        "plt.plot(np.array(log))\n",
        "plt.title('Loss')\n",
        "plt.legend(['train', 'val'])\n",
        "plt.show()"
      ]
    },
    {
      "cell_type": "markdown",
      "id": "9e222fe4",
      "metadata": {
        "id": "9e222fe4"
      },
      "source": [
        "We evaluate the model by balanced accuracy that accounts for inbalanced classes."
      ]
    },
    {
      "cell_type": "code",
      "execution_count": 88,
      "id": "7945090a",
      "metadata": {
        "deletable": false,
        "editable": false,
        "id": "7945090a",
        "nbgrader": {
          "cell_type": "code",
          "checksum": "b39b99f78ca3f8319ac2b523edc550a9",
          "grade": true,
          "grade_id": "cell-d77d156cd37bfe99",
          "locked": true,
          "points": 0,
          "schema_version": 3,
          "solution": false,
          "task": false
        },
        "colab": {
          "base_uri": "https://localhost:8080/"
        },
        "outputId": "10443c8c-ef64-45df-8290-3694248ceb7d"
      },
      "outputs": [
        {
          "output_type": "stream",
          "name": "stdout",
          "text": [
            "Balanced accuracy: 0.81\n"
          ]
        }
      ],
      "source": [
        "with torch.no_grad():\n",
        "    logits = model(adj, feat)\n",
        "y_pred = torch.argmax(logits[test_mask], 1)\n",
        "score = balanced_accuracy_score(label[test_mask], y_pred)\n",
        "assert score > 0.7\n",
        "print(f'Balanced accuracy: {score:.2f}')"
      ]
    },
    {
      "cell_type": "markdown",
      "id": "5d0b89e8",
      "metadata": {
        "id": "5d0b89e8"
      },
      "source": [
        "### Task 2. Graph convolution as message passing (0 points)"
      ]
    },
    {
      "cell_type": "markdown",
      "id": "d23ffa87",
      "metadata": {
        "id": "d23ffa87"
      },
      "source": [
        "The original GCN is computationally expensive for large graphs since it requires to compute matrix product $\\tilde D^{-1 / 2} \\tilde A \\tilde D^{-1 / 2} H^{l}$, that costs $O(|V|^2)$. However, the information is propagated along edges, the number of which is linearly depends on the number of nodes in scale-free networks, that is $O(|V|)$. Message passing framework was proposed in [[2]](#references) to reduce computation costs by representing a graph neural network's layer as the composition of two functions:\n",
        "\n",
        "$$m_{ij}^l = \\text{Message}\\left(h_i^{l-1}, h_j^{l-1}\\right)$$\n",
        "$$h_i^l = \\text{Reduce}_{j \\in \\mathcal{N}_\\text{in}(i)}\\left(m_{ji}^l\\right)$$\n",
        "\n",
        "where $\\text{Message}(\\cdot)$ is the message function that applied on each edges in the graph and stores computed values (messages) on edges. $\\text{Reduce}_{j \\in \\mathcal{N}_\\text{in}(i)}(\\cdot)$ is the reduce (aka aggregation, reduction) function that applied on each node and aggregates messages from incoming links (mailboxes). \n",
        "\n",
        "<img src='https://raw.githubusercontent.com/netspractice/network-science/main/images/messpass.png' width=600>\n",
        "\n",
        "In particular, GCN can be represented as follows:\n",
        "\n",
        "$$h_i^l = \\sigma \\left(W^l \\sum_{j \\in \\mathcal{N}_\\text{in}(i)}\\frac{h_j^{l-1}}{\\sqrt{|\\mathcal{N}_\\text{in}(j)||\\mathcal{N}_\\text{in}(i)|}}\\right)$$\n",
        "\n",
        "where the message function\n",
        "\n",
        "$$m_{ji}^l = \\frac{W^l h_j^{l-1}}{\\sqrt{|\\mathcal{N}_\\text{in}(j)|}}$$ \n",
        "\n",
        "is the transformed source node's hidden state normalized by the in-degree of the source node. The reduce function\n",
        "\n",
        "$$h_i^l = \\sigma \\left(\\frac{\\sum_{j \\in \\mathcal{N}_\\text{in}(i)} m_{ji}^l}{\\sqrt{|\\mathcal{N}_\\text{in}(i)|}}\\right)$$\n",
        "\n",
        "is the sum over all incoming neighbors' hidden states with in-degree normalization and subsequent activation $\\sigma$. Here we assume that the graph includes self-connections, that is a node is in its neighborhood. We also assume that the graph is equivalent to its undirected representation, that is $A = A^\\top$.\n",
        "\n",
        "In DGL, message passing is applied by `graph.update_all(message_func, reduce_func)` where `message_func` is defined on edges and `reduce_func` on nodes. DGL contains built-in message and reduce functions, but it is also possible to define your own functions. GCN can be implemented using following functions: \n",
        "* message function `fn.copy_src(src='h', out='m')` copies the source node feature `h` into the mailbox `m`\n",
        "* reduce function `fn.sum(msg='m', out='h')` sums messages from mailboxes `m` and save the result into the node feature `h`\n",
        "\n",
        "Write a class `GCNMessagePassingLayer` that takes a graph, hidden states and returns the next hidden states before activation.\n",
        "\n",
        "*Hints:*\n",
        "* _adding node features is similar to adding values to a dictionary: `graph.ndata['h'] = h`_\n",
        "* _in-degrees can be computed by `graph.in_degrees()`_\n",
        "\n",
        "*Remark: `graph.local_scope()` makes all operations isolated from the original graphs.*"
      ]
    },
    {
      "cell_type": "code",
      "execution_count": 89,
      "id": "f5984036",
      "metadata": {
        "deletable": false,
        "id": "f5984036",
        "nbgrader": {
          "cell_type": "code",
          "checksum": "b7285e6772f70805893fd9df8c98dd43",
          "grade": false,
          "grade_id": "cell-7e663cf5c1afa659",
          "locked": false,
          "schema_version": 3,
          "solution": true,
          "task": false
        }
      },
      "outputs": [],
      "source": [
        "class GCNMessagePassingLayer(nn.Module):\n",
        "    def __init__(self, in_dim, out_dim):\n",
        "        super().__init__()\n",
        "        self.dense = nn.Linear(in_dim, out_dim)\n",
        "    def forward(self, graph, h):\n",
        "        with graph.local_scope():\n",
        "            graph = graph.add_self_loop()\n",
        "            norm = graph.in_degrees()[:, None]**-0.5\n",
        "            graph.ndata[\"h\"] = self.dense(h) * norm\n",
        "            graph.update_all(fn.copy_src(src='h', out='m'), fn.sum(msg='m', out='h'))\n",
        "        return graph.ndata[\"h\"] * norm"
      ]
    },
    {
      "cell_type": "code",
      "execution_count": 90,
      "id": "5d8f0c5f",
      "metadata": {
        "deletable": false,
        "editable": false,
        "id": "5d8f0c5f",
        "nbgrader": {
          "cell_type": "code",
          "checksum": "8073fd1f805718186c8fd3fd29de8351",
          "grade": true,
          "grade_id": "cell-b7b8314f51fe4d0f",
          "locked": true,
          "points": 0,
          "schema_version": 3,
          "solution": false,
          "task": false
        }
      },
      "outputs": [],
      "source": [
        "layer = GCNMessagePassingLayer(in_dim=2708, out_dim=10)\n",
        "with torch.no_grad():\n",
        "    layer.dense.weight.fill_(0.1)\n",
        "    layer.dense.bias.fill_(0.1)\n",
        "    h = layer(graph, torch.eye(2708))\n",
        "assert round(h[0, 0].item(), 2) == 0.19"
      ]
    },
    {
      "cell_type": "markdown",
      "id": "5fa85c8d",
      "metadata": {
        "id": "5fa85c8d"
      },
      "source": [
        "Write a class `GCNMessagePassing` that takes the graph and feature matrix and performs two-layer convolution with intermediate ReLU activation. The class initialized by input, hidden and output dimensions."
      ]
    },
    {
      "cell_type": "code",
      "execution_count": 91,
      "id": "c5391849",
      "metadata": {
        "deletable": false,
        "id": "c5391849",
        "nbgrader": {
          "cell_type": "code",
          "checksum": "648906ac3877307e03e5e86946e862da",
          "grade": false,
          "grade_id": "cell-0e8fb3b6e5858162",
          "locked": false,
          "schema_version": 3,
          "solution": true,
          "task": false
        }
      },
      "outputs": [],
      "source": [
        "class GCNMessagePassing(nn.Module):\n",
        "    def __init__(self, in_dim, hid_dim, out_dim):\n",
        "        super().__init__()\n",
        "        self.gcn1 = GCNMessagePassingLayer(in_dim, hid_dim)\n",
        "        self.gcn2 = GCNMessagePassingLayer(hid_dim, out_dim)\n",
        "\n",
        "    def forward(self, graph, feat):\n",
        "        h = self.gcn1(graph, feat)\n",
        "        h = F.relu(h)\n",
        "        return self.gcn2(graph, h)"
      ]
    },
    {
      "cell_type": "code",
      "execution_count": 92,
      "id": "f6c274e7",
      "metadata": {
        "deletable": false,
        "editable": false,
        "nbgrader": {
          "cell_type": "code",
          "checksum": "39b9ccecacba09fdee61474dd14c580d",
          "grade": true,
          "grade_id": "cell-bbdfaaf84f5f19cf",
          "locked": true,
          "points": 0,
          "schema_version": 3,
          "solution": false,
          "task": false
        },
        "id": "f6c274e7"
      },
      "outputs": [],
      "source": [
        "model = GCNMessagePassing(2708, 32, 7)\n",
        "logits = model(graph, torch.eye(2708))\n",
        "assert logits.shape == (2708, 7)\n",
        "assert logits.min() < 0"
      ]
    },
    {
      "cell_type": "code",
      "execution_count": 93,
      "id": "7b8332d3",
      "metadata": {
        "id": "7b8332d3"
      },
      "outputs": [],
      "source": [
        "model = GCNMessagePassing(in_dim=1433, hid_dim=32, out_dim=7)\n",
        "opt = Adam(model.parameters(), lr=0.01)\n",
        "log = []"
      ]
    },
    {
      "cell_type": "markdown",
      "id": "8712d82d",
      "metadata": {
        "id": "8712d82d"
      },
      "source": [
        "We train the model in semi-supervised setting: propagate information over the full graph, but optimize it by only train cross-entropy loss."
      ]
    },
    {
      "cell_type": "code",
      "execution_count": 94,
      "id": "628bc120",
      "metadata": {
        "id": "628bc120",
        "colab": {
          "base_uri": "https://localhost:8080/",
          "height": 484,
          "referenced_widgets": [
            "f04ae41e833947c7b05c35a05045e726",
            "d0dfc07616344bce980f0d43c54a613d",
            "889ebaf0214f4ff18a923af81f2c633c",
            "7db718b4eae94d44ba75f6e10732f7dd",
            "4989fd2f5fba482b846c0ffc19cce9d3",
            "19eae579ee5c4911bc5c224bb104c149",
            "b82301bbbdf04fad8edd78fda91ac062",
            "ef024d2fcce04e09836c7de783005338",
            "4e7d8f44dfe94abdada03d170ee46809",
            "359d6d4b92b74f4aab9a392e3698033b",
            "f51e1a83b3874dfb8af6bed821b2b511"
          ]
        },
        "outputId": "89a1d1af-00b0-4e83-fbb1-1a3e06665f73"
      },
      "outputs": [
        {
          "output_type": "display_data",
          "data": {
            "text/plain": [
              "  0%|          | 0/200 [00:00<?, ?it/s]"
            ],
            "application/vnd.jupyter.widget-view+json": {
              "version_major": 2,
              "version_minor": 0,
              "model_id": "f04ae41e833947c7b05c35a05045e726"
            }
          },
          "metadata": {}
        },
        {
          "output_type": "display_data",
          "data": {
            "text/plain": [
              "<Figure size 640x480 with 1 Axes>"
            ],
            "image/png": "[encoded data removed]"
          },
          "metadata": {}
        }
      ],
      "source": [
        "n_epochs = 200\n",
        "for i in trange(n_epochs):\n",
        "    \n",
        "    logits = model(graph, feat)\n",
        "    train_loss = F.cross_entropy(logits[train_mask], label[train_mask])\n",
        "\n",
        "    opt.zero_grad()\n",
        "    train_loss.backward()\n",
        "    opt.step()\n",
        "\n",
        "    with torch.no_grad():\n",
        "        val_loss = F.cross_entropy(logits[val_mask], label[val_mask])\n",
        "    \n",
        "    log.append([train_loss.item(), val_loss.item()])\n",
        "    \n",
        "plt.plot(np.array(log))\n",
        "plt.title('Loss')\n",
        "plt.legend(['train', 'val'])\n",
        "plt.show()"
      ]
    },
    {
      "cell_type": "code",
      "execution_count": 95,
      "id": "709249ab",
      "metadata": {
        "deletable": false,
        "editable": false,
        "id": "709249ab",
        "nbgrader": {
          "cell_type": "code",
          "checksum": "d96adaccfb3d3494968ec7a788b7db10",
          "grade": true,
          "grade_id": "cell-5ec89b78a948cb61",
          "locked": true,
          "points": 0,
          "schema_version": 3,
          "solution": false,
          "task": false
        },
        "colab": {
          "base_uri": "https://localhost:8080/"
        },
        "outputId": "85e78177-8c86-449a-ec78-9f2f2a793d1a"
      },
      "outputs": [
        {
          "output_type": "stream",
          "name": "stdout",
          "text": [
            "Balanced accuracy: 0.79\n"
          ]
        }
      ],
      "source": [
        "with torch.no_grad():\n",
        "    logits = model(graph, feat)\n",
        "y_pred = torch.argmax(logits[test_mask], 1)\n",
        "score = balanced_accuracy_score(label[test_mask], y_pred)\n",
        "assert score > 0.7\n",
        "print(f'Balanced accuracy: {score:.2f}')"
      ]
    },
    {
      "cell_type": "markdown",
      "id": "b0410b89",
      "metadata": {
        "id": "b0410b89"
      },
      "source": [
        "### Task 3. Graph auto-encoder (3 points)"
      ]
    },
    {
      "cell_type": "markdown",
      "id": "53670340",
      "metadata": {
        "id": "53670340"
      },
      "source": [
        "Graph auto-encoder (GAE) was proposed in [[3]](#references) as a simple node embedding model that incorporates node features. The model is consists of two parts:\n",
        "* GCN node encoder $Z = \\text{GCN}(X, A)$ where $X$ is the feature matrix\n",
        "* Dot product decoder $\\hat A = \\sigma(ZZ^\\top)$ where $\\sigma$ is the sigmoid function\n",
        "\n",
        "Write a class `DotProductDecoder` that takes node embeddgins and returns dot product before activation."
      ]
    },
    {
      "cell_type": "code",
      "execution_count": 100,
      "id": "15c460db",
      "metadata": {
        "deletable": false,
        "nbgrader": {
          "cell_type": "code",
          "checksum": "94fc1408b8ccdeccd59e8c5d6f6aa5c4",
          "grade": false,
          "grade_id": "cell-a67dd0513e743f58",
          "locked": false,
          "schema_version": 3,
          "solution": true,
          "task": false
        },
        "id": "15c460db"
      },
      "outputs": [],
      "source": [
        "class DotProductDecoder(nn.Module):\n",
        "    def __init__(self):\n",
        "        super().__init__()\n",
        "    def forward(self, z):\n",
        "        # YOUR CODE HERE\n",
        "        adj = torch.mm(z, z.t())\n",
        "        \n",
        "        return adj"
      ]
    },
    {
      "cell_type": "code",
      "execution_count": 101,
      "id": "c730e093",
      "metadata": {
        "deletable": false,
        "editable": false,
        "nbgrader": {
          "cell_type": "code",
          "checksum": "627e49028327bee50ff18660bc952fb5",
          "grade": true,
          "grade_id": "cell-4f9b59eac548798b",
          "locked": true,
          "points": 1,
          "schema_version": 3,
          "solution": false,
          "task": false
        },
        "id": "c730e093"
      },
      "outputs": [],
      "source": [
        "decoder = DotProductDecoder()\n",
        "assert torch.all(decoder(torch.eye(2)[:, :1]) * 2 == torch.tensor([[2, 0], [0, 0]]))"
      ]
    },
    {
      "cell_type": "markdown",
      "id": "34fb8d87",
      "metadata": {
        "id": "34fb8d87"
      },
      "source": [
        "The GAE is trained to reconstruct the adjacency matrix, that is the decoder can be considered as the link prediction model. The reconstruction loss is the binary cross entropy between the adjacency matrix $A$ and reconstructed adjacency matrix $\\hat A$. To overcome the imbalance between positive and negative edges, the loss is computed with positive weights — the number of negative exaples divided by the number of positive examples, that is $(|V|^2 - E)/E$.\n",
        "\n",
        "Write a class `ReconstructionLoss` that takes reconstructed adjacency matrix and computes the binary cross entropy with positive weights `F.binary_cross_entropy_with_logits(label, target, pos_weights=...)`. The class is initialized by the adjacency matrix."
      ]
    },
    {
      "cell_type": "code",
      "execution_count": 103,
      "id": "38651b0b",
      "metadata": {
        "deletable": false,
        "nbgrader": {
          "cell_type": "code",
          "checksum": "e94ea2e39a78930a13843e844add7ee2",
          "grade": false,
          "grade_id": "cell-725f9456c5768b1e",
          "locked": false,
          "schema_version": 3,
          "solution": true,
          "task": false
        },
        "id": "38651b0b"
      },
      "outputs": [],
      "source": [
        "class ReconstructionLoss:\n",
        "    def __init__(self, adj):\n",
        "        # YOUR CODE HERE\n",
        "        self.adj = adj\n",
        "        num_nodes = adj.shape[0]\n",
        "        num_edges = adj.sum()\n",
        "        self.pos_weight = (num_nodes ** 2 - num_edges) / num_edges\n",
        "    \n",
        "    def __call__(self, rec_adj):\n",
        "        # YOUR CODE HERE\n",
        "        return F.binary_cross_entropy_with_logits(rec_adj, self.adj, pos_weight=self.pos_weight)"
      ]
    },
    {
      "cell_type": "code",
      "execution_count": 105,
      "id": "575a9887",
      "metadata": {
        "deletable": false,
        "editable": false,
        "nbgrader": {
          "cell_type": "code",
          "checksum": "6822debfb10e4c8eaffb38f83d7011bd",
          "grade": true,
          "grade_id": "cell-e6b239111250755e",
          "locked": true,
          "points": 1,
          "schema_version": 3,
          "solution": false,
          "task": false
        },
        "id": "575a9887"
      },
      "outputs": [],
      "source": [
        "rec_loss = ReconstructionLoss(torch.eye(2))\n",
        "assert round(rec_loss(1 - torch.eye(2)).item(), 4) == 1.0032"
      ]
    },
    {
      "cell_type": "markdown",
      "id": "e9403b0b",
      "metadata": {
        "id": "e9403b0b"
      },
      "source": [
        "Here we initialize encoder, decoder, reconstruction loss and optimizer."
      ]
    },
    {
      "cell_type": "code",
      "execution_count": 106,
      "id": "0eb7900b",
      "metadata": {
        "id": "0eb7900b"
      },
      "outputs": [],
      "source": [
        "encoder = GCNMessagePassing(in_dim=1433, hid_dim=64, out_dim=32)\n",
        "decoder = DotProductDecoder()\n",
        "rec_loss = ReconstructionLoss(adj)\n",
        "opt = Adam(encoder.parameters(), lr=0.02)\n",
        "log = []"
      ]
    },
    {
      "cell_type": "markdown",
      "id": "6b5b5f88",
      "metadata": {
        "id": "6b5b5f88"
      },
      "source": [
        "Complete the training loop for GAE. Train the model in unsupervised setting: calculate the reconstruction loss over all edges."
      ]
    },
    {
      "cell_type": "code",
      "execution_count": 107,
      "id": "26457fa7",
      "metadata": {
        "deletable": false,
        "nbgrader": {
          "cell_type": "code",
          "checksum": "e25fc920277cbb62e8b52c82bd0732c0",
          "grade": false,
          "grade_id": "cell-f1fe4005cbb20b73",
          "locked": false,
          "schema_version": 3,
          "solution": true,
          "task": false
        },
        "id": "26457fa7",
        "colab": {
          "base_uri": "https://localhost:8080/",
          "height": 484,
          "referenced_widgets": [
            "9a656860ac1b41299ee08223aa6ac55d",
            "e2ccd3c00abb4b818242e2647059d6bc",
            "71598a253fcc4a2696eb28a280709d6a",
            "d760def4e30a43fe91db1d74c280d351",
            "033637eebaaa4d618c79b56f83941e67",
            "99a7f695fc9742a9ae85b03957b70044",
            "02b824e086884019a0a09cb4f505bf8a",
            "2e36ed7952fe4ceb90bd533b217844ca",
            "cdecf5ebe7954c0eac1c5b56acf97e1f",
            "d85de07097e44ceeb9b30bd86418d28f",
            "25526c3f53d34b869024ac994410bbbb"
          ]
        },
        "outputId": "ac41bdd8-320e-4661-d208-02f2fc7862a7"
      },
      "outputs": [
        {
          "output_type": "display_data",
          "data": {
            "text/plain": [
              "  0%|          | 0/400 [00:00<?, ?it/s]"
            ],
            "application/vnd.jupyter.widget-view+json": {
              "version_major": 2,
              "version_minor": 0,
              "model_id": "9a656860ac1b41299ee08223aa6ac55d"
            }
          },
          "metadata": {}
        },
        {
          "output_type": "display_data",
          "data": {
            "text/plain": [
              "<Figure size 640x480 with 1 Axes>"
            ],
            "image/png": "[encoded data removed]"
          },
          "metadata": {}
        }
      ],
      "source": [
        "n_epochs = 400\n",
        "for i in trange(n_epochs):\n",
        "    # YOUR CODE HERE\n",
        "    embeddings = encoder(graph, feat)\n",
        "    reconstructed_adj = decoder(embeddings)\n",
        "    loss = rec_loss(reconstructed_adj)\n",
        "    opt.zero_grad()\n",
        "    loss.backward()\n",
        "    opt.step()\n",
        "    log.append(loss.item())\n",
        "    ###\n",
        "    \n",
        "plt.plot(np.array(log))\n",
        "plt.title('Loss')\n",
        "plt.show()"
      ]
    },
    {
      "cell_type": "markdown",
      "id": "63152cb4",
      "metadata": {
        "id": "63152cb4"
      },
      "source": [
        "We evaluate GAE by obtaining node embeddings via GCN encoder and training the logistic regression for node classification task."
      ]
    },
    {
      "cell_type": "code",
      "execution_count": 109,
      "id": "8219af43",
      "metadata": {
        "deletable": false,
        "editable": false,
        "nbgrader": {
          "cell_type": "code",
          "checksum": "ef3b36a212c279031e8dd78a9afeae0e",
          "grade": true,
          "grade_id": "cell-85a3ec5453dd8fc2",
          "locked": true,
          "points": 1,
          "schema_version": 3,
          "solution": false,
          "task": false
        },
        "id": "8219af43",
        "colab": {
          "base_uri": "https://localhost:8080/"
        },
        "outputId": "0ae4244d-6adb-46a2-8a1c-581170a8796e"
      },
      "outputs": [
        {
          "output_type": "stream",
          "name": "stdout",
          "text": [
            "Balanced accuracy: 0.70\n"
          ]
        }
      ],
      "source": [
        "with torch.no_grad():\n",
        "    X = encoder.forward(graph, feat).numpy()\n",
        "y = label.numpy()\n",
        "\n",
        "lr = LogisticRegression()\n",
        "lr.fit(X[train_mask], y[train_mask])\n",
        "\n",
        "y_true = y[test_mask]\n",
        "y_pred = lr.predict(X[test_mask])\n",
        "score = balanced_accuracy_score(y_true, y_pred)\n",
        "assert score >= 0.6\n",
        "print(f'Balanced accuracy: {score:.2f}')"
      ]
    },
    {
      "cell_type": "markdown",
      "id": "ba9a163e",
      "metadata": {
        "id": "ba9a163e"
      },
      "source": [
        "Let us visualize node embeddings via t-SNE."
      ]
    },
    {
      "cell_type": "code",
      "execution_count": 110,
      "id": "7bd996e0",
      "metadata": {
        "id": "7bd996e0",
        "colab": {
          "base_uri": "https://localhost:8080/",
          "height": 699
        },
        "outputId": "8481968b-1fa2-4078-a290-443bb0b042d3"
      },
      "outputs": [
        {
          "output_type": "display_data",
          "data": {
            "text/plain": [
              "<Figure size 800x800 with 1 Axes>"
            ],
            "image/png": "[encoded data removed]"
          },
          "metadata": {}
        }
      ],
      "source": [
        "xy_emb = TSNE(n_components=2).fit_transform(X)\n",
        "plt.figure(figsize=(8, 8))\n",
        "plt.title('Node embeddings of graph auto-encoder')\n",
        "scatter = plt.scatter(xy_emb[:, 0], xy_emb[:, 1], c=label, s=10, cmap=plt.cm.Set2)"
      ]
    },
    {
      "cell_type": "markdown",
      "id": "46be1142",
      "metadata": {
        "id": "46be1142"
      },
      "source": [
        "Note that GAE is the simplest encoder-decoder graph model that can be extended to the variational graph auto-encoder (VGAE) [[3]](#references) and GraphVAE [[4]](#references)."
      ]
    },
    {
      "cell_type": "markdown",
      "id": "ad32f587",
      "metadata": {
        "id": "ad32f587"
      },
      "source": [
        "### Task 4. Graph attention network (4 points)"
      ]
    },
    {
      "cell_type": "markdown",
      "id": "dda10446",
      "metadata": {
        "id": "dda10446"
      },
      "source": [
        "The graph attention network (GAT) was proposed in [[5]](#references). The idea behind GAT is based on the multi-head self-attention mechanism [[6]](#references). The graph attention layer is defined by message passing as follows:\n",
        "\n",
        "$$h_i^{l} = \\sum_{j \\in \\mathcal{N}(i)}\\alpha_{ij}^{l}W_\\text{node}^{l}h_j^{l-1}$$\n",
        "\n",
        "where $\\alpha_{ij}$ is the attention score defined on each edge:\n",
        "\n",
        "$$\\alpha_{ij}^{l} = \\text{Softmax}_i(e_{ij}^{l})$$\n",
        "\n",
        "where $e_{ij}^{l}$ is the edge hidden state obtained by the linear transformation of concatenatenated nodes' hidden states and subsequent LeakyReLU activation:\n",
        "\n",
        "$$e_{ij}^{l} = \\text{LeakyReLU}(W_\\text{edge}^l[W_\\text{node}^{l}h_i^{l-1}||W_\\text{node}^{l}h_j^{l-1}])$$\n",
        "\n",
        "where $[\\cdot||\\cdot]$ is concatenation. The multi-head self-attention is defined by different types of attention score (heads) $(\\alpha_{ij}^{l})_0, (\\alpha_{ij}^{l})_1, ..., (\\alpha_{ij}^{l})_N,$. The final node's hidden state is obtained by concatenation all heads' outputs."
      ]
    },
    {
      "cell_type": "markdown",
      "id": "ed046bcf",
      "metadata": {
        "id": "ed046bcf"
      },
      "source": [
        "Here is the GAT layer that calculates nodes' preliminary hidden states by `self.fc` ($W_\\text{node}$) layer and copies them to the node feature `z`, then concatenates them on edges by `edge_cat` function and copies to the edge feature `z`, then calculates attention score by `self.attn_fc` ($W_\\text{edge}$) layer and performs message passing. At the end, it concatenates the next hidden states from all heads.\n",
        "\n",
        "_Remark: `graph.apply_edges` applies an edge-wise function on all edges in the graph._"
      ]
    },
    {
      "cell_type": "code",
      "execution_count": 111,
      "id": "7df03d73",
      "metadata": {
        "deletable": false,
        "editable": false,
        "nbgrader": {
          "cell_type": "code",
          "checksum": "196cc47282c1195fda00e09bd227fe79",
          "grade": false,
          "grade_id": "cell-21314765531e0c74",
          "locked": true,
          "schema_version": 3,
          "solution": false,
          "task": false
        },
        "id": "7df03d73"
      },
      "outputs": [],
      "source": [
        "class GATLayer(nn.Module):\n",
        "    def __init__(self, in_dim, out_dim, n_heads):\n",
        "        super().__init__()\n",
        "        self.fc = nn.Linear(in_dim, out_dim)\n",
        "        self.n_heads = n_heads\n",
        "        attn_fc = []\n",
        "        for _ in range(n_heads):\n",
        "            attn_fc.append(nn.Linear(2 * out_dim, 1))\n",
        "        self.attn_fc = nn.ModuleList(attn_fc)\n",
        "        \n",
        "    def forward(self, graph, feat):\n",
        "        with graph.local_scope():\n",
        "            graph = graph.add_self_loop()\n",
        "            graph.ndata['z'] = self.fc(feat)\n",
        "            graph.apply_edges(edge_cat)\n",
        "            edge_z = graph.edata['z']\n",
        "            h = []\n",
        "            for i in range(self.n_heads):\n",
        "                graph.edata['e'] = F.leaky_relu(self.attn_fc[i](edge_z))\n",
        "                graph.update_all(message_func, reduce_func)\n",
        "                h.append(graph.ndata['h'])\n",
        "            return torch.cat(h, dim=1)"
      ]
    },
    {
      "cell_type": "markdown",
      "id": "fe1864c2",
      "metadata": {
        "id": "fe1864c2"
      },
      "source": [
        "In DGL, we can implement specific functions that can be applied on edges or nodes. Let us define an edge-wise function that concatenates nodes' preliminary hidden states `z` and copies them to the edge feature `z`. It takes a batch of edges `dgl.udf.EdgeBatch` which contains source node features in the attribute `src`, destination node features in the attribute `dst` and edge features in the attribute `data`. For example:\n",
        "* `edges.src['z']` is the source node feature `z`\n",
        "* `edges.dst['z']` is the destination node feature `z`\n",
        "* `edges.data['e']` is the edges feature `e`\n",
        "\n",
        "Write a function `edge_cat` that takes a batch of edges and returns a dictionary where the key is `z` and the value is concatenated the source node feature `z` and the destination node feature `z`."
      ]
    },
    {
      "cell_type": "code",
      "execution_count": 121,
      "id": "5b35055e",
      "metadata": {
        "deletable": false,
        "nbgrader": {
          "cell_type": "code",
          "checksum": "668cbae4fbc494c01a25c8b354f258ea",
          "grade": false,
          "grade_id": "cell-ce362a06bda2e6de",
          "locked": false,
          "schema_version": 3,
          "solution": true,
          "task": false
        },
        "id": "5b35055e"
      },
      "outputs": [],
      "source": [
        "def edge_cat(edges):\n",
        "    # YOUR CODE HERE\n",
        "    return {'z': torch.cat([edges.src['z'], edges.dst['z']], dim=1)}"
      ]
    },
    {
      "cell_type": "code",
      "execution_count": 122,
      "id": "2dba9efa",
      "metadata": {
        "deletable": false,
        "editable": false,
        "nbgrader": {
          "cell_type": "code",
          "checksum": "04a8035313508d82117b7cf138a93a3a",
          "grade": true,
          "grade_id": "cell-ac20c7b9a52d701a",
          "locked": true,
          "points": 0.67,
          "schema_version": 3,
          "solution": false,
          "task": false
        },
        "id": "2dba9efa"
      },
      "outputs": [],
      "source": [
        "class EdgeBatch:\n",
        "    def __init__(self):\n",
        "        self.src = {'z': torch.arange(10).tile(3, 1)}\n",
        "        self.dst = {'z': torch.arange(10, 20).tile(3, 1)}\n",
        "        self.data = {'e': torch.arange(20).tile(5, 1)}\n",
        "edges = EdgeBatch()\n",
        "res = edge_cat(edges)\n",
        "assert res['z'].shape == (3, 20)\n",
        "assert torch.all(res['z'][0] == torch.arange(20))"
      ]
    },
    {
      "cell_type": "markdown",
      "id": "554ac592",
      "metadata": {
        "id": "554ac592"
      },
      "source": [
        "Next, implement the message function. Message function simply copies the source nodes' feature `z` and edges' feature `e` into mailboxes `z` and `e`.\n",
        "\n",
        "Write a function `message_func` that takes a batch of edges and returns a dictionary:\n",
        "* the key is `z`, the value is source nodes' feature `z`\n",
        "* the key is `e`, the value is edges' feature `e`"
      ]
    },
    {
      "cell_type": "code",
      "execution_count": 123,
      "id": "a2e0475d",
      "metadata": {
        "deletable": false,
        "nbgrader": {
          "cell_type": "code",
          "checksum": "8cc00e8a928114f9d63558d06f42a931",
          "grade": false,
          "grade_id": "cell-3a18badcbd54139b",
          "locked": false,
          "schema_version": 3,
          "solution": true,
          "task": false
        },
        "id": "a2e0475d"
      },
      "outputs": [],
      "source": [
        "def message_func(edges):\n",
        "    # YOUR CODE HERE\n",
        "    return {'z': edges.src['z'], 'e': edges.data['e']}"
      ]
    },
    {
      "cell_type": "code",
      "execution_count": 124,
      "id": "ed8c7b78",
      "metadata": {
        "deletable": false,
        "editable": false,
        "nbgrader": {
          "cell_type": "code",
          "checksum": "c856676cd953bc1526a4e30294757ecd",
          "grade": true,
          "grade_id": "cell-2ef6cc6f7d9b708f",
          "locked": true,
          "points": 0.67,
          "schema_version": 3,
          "solution": false,
          "task": false
        },
        "id": "ed8c7b78"
      },
      "outputs": [],
      "source": [
        "class EdgeBatch:\n",
        "    def __init__(self):\n",
        "        self.src = {'z': torch.arange(10).tile(3, 1)}\n",
        "        self.dst = {'z': torch.arange(10, 20).tile(3, 1)}\n",
        "        self.data = {'e': torch.arange(20).tile(5, 1)}\n",
        "edges = EdgeBatch()\n",
        "res = message_func(edges)\n",
        "assert res['z'].shape == (3, 10)\n",
        "assert torch.all(res['z'][0] == torch.arange(10))\n",
        "assert res['e'].shape == (5, 20)\n",
        "assert torch.all(res['e'][0] == torch.arange(20))"
      ]
    },
    {
      "cell_type": "markdown",
      "id": "4f41c262",
      "metadata": {
        "id": "4f41c262"
      },
      "source": [
        "The reduce funtion takes a batch of nodes `dgl.udf.NodeBatch` and calculates the next hidden states of nodes by summation of preliminary hidden states `z` weighted by attention score:\n",
        "$$\\alpha_{ij} = \\text{Softmax}_i(e_{ij})$$\n",
        "$$h_i = \\sum_{j \\in \\mathcal{N}(i)}\\alpha_{ij}z_j$$\n",
        "\n",
        "The batch of nodes contains incoming messages in the attribute `mailbox` of the shape (N, D, 1), where N is the number of nodes in the batch, D is the number of messages received per node for this node batch. \n",
        "\n",
        "Write a function `reduce_func` that takes a batch of nodes with mailboxes `z` and `e` and returns a dictionary where the key is `h`, the value is the next hidden states of nodes."
      ]
    },
    {
      "cell_type": "code",
      "execution_count": 125,
      "id": "e5dd2e63",
      "metadata": {
        "deletable": false,
        "nbgrader": {
          "cell_type": "code",
          "checksum": "95573749111fe5a7223ef0070b2d0874",
          "grade": false,
          "grade_id": "cell-fa9346fd8971f05b",
          "locked": false,
          "schema_version": 3,
          "solution": true,
          "task": false
        },
        "id": "e5dd2e63"
      },
      "outputs": [],
      "source": [
        "def reduce_func(nodes):\n",
        "    # YOUR CODE HERE\n",
        "    alpha = torch.softmax(nodes.mailbox['e'], dim=1)  # Compute attention scores\n",
        "    h = torch.sum(alpha * nodes.mailbox['z'], dim=1)  # Weighted sum of preliminary hidden states\n",
        "    return {'h': h}"
      ]
    },
    {
      "cell_type": "code",
      "execution_count": 127,
      "id": "d2bb6114",
      "metadata": {
        "deletable": false,
        "editable": false,
        "nbgrader": {
          "cell_type": "code",
          "checksum": "8bcfc66c7f372ac14df93ceefa350d26",
          "grade": true,
          "grade_id": "cell-6cf5795c738e58f8",
          "locked": true,
          "points": 0.67,
          "schema_version": 3,
          "solution": false,
          "task": false
        },
        "id": "d2bb6114"
      },
      "outputs": [],
      "source": [
        "class NodeBatch:\n",
        "    def __init__(self):\n",
        "        self.mailbox = dict()\n",
        "        self.mailbox['e'] = torch.arange(10, 20, dtype=float).tile(3, 1)[..., None]\n",
        "        self.mailbox['z'] = torch.arange(10, dtype=float).tile(3, 1)[..., None]\n",
        "nodes = NodeBatch()\n",
        "assert reduce_func(nodes)['h'].shape == (3, 1)\n",
        "assert round(reduce_func(nodes)['h'][0].item(), 4) == 8.4185"
      ]
    },
    {
      "cell_type": "markdown",
      "id": "a2a14cf4",
      "metadata": {
        "id": "a2a14cf4"
      },
      "source": [
        "Write a class `GAT` that takes a graph and a feature matrix and performs two-layer convolution with intermediate ReLU activation. The class initialized by input, hidden, output dimensions and the number of heads in the first layer. The second layer contains a single head."
      ]
    },
    {
      "cell_type": "code",
      "execution_count": 130,
      "id": "56ef1c65",
      "metadata": {
        "deletable": false,
        "nbgrader": {
          "cell_type": "code",
          "checksum": "48273454d4e693bf7b20e8af8dde5196",
          "grade": false,
          "grade_id": "cell-57ec6b461b254ec6",
          "locked": false,
          "schema_version": 3,
          "solution": true,
          "task": false
        },
        "id": "56ef1c65"
      },
      "outputs": [],
      "source": [
        "\"\"\"class GAT(nn.Module):\n",
        "    def __init__(self, in_dim, hid_dim, out_dim, n_heads):\n",
        "        super().__init__()\n",
        "        # self.conv1 = ...\n",
        "        # self.conv2 = ...\n",
        "        # YOUR CODE HERE\n",
        "        self.conv1 = dgl.nn.GATConv(in_dim, hid_dim, n_heads)\n",
        "        self.conv2 = dgl.nn.GATConv(hid_dim * n_heads, out_dim, 1)\n",
        "        self.activation = nn.ReLU()\n",
        "        ###\n",
        "    def forward(self, graph, feat):\n",
        "        # YOUR CODE HERE\n",
        "        x = feat\n",
        "        x = self.activation(self.conv1(graph, x).flatten(1))\n",
        "        x = self.conv2(graph, x).mean(1)\n",
        "        return x\n",
        "        ### have to delete this celll\"\"\""
      ]
    },
    {
      "cell_type": "code",
      "source": [
        "class GAT(nn.Module):\n",
        "    def __init__(self, in_dim, hid_dim, out_dim, n_heads):\n",
        "        super(GAT, self).__init__()\n",
        "        self.conv1 = GATLayer(in_dim, hid_dim, n_heads)\n",
        "        self.conv2 = GATLayer(hid_dim * n_heads, out_dim, 1)\n",
        "\n",
        "    def forward(self, graph, feat):\n",
        "        h = self.conv1(graph, feat)\n",
        "        h = F.relu(h)\n",
        "        return self.conv2(graph, h)\n"
      ],
      "metadata": {
        "id": "Gqf9QDUfRFTl"
      },
      "id": "Gqf9QDUfRFTl",
      "execution_count": 132,
      "outputs": []
    },
    {
      "cell_type": "code",
      "execution_count": 133,
      "id": "23df8dcd",
      "metadata": {
        "deletable": false,
        "editable": false,
        "nbgrader": {
          "cell_type": "code",
          "checksum": "dea3fd3cc1a0f67d8cf0ec2b4d07cfe2",
          "grade": true,
          "grade_id": "cell-fbee928783f27b2a",
          "locked": true,
          "points": 0.67,
          "schema_version": 3,
          "solution": false,
          "task": false
        },
        "id": "23df8dcd"
      },
      "outputs": [],
      "source": [
        "model = GAT(2708, 32, 7, n_heads=4)\n",
        "logits = model.conv1(graph, torch.eye(2708))\n",
        "assert logits.shape == (2708, 128)\n",
        "logits = model(graph, torch.eye(2708))\n",
        "assert logits.shape == (2708, 7)\n",
        "assert logits.min() < 0"
      ]
    },
    {
      "cell_type": "markdown",
      "id": "3c849aec",
      "metadata": {
        "id": "3c849aec"
      },
      "source": [
        "Let us initialize the model and the optimizer."
      ]
    },
    {
      "cell_type": "code",
      "execution_count": 135,
      "id": "5fefc93e",
      "metadata": {
        "id": "5fefc93e"
      },
      "outputs": [],
      "source": [
        "model = GAT(in_dim=1433, hid_dim=16, out_dim=7, n_heads=3)\n",
        "opt = Adam(model.parameters(), lr=0.005, weight_decay=0.001)\n",
        "log = []"
      ]
    },
    {
      "cell_type": "markdown",
      "id": "5e76ba50",
      "metadata": {
        "id": "5e76ba50"
      },
      "source": [
        "We train the model in semi-supervised setting: propagate information over the full graph, but optimize it by only train cross-entropy loss."
      ]
    },
    {
      "cell_type": "code",
      "execution_count": 136,
      "id": "f24f36b4",
      "metadata": {
        "id": "f24f36b4",
        "colab": {
          "base_uri": "https://localhost:8080/",
          "height": 484,
          "referenced_widgets": [
            "da1e61e8c29d423ab5abc1e04657d7ba",
            "899fff2528b344fea35b1785823dc939",
            "2bc46e346f3643cca47ddbe36a3978bb",
            "754e01cc85aa4af2aa47a4832aab3905",
            "c272da749ef241608e2c6558e5d5a106",
            "7389280f481247468685883c8ab73205",
            "ed570867bb7d4b3da831688ba7eb5b2b",
            "14e060d80d704eb1b246dd08631cef71",
            "05b9620eb61d4815b6d4eafdbe61d0f6",
            "45723c1af31245568b220e8eeca1d7be",
            "b34a0e4b04e64818945ef375654864b0"
          ]
        },
        "outputId": "aee889ee-487e-4bb9-9447-130c534181f5"
      },
      "outputs": [
        {
          "output_type": "display_data",
          "data": {
            "text/plain": [
              "  0%|          | 0/120 [00:00<?, ?it/s]"
            ],
            "application/vnd.jupyter.widget-view+json": {
              "version_major": 2,
              "version_minor": 0,
              "model_id": "da1e61e8c29d423ab5abc1e04657d7ba"
            }
          },
          "metadata": {}
        },
        {
          "output_type": "display_data",
          "data": {
            "text/plain": [
              "<Figure size 640x480 with 1 Axes>"
            ],
            "image/png": "[encoded data removed]"
          },
          "metadata": {}
        }
      ],
      "source": [
        "n_epochs = 120\n",
        "for i in trange(n_epochs):\n",
        "    \n",
        "    logits = model(graph, feat)\n",
        "    train_loss = F.cross_entropy(logits[train_mask], label[train_mask])\n",
        "\n",
        "    opt.zero_grad()\n",
        "    train_loss.backward()\n",
        "    opt.step()\n",
        "\n",
        "    with torch.no_grad():\n",
        "        val_loss = F.cross_entropy(logits[val_mask], label[val_mask])\n",
        "    \n",
        "    log.append([train_loss.item(), val_loss.item()])\n",
        "    \n",
        "plt.plot(np.array(log))\n",
        "plt.title('Loss')\n",
        "plt.legend(['train', 'val'])\n",
        "plt.show()"
      ]
    },
    {
      "cell_type": "code",
      "execution_count": 137,
      "id": "e66301f3",
      "metadata": {
        "deletable": false,
        "editable": false,
        "nbgrader": {
          "cell_type": "code",
          "checksum": "79efdeca8d9bd270d2ef0955d5fe5f4f",
          "grade": true,
          "grade_id": "cell-11d791f5122b19f3",
          "locked": true,
          "points": 0.67,
          "schema_version": 3,
          "solution": false,
          "task": false
        },
        "id": "e66301f3",
        "colab": {
          "base_uri": "https://localhost:8080/"
        },
        "outputId": "efe99979-77e0-4ad9-cf2e-9a8b27eb5c3d"
      },
      "outputs": [
        {
          "output_type": "stream",
          "name": "stdout",
          "text": [
            "Balanced accuracy: 0.77\n"
          ]
        }
      ],
      "source": [
        "with torch.no_grad():\n",
        "    logits = model(graph, feat)\n",
        "y_pred = torch.argmax(logits[test_mask], 1)\n",
        "score = balanced_accuracy_score(label[test_mask], y_pred)\n",
        "assert score > 0.7\n",
        "print(f'Balanced accuracy: {score:.2f}')"
      ]
    },
    {
      "cell_type": "markdown",
      "id": "d1c7e216",
      "metadata": {
        "id": "d1c7e216"
      },
      "source": [
        "We can explain model's predictions using GAT — neighbors with large attention score have the great impact to model's prediction. Let us calculate the neighbors importance using the attention score.\n",
        "\n",
        "Write a function `neighbor_importance` that takes a node index for which we want to explain the prediction, a trained GAT, a graph and a feature matrix. It returns a tuple:\n",
        "* np.array with indices of neighbors\n",
        "* np.array with attention scores on the first GAT layer for each neighbor. Attention score is averaged among all heads.\n",
        "\n",
        "_Hint: use `graph.predecessors` to obtain neighbors_"
      ]
    },
    {
      "cell_type": "code",
      "execution_count": 145,
      "id": "49a81627",
      "metadata": {
        "deletable": false,
        "nbgrader": {
          "cell_type": "code",
          "checksum": "bbc1d91f57b98dfcf437581e2b38a755",
          "grade": false,
          "grade_id": "cell-409230373547e910",
          "locked": false,
          "schema_version": 3,
          "solution": true,
          "task": false
        },
        "id": "49a81627"
      },
      "outputs": [],
      "source": [
        "def neighbor_importance(expl_node, model, graph, feat):\n",
        "    with torch.no_grad(), graph.local_scope():\n",
        "        graph = graph.add_self_loop()\n",
        "        # YOUR CODE HERE\n",
        "        node_embeddings, _ = model(graph, feat, return_attention=True)\n",
        "        src_idx, dst_idx = graph.all_edges()\n",
        "        neighbors_mask = (src_idx == expl_node)\n",
        "        neighbors = dst_idx[neighbors_mask].numpy()\n",
        "        attn_scores = torch.softmax(model.conv1.attn_fc[0](graph.edata['z'])[neighbors_mask], dim=1).mean(dim=0).numpy()\n",
        "        return neighbors, attn_scores\n",
        "        ## "
      ]
    },
    {
      "cell_type": "code",
      "execution_count": 146,
      "id": "4c6190ac",
      "metadata": {
        "deletable": false,
        "editable": false,
        "nbgrader": {
          "cell_type": "code",
          "checksum": "e120b8bff1738540880015ee455dcb5f",
          "grade": true,
          "grade_id": "cell-9f74e551dbc38adf",
          "locked": true,
          "points": 0.6499999999999999,
          "schema_version": 3,
          "solution": false,
          "task": false
        },
        "id": "4c6190ac",
        "colab": {
          "base_uri": "https://localhost:8080/",
          "height": 381
        },
        "outputId": "f61c4412-c8b0-4099-bc87-26e4766c8034"
      },
      "outputs": [
        {
          "output_type": "error",
          "ename": "TypeError",
          "evalue": "ignored",
          "traceback": [
            "\u001b[0;31m---------------------------------------------------------------------------\u001b[0m",
            "\u001b[0;31mTypeError\u001b[0m                                 Traceback (most recent call last)",
            "\u001b[0;32m<ipython-input-146-4be0953b0283>\u001b[0m in \u001b[0;36m<cell line: 1>\u001b[0;34m()\u001b[0m\n\u001b[0;32m----> 1\u001b[0;31m \u001b[0mneigh\u001b[0m\u001b[0;34m,\u001b[0m \u001b[0mattn\u001b[0m \u001b[0;34m=\u001b[0m \u001b[0mneighbor_importance\u001b[0m\u001b[0;34m(\u001b[0m\u001b[0;36m1941\u001b[0m\u001b[0;34m,\u001b[0m \u001b[0mmodel\u001b[0m\u001b[0;34m,\u001b[0m \u001b[0mgraph\u001b[0m\u001b[0;34m,\u001b[0m \u001b[0mfeat\u001b[0m\u001b[0;34m)\u001b[0m\u001b[0;34m\u001b[0m\u001b[0;34m\u001b[0m\u001b[0m\n\u001b[0m\u001b[1;32m      2\u001b[0m \u001b[0;32massert\u001b[0m \u001b[0mtype\u001b[0m\u001b[0;34m(\u001b[0m\u001b[0mneigh\u001b[0m\u001b[0;34m)\u001b[0m \u001b[0;34m==\u001b[0m \u001b[0mtype\u001b[0m\u001b[0;34m(\u001b[0m\u001b[0mattn\u001b[0m\u001b[0;34m)\u001b[0m \u001b[0;34m==\u001b[0m \u001b[0mnp\u001b[0m\u001b[0;34m.\u001b[0m\u001b[0mndarray\u001b[0m\u001b[0;34m\u001b[0m\u001b[0;34m\u001b[0m\u001b[0m\n\u001b[1;32m      3\u001b[0m \u001b[0;32massert\u001b[0m \u001b[0mneigh\u001b[0m\u001b[0;34m.\u001b[0m\u001b[0mshape\u001b[0m \u001b[0;34m==\u001b[0m \u001b[0mattn\u001b[0m\u001b[0;34m.\u001b[0m\u001b[0mshape\u001b[0m \u001b[0;34m==\u001b[0m \u001b[0;34m(\u001b[0m\u001b[0;36m7\u001b[0m\u001b[0;34m,\u001b[0m \u001b[0;34m)\u001b[0m\u001b[0;34m\u001b[0m\u001b[0;34m\u001b[0m\u001b[0m\n\u001b[1;32m      4\u001b[0m \u001b[0;32massert\u001b[0m \u001b[0mround\u001b[0m\u001b[0;34m(\u001b[0m\u001b[0mattn\u001b[0m\u001b[0;34m.\u001b[0m\u001b[0msum\u001b[0m\u001b[0;34m(\u001b[0m\u001b[0;34m)\u001b[0m\u001b[0;34m,\u001b[0m \u001b[0;36m2\u001b[0m\u001b[0;34m)\u001b[0m \u001b[0;34m==\u001b[0m \u001b[0;36m1\u001b[0m\u001b[0;34m\u001b[0m\u001b[0;34m\u001b[0m\u001b[0m\n\u001b[1;32m      5\u001b[0m \u001b[0;32massert\u001b[0m \u001b[0;36m1397\u001b[0m \u001b[0;34m==\u001b[0m \u001b[0mneigh\u001b[0m\u001b[0;34m[\u001b[0m\u001b[0mattn\u001b[0m\u001b[0;34m.\u001b[0m\u001b[0margmax\u001b[0m\u001b[0;34m(\u001b[0m\u001b[0;34m)\u001b[0m\u001b[0;34m]\u001b[0m \u001b[0;32mor\u001b[0m \u001b[0;36m1937\u001b[0m \u001b[0;34m==\u001b[0m \u001b[0mneigh\u001b[0m\u001b[0;34m[\u001b[0m\u001b[0mattn\u001b[0m\u001b[0;34m.\u001b[0m\u001b[0margmax\u001b[0m\u001b[0;34m(\u001b[0m\u001b[0;34m)\u001b[0m\u001b[0;34m]\u001b[0m\u001b[0;34m\u001b[0m\u001b[0;34m\u001b[0m\u001b[0m\n",
            "\u001b[0;32m<ipython-input-145-50d443559ee9>\u001b[0m in \u001b[0;36mneighbor_importance\u001b[0;34m(expl_node, model, graph, feat)\u001b[0m\n\u001b[1;32m      3\u001b[0m         \u001b[0mgraph\u001b[0m \u001b[0;34m=\u001b[0m \u001b[0mgraph\u001b[0m\u001b[0;34m.\u001b[0m\u001b[0madd_self_loop\u001b[0m\u001b[0;34m(\u001b[0m\u001b[0;34m)\u001b[0m\u001b[0;34m\u001b[0m\u001b[0;34m\u001b[0m\u001b[0m\n\u001b[1;32m      4\u001b[0m         \u001b[0;31m# YOUR CODE HERE\u001b[0m\u001b[0;34m\u001b[0m\u001b[0;34m\u001b[0m\u001b[0m\n\u001b[0;32m----> 5\u001b[0;31m         \u001b[0mnode_embeddings\u001b[0m\u001b[0;34m,\u001b[0m \u001b[0m_\u001b[0m \u001b[0;34m=\u001b[0m \u001b[0mmodel\u001b[0m\u001b[0;34m(\u001b[0m\u001b[0mgraph\u001b[0m\u001b[0;34m,\u001b[0m \u001b[0mfeat\u001b[0m\u001b[0;34m,\u001b[0m \u001b[0mreturn_attention\u001b[0m\u001b[0;34m=\u001b[0m\u001b[0;32mTrue\u001b[0m\u001b[0;34m)\u001b[0m\u001b[0;34m\u001b[0m\u001b[0;34m\u001b[0m\u001b[0m\n\u001b[0m\u001b[1;32m      6\u001b[0m         \u001b[0msrc_idx\u001b[0m\u001b[0;34m,\u001b[0m \u001b[0mdst_idx\u001b[0m \u001b[0;34m=\u001b[0m \u001b[0mgraph\u001b[0m\u001b[0;34m.\u001b[0m\u001b[0mall_edges\u001b[0m\u001b[0;34m(\u001b[0m\u001b[0;34m)\u001b[0m\u001b[0;34m\u001b[0m\u001b[0;34m\u001b[0m\u001b[0m\n\u001b[1;32m      7\u001b[0m         \u001b[0mneighbors_mask\u001b[0m \u001b[0;34m=\u001b[0m \u001b[0;34m(\u001b[0m\u001b[0msrc_idx\u001b[0m \u001b[0;34m==\u001b[0m \u001b[0mexpl_node\u001b[0m\u001b[0;34m)\u001b[0m\u001b[0;34m\u001b[0m\u001b[0;34m\u001b[0m\u001b[0m\n",
            "\u001b[0;32m/usr/local/lib/python3.10/dist-packages/torch/nn/modules/module.py\u001b[0m in \u001b[0;36m_call_impl\u001b[0;34m(self, *args, **kwargs)\u001b[0m\n\u001b[1;32m   1499\u001b[0m                 \u001b[0;32mor\u001b[0m \u001b[0m_global_backward_pre_hooks\u001b[0m \u001b[0;32mor\u001b[0m \u001b[0m_global_backward_hooks\u001b[0m\u001b[0;34m\u001b[0m\u001b[0;34m\u001b[0m\u001b[0m\n\u001b[1;32m   1500\u001b[0m                 or _global_forward_hooks or _global_forward_pre_hooks):\n\u001b[0;32m-> 1501\u001b[0;31m             \u001b[0;32mreturn\u001b[0m \u001b[0mforward_call\u001b[0m\u001b[0;34m(\u001b[0m\u001b[0;34m*\u001b[0m\u001b[0margs\u001b[0m\u001b[0;34m,\u001b[0m \u001b[0;34m**\u001b[0m\u001b[0mkwargs\u001b[0m\u001b[0;34m)\u001b[0m\u001b[0;34m\u001b[0m\u001b[0;34m\u001b[0m\u001b[0m\n\u001b[0m\u001b[1;32m   1502\u001b[0m         \u001b[0;31m# Do not call functions when jit is used\u001b[0m\u001b[0;34m\u001b[0m\u001b[0;34m\u001b[0m\u001b[0m\n\u001b[1;32m   1503\u001b[0m         \u001b[0mfull_backward_hooks\u001b[0m\u001b[0;34m,\u001b[0m \u001b[0mnon_full_backward_hooks\u001b[0m \u001b[0;34m=\u001b[0m \u001b[0;34m[\u001b[0m\u001b[0;34m]\u001b[0m\u001b[0;34m,\u001b[0m \u001b[0;34m[\u001b[0m\u001b[0;34m]\u001b[0m\u001b[0;34m\u001b[0m\u001b[0;34m\u001b[0m\u001b[0m\n",
            "\u001b[0;31mTypeError\u001b[0m: GAT.forward() got an unexpected keyword argument 'return_attention'"
          ]
        }
      ],
      "source": [
        "neigh, attn = neighbor_importance(1941, model, graph, feat)\n",
        "assert type(neigh) == type(attn) == np.ndarray\n",
        "assert neigh.shape == attn.shape == (7, )\n",
        "assert round(attn.sum(), 2) == 1\n",
        "assert 1397 == neigh[attn.argmax()] or 1937 == neigh[attn.argmax()]\n",
        "plt.bar(neigh.astype('str'), attn)\n",
        "plt.xlabel('Node')\n",
        "plt.ylabel('Attention')\n",
        "plt.title('Neighbor importance')\n",
        "plt.show()"
      ]
    },
    {
      "cell_type": "markdown",
      "id": "a294b8ad",
      "metadata": {
        "id": "a294b8ad"
      },
      "source": [
        "### Task 5. Neighbor sampling with GraphSAGE (3 points)"
      ]
    },
    {
      "cell_type": "markdown",
      "id": "308322f8",
      "metadata": {
        "id": "308322f8"
      },
      "source": [
        "GraphSAGE (SAmple and AggreGatE) was proposed in [[7]](#references) as a model for inductive representation learning on large graph. There are two main things:\n",
        "* Neighbor sampling allows to train models in mini-batches, that is the model can be trained on large graphs and it also can represent previously unseen nodes (semi-supervised inductive learning)\n",
        "* Aggregation is perfomed separately on neighboring nodes and the node itself, that can be considered as \"skip-connections\" in graph neural networks\n",
        "\n",
        "Neighbor sampling is a technique to construct a message flow graph by randomly sampled neighbors of a target node.\n",
        "\n",
        "<img src='https://raw.githubusercontent.com/netspractice/network-science/main/images/neighbor_sampling.png' width=800>"
      ]
    },
    {
      "cell_type": "markdown",
      "id": "4bddb502",
      "metadata": {
        "id": "4bddb502"
      },
      "source": [
        "In DGL, neighbor sampling is performed by `NodeDataLoader`. First, we create sets of indices with train, validation and test nodes."
      ]
    },
    {
      "cell_type": "code",
      "execution_count": 147,
      "id": "c056e85a",
      "metadata": {
        "id": "c056e85a",
        "colab": {
          "base_uri": "https://localhost:8080/"
        },
        "outputId": "7e2ab191-5cf8-45f4-8e9f-e850781b5401"
      },
      "outputs": [
        {
          "output_type": "execute_result",
          "data": {
            "text/plain": [
              "(tensor([ 3,  7, 24, 34, 52]),\n",
              " tensor([ 2,  6,  9, 10, 22]),\n",
              " tensor([0, 1, 4, 5, 8]))"
            ]
          },
          "metadata": {},
          "execution_count": 147
        }
      ],
      "source": [
        "train_nids = graph.nodes()[train_mask]\n",
        "val_nids = graph.nodes()[val_mask]\n",
        "test_nids = graph.nodes()[test_mask]\n",
        "train_nids[:5], val_nids[:5], test_nids[:5]"
      ]
    },
    {
      "cell_type": "markdown",
      "id": "1a59f3e7",
      "metadata": {
        "id": "1a59f3e7"
      },
      "source": [
        "Next, we create `NeighborSampler` with given number of neighbors for each layer of our network. Let it be 4 neihbors for the first layer and 4 neighbors for the second. Next, we create dataloader with the sampler."
      ]
    },
    {
      "cell_type": "code",
      "execution_count": 148,
      "id": "292d1347",
      "metadata": {
        "id": "292d1347",
        "colab": {
          "base_uri": "https://localhost:8080/"
        },
        "outputId": "21a050fa-942f-4293-e271-b1b2b09284a3"
      },
      "outputs": [
        {
          "output_type": "execute_result",
          "data": {
            "text/plain": [
              "140"
            ]
          },
          "metadata": {},
          "execution_count": 148
        }
      ],
      "source": [
        "sampler = dgl.dataloading.NeighborSampler(fanouts=[4, 4])\n",
        "train_dataloader = dgl.dataloading.NodeDataLoader(graph, train_nids, sampler, batch_size=1)\n",
        "len(train_dataloader)"
      ]
    },
    {
      "cell_type": "markdown",
      "id": "f2ae454c",
      "metadata": {
        "id": "f2ae454c"
      },
      "source": [
        "We have set batch size is 1, that is each batch contains a single target node. The number of train nodes is 140. Dataloader iterates over:\n",
        "* input nodes — the nodes from which we collect messages in the first layer\n",
        "* output nodes — the target nodes that aggregate messages from neighbors in the second layers\n",
        "* message flow graphs — list of graphs for layers"
      ]
    },
    {
      "cell_type": "code",
      "execution_count": 149,
      "id": "bb6cba51",
      "metadata": {
        "id": "bb6cba51",
        "colab": {
          "base_uri": "https://localhost:8080/"
        },
        "outputId": "bad693c0-786f-4bce-f11e-822fb5b3c5b9"
      },
      "outputs": [
        {
          "output_type": "execute_result",
          "data": {
            "text/plain": [
              "(tensor([3, 0, 4, 5, 2, 1, 6, 7]), tensor([3]))"
            ]
          },
          "metadata": {},
          "execution_count": 149
        }
      ],
      "source": [
        "for input_nodes, output_nodes, mfgs in train_dataloader:\n",
        "    break\n",
        "input_nodes, output_nodes"
      ]
    },
    {
      "cell_type": "markdown",
      "id": "04190b37",
      "metadata": {
        "id": "04190b37"
      },
      "source": [
        "We see that the target node 0 aggregates messages from 0, 633, 1862, etc."
      ]
    },
    {
      "cell_type": "code",
      "execution_count": 150,
      "id": "49567254",
      "metadata": {
        "id": "49567254",
        "colab": {
          "base_uri": "https://localhost:8080/"
        },
        "outputId": "ef476864-fda7-4316-ef3a-9f30704d5444"
      },
      "outputs": [
        {
          "output_type": "execute_result",
          "data": {
            "text/plain": [
              "(tensor([1, 2, 3, 4]), tensor([0, 0, 0, 0]))"
            ]
          },
          "metadata": {},
          "execution_count": 150
        }
      ],
      "source": [
        "mfgs[1].edges()"
      ]
    },
    {
      "cell_type": "markdown",
      "id": "16cdf063",
      "metadata": {
        "id": "16cdf063"
      },
      "source": [
        "The message flow graph (MFG) for the second layer consists of neighbors of the target nodes. Note that indices of nodes in MFG differs from indices in the original graph to optimize the message passing."
      ]
    },
    {
      "cell_type": "code",
      "execution_count": 151,
      "id": "b95d9250",
      "metadata": {
        "id": "b95d9250",
        "colab": {
          "base_uri": "https://localhost:8080/"
        },
        "outputId": "f5f35bd4-7797-43d4-85c5-566ff2200d6e"
      },
      "outputs": [
        {
          "output_type": "execute_result",
          "data": {
            "text/plain": [
              "(tensor([0, 1, 2, 3, 4]), tensor([0]))"
            ]
          },
          "metadata": {},
          "execution_count": 151
        }
      ],
      "source": [
        "mfgs[1].srcnodes(), mfgs[1].dstnodes()"
      ]
    },
    {
      "cell_type": "markdown",
      "id": "fd8edf40",
      "metadata": {
        "id": "fd8edf40"
      },
      "source": [
        "MFG is bipartite, that is messages are passing from neighbors (source nodes) 0, 1, 2, 3 to the target (destination) node 0."
      ]
    },
    {
      "cell_type": "code",
      "execution_count": 152,
      "id": "d6e130d0",
      "metadata": {
        "id": "d6e130d0",
        "colab": {
          "base_uri": "https://localhost:8080/"
        },
        "outputId": "258e39dd-2be0-4fb3-f666-4f29e84f9288"
      },
      "outputs": [
        {
          "output_type": "execute_result",
          "data": {
            "text/plain": [
              "(tensor([4, 3, 2, 5, 4, 0, 6, 5, 6, 0, 3, 7, 1, 4, 0, 2, 1, 3, 0, 6]),\n",
              " tensor([0, 0, 0, 0, 1, 1, 1, 1, 2, 2, 2, 2, 3, 3, 3, 3, 4, 4, 4, 4]))"
            ]
          },
          "metadata": {},
          "execution_count": 152
        }
      ],
      "source": [
        "mfgs[0].edges()"
      ]
    },
    {
      "cell_type": "markdown",
      "id": "f4b74fcf",
      "metadata": {
        "id": "f4b74fcf"
      },
      "source": [
        "The first MFG consists of edges that follow from source nodes in the first layer (0, 1, 2, 3, 4, 5, 6, 7) to sourse nodes in the second layer (0, 1, 2, 3). Let us create train, validation and test dataloaders with batch size 64."
      ]
    },
    {
      "cell_type": "code",
      "execution_count": 153,
      "id": "8c703230",
      "metadata": {
        "id": "8c703230",
        "colab": {
          "base_uri": "https://localhost:8080/"
        },
        "outputId": "138d3152-261f-4c39-9713-27618f2ee80e"
      },
      "outputs": [
        {
          "output_type": "execute_result",
          "data": {
            "text/plain": [
              "(3, 8, 16)"
            ]
          },
          "metadata": {},
          "execution_count": 153
        }
      ],
      "source": [
        "train_dataloader = dgl.dataloading.NodeDataLoader(graph, train_nids, sampler, batch_size=64)\n",
        "val_dataloader = dgl.dataloading.NodeDataLoader(graph, val_nids, sampler, batch_size=64)\n",
        "test_dataloader = dgl.dataloading.NodeDataLoader(graph, test_nids, sampler, batch_size=64)\n",
        "len(train_dataloader), len(val_dataloader), len(test_dataloader)"
      ]
    },
    {
      "cell_type": "markdown",
      "id": "a7f1688b",
      "metadata": {
        "id": "a7f1688b"
      },
      "source": [
        "GraphSAGE is defined by message passing:\n",
        "\n",
        "$$h_i^l = W^l[h_i^{l-1} || \\text{Aggregation}_{j \\in \\mathcal{N}(i)}(h_j^{l-1})]$$\n",
        "\n",
        "where $[\\cdot||\\cdot]$ is concatenation. Aggregation function may be represented by average, maximum or LSTM. Let us define two-layer GraphSAGE with average aggregation and intermediate ReLU activation. `SAGEConv` layer takes the MFG and features of source node, returns the hidden of destinations nodes.\n",
        "\n",
        "Write a function `forward` that takes MFGs, feature matrix for input nodes and returns the next hidden states of output nodes."
      ]
    },
    {
      "cell_type": "code",
      "execution_count": 154,
      "id": "1c6d212a",
      "metadata": {
        "deletable": false,
        "nbgrader": {
          "cell_type": "code",
          "checksum": "a8240c388d4a88c8baba1ad933da82ab",
          "grade": false,
          "grade_id": "cell-42631ac0523a62a7",
          "locked": false,
          "schema_version": 3,
          "solution": true,
          "task": false
        },
        "id": "1c6d212a"
      },
      "outputs": [],
      "source": [
        "class GraphSAGE(nn.Module):\n",
        "    def __init__(self, in_dim, hid_dim, out_dim):\n",
        "        super().__init__()\n",
        "        self.conv1 = SAGEConv(in_dim, hid_dim, aggregator_type='mean')\n",
        "        self.conv2 = SAGEConv(hid_dim, out_dim, aggregator_type='mean')\n",
        "\n",
        "    def forward(self, mfgs, feat):\n",
        "        # YOUR CODE HERE\n",
        "        h = feat\n",
        "        h = self.conv1(mfgs[0], h).flatten(1)\n",
        "        h = torch.relu(h)\n",
        "        h = self.conv2(mfgs[1], h)\n",
        "        return h\n",
        "        ###"
      ]
    },
    {
      "cell_type": "markdown",
      "id": "e747b35e",
      "metadata": {
        "id": "e747b35e"
      },
      "source": [
        "We train the model in semi-supervised setting: propagate information over the full graph, but optimize it by only train cross-entropy loss.\n",
        "\n",
        "Write a function `train_epoch` that takes GraphSAGE model, train dataloader, validation dataloader, the full feature matrix, labels and optimizer. It returns a tuple: the average train loss and the average validation loss. "
      ]
    },
    {
      "cell_type": "code",
      "source": [
        "def train_epoch(model, train_dataloader, val_dataloader, feat, label, opt):\n",
        "    model.train()\n",
        "    train_loss = 0.0\n",
        "    val_loss = 0.0\n",
        "    num_batches = 0\n",
        "\n",
        "    # Training\n",
        "    for input_nodes, output_nodes, mfgs in train_dataloader:\n",
        "        opt.zero_grad()\n",
        "        input_features = feat[input_nodes]\n",
        "        output_labels = label[output_nodes]\n",
        "\n",
        "        # Forward pass\n",
        "        output = model(mfgs, input_features)\n",
        "\n",
        "        # Calculate loss\n",
        "        loss = F.cross_entropy(output, output_labels)\n",
        "        loss.backward()\n",
        "        opt.step()\n",
        "        train_loss += loss.item()\n",
        "        num_batches += 1\n",
        "\n",
        "    # Validation\n",
        "    model.eval()\n",
        "    with torch.no_grad():\n",
        "        for input_nodes, output_nodes, mfgs in val_dataloader:\n",
        "            input_features = feat[input_nodes]\n",
        "            output_labels = label[output_nodes]\n",
        "\n",
        "            # Forward pass\n",
        "            output = model(mfgs, input_features)\n",
        "\n",
        "            # Calculate loss\n",
        "            loss = F.cross_entropy(output, output_labels)\n",
        "            val_loss += loss.item()\n",
        "\n",
        "    avg_train_loss = train_loss / num_batches\n",
        "    avg_val_loss = val_loss / len(val_dataloader)\n",
        "    \n",
        "    return avg_train_loss, avg_val_loss\n"
      ],
      "metadata": {
        "id": "rFb8R8hZbjRG"
      },
      "id": "rFb8R8hZbjRG",
      "execution_count": 157,
      "outputs": []
    },
    {
      "cell_type": "code",
      "execution_count": 158,
      "id": "8776fb7b",
      "metadata": {
        "deletable": false,
        "editable": false,
        "nbgrader": {
          "cell_type": "code",
          "checksum": "680b7450b92d8a2c0f5eaa77d0749eba",
          "grade": true,
          "grade_id": "cell-a6c94febdc58013b",
          "locked": true,
          "points": 1.5,
          "schema_version": 3,
          "solution": false,
          "task": false
        },
        "id": "8776fb7b",
        "colab": {
          "base_uri": "https://localhost:8080/",
          "height": 235
        },
        "outputId": "446a59db-68ab-4284-eed4-0475674438d9"
      },
      "outputs": [
        {
          "output_type": "error",
          "ename": "AssertionError",
          "evalue": "ignored",
          "traceback": [
            "\u001b[0;31m---------------------------------------------------------------------------\u001b[0m",
            "\u001b[0;31mAssertionError\u001b[0m                            Traceback (most recent call last)",
            "\u001b[0;32m<ipython-input-158-fac2c7ac3720>\u001b[0m in \u001b[0;36m<cell line: 7>\u001b[0;34m()\u001b[0m\n\u001b[1;32m      5\u001b[0m \u001b[0;32massert\u001b[0m \u001b[0mtype\u001b[0m\u001b[0;34m(\u001b[0m\u001b[0mval_loss\u001b[0m\u001b[0;34m)\u001b[0m \u001b[0;34m==\u001b[0m \u001b[0mfloat\u001b[0m\u001b[0;34m\u001b[0m\u001b[0;34m\u001b[0m\u001b[0m\n\u001b[1;32m      6\u001b[0m \u001b[0;32massert\u001b[0m \u001b[0;36m1.8\u001b[0m \u001b[0;34m<\u001b[0m \u001b[0mtrain_loss\u001b[0m \u001b[0;34m<\u001b[0m \u001b[0;36m2.2\u001b[0m\u001b[0;34m\u001b[0m\u001b[0;34m\u001b[0m\u001b[0m\n\u001b[0;32m----> 7\u001b[0;31m \u001b[0;32massert\u001b[0m \u001b[0;36m1.8\u001b[0m \u001b[0;34m<\u001b[0m \u001b[0mval_loss\u001b[0m \u001b[0;34m<\u001b[0m \u001b[0;36m2.2\u001b[0m\u001b[0;34m\u001b[0m\u001b[0;34m\u001b[0m\u001b[0m\n\u001b[0m\u001b[1;32m      8\u001b[0m \u001b[0mtrain_loss\u001b[0m\u001b[0;34m,\u001b[0m \u001b[0mval_loss\u001b[0m \u001b[0;34m=\u001b[0m \u001b[0mtrain_epoch\u001b[0m\u001b[0;34m(\u001b[0m\u001b[0mmodel\u001b[0m\u001b[0;34m,\u001b[0m \u001b[0mtrain_dataloader\u001b[0m\u001b[0;34m,\u001b[0m \u001b[0mval_dataloader\u001b[0m\u001b[0;34m,\u001b[0m \u001b[0mfeat\u001b[0m\u001b[0;34m,\u001b[0m \u001b[0mlabel\u001b[0m\u001b[0;34m,\u001b[0m \u001b[0mopt\u001b[0m\u001b[0;34m)\u001b[0m\u001b[0;34m\u001b[0m\u001b[0;34m\u001b[0m\u001b[0m\n\u001b[1;32m      9\u001b[0m \u001b[0mtrain_loss\u001b[0m\u001b[0;34m,\u001b[0m \u001b[0mval_loss\u001b[0m \u001b[0;34m=\u001b[0m \u001b[0mtrain_epoch\u001b[0m\u001b[0;34m(\u001b[0m\u001b[0mmodel\u001b[0m\u001b[0;34m,\u001b[0m \u001b[0mtrain_dataloader\u001b[0m\u001b[0;34m,\u001b[0m \u001b[0mval_dataloader\u001b[0m\u001b[0;34m,\u001b[0m \u001b[0mfeat\u001b[0m\u001b[0;34m,\u001b[0m \u001b[0mlabel\u001b[0m\u001b[0;34m,\u001b[0m \u001b[0mopt\u001b[0m\u001b[0;34m)\u001b[0m\u001b[0;34m\u001b[0m\u001b[0;34m\u001b[0m\u001b[0m\n",
            "\u001b[0;31mAssertionError\u001b[0m: "
          ]
        }
      ],
      "source": [
        "model = GraphSAGE(1433, 16, 7)\n",
        "opt = Adam(model.parameters(), lr=0.1)\n",
        "train_loss, val_loss = train_epoch(model, train_dataloader, val_dataloader, feat, label, opt)\n",
        "assert type(train_loss) == float\n",
        "assert type(val_loss) == float\n",
        "assert 1.8 < train_loss < 2.2\n",
        "assert 1.8 < val_loss < 2.2\n",
        "train_loss, val_loss = train_epoch(model, train_dataloader, val_dataloader, feat, label, opt)\n",
        "train_loss, val_loss = train_epoch(model, train_dataloader, val_dataloader, feat, label, opt)\n",
        "assert train_loss < val_loss"
      ]
    },
    {
      "cell_type": "markdown",
      "id": "e5530e48",
      "metadata": {
        "id": "e5530e48"
      },
      "source": [
        "Initialize the model and optimizers."
      ]
    },
    {
      "cell_type": "code",
      "execution_count": 159,
      "id": "a58dff00",
      "metadata": {
        "id": "a58dff00"
      },
      "outputs": [],
      "source": [
        "model = GraphSAGE(1433, 16, 7)\n",
        "opt = Adam(model.parameters(), lr=0.01)"
      ]
    },
    {
      "cell_type": "markdown",
      "id": "28def0b8",
      "metadata": {
        "id": "28def0b8"
      },
      "source": [
        "Train the model."
      ]
    },
    {
      "cell_type": "code",
      "execution_count": 160,
      "id": "55698c78",
      "metadata": {
        "id": "55698c78",
        "colab": {
          "base_uri": "https://localhost:8080/",
          "height": 484,
          "referenced_widgets": [
            "2b7b2701928e41f6b14e01daae63112d",
            "9ba5ab3eb2c44b73a15604150cd2a817",
            "108b243808854f7aa3c0a34968fb9b53",
            "1bac55de4730484ca901e0b376a72e9c",
            "9080017c6be449b98ba85452ed02ab26",
            "28ce80bd091843018a01e1c3b1973a61",
            "9ac6a8312c6f4f0f92894606082121d1",
            "b76a12e1a14a4f3c970b17821fc00686",
            "fee44b48f8ab4165b5cd21c65d3b8c7d",
            "42718c7a145c4f9a86c647143d9194c9",
            "257ba2a9188c493b869aab98309bd5de"
          ]
        },
        "outputId": "843111c6-7cd2-4a01-dffe-abb7db67df7c"
      },
      "outputs": [
        {
          "output_type": "display_data",
          "data": {
            "text/plain": [
              "  0%|          | 0/50 [00:00<?, ?it/s]"
            ],
            "application/vnd.jupyter.widget-view+json": {
              "version_major": 2,
              "version_minor": 0,
              "model_id": "2b7b2701928e41f6b14e01daae63112d"
            }
          },
          "metadata": {}
        },
        {
          "output_type": "display_data",
          "data": {
            "text/plain": [
              "<Figure size 640x480 with 1 Axes>"
            ],
            "image/png": "[encoded data removed]"
          },
          "metadata": {}
        }
      ],
      "source": [
        "log = []\n",
        "n_epochs = 50\n",
        "for i in trange(n_epochs):\n",
        "    train_loss, val_loss = train_epoch(model, train_dataloader, val_dataloader, feat, label, opt)\n",
        "    log.append([train_loss, val_loss])\n",
        "plt.plot(np.array(log))\n",
        "plt.title('Loss')\n",
        "plt.legend(['train', 'val'])\n",
        "plt.show()"
      ]
    },
    {
      "cell_type": "code",
      "execution_count": 161,
      "id": "9d0c16d2",
      "metadata": {
        "deletable": false,
        "editable": false,
        "nbgrader": {
          "cell_type": "code",
          "checksum": "7c5bce0504893fe5753e233815f38af4",
          "grade": true,
          "grade_id": "cell-1f31b207a4f89e8f",
          "locked": true,
          "points": 1.5,
          "schema_version": 3,
          "solution": false,
          "task": false
        },
        "id": "9d0c16d2",
        "colab": {
          "base_uri": "https://localhost:8080/"
        },
        "outputId": "7e2660fb-5229-4cc7-d4fe-0d742805e011"
      },
      "outputs": [
        {
          "output_type": "stream",
          "name": "stdout",
          "text": [
            "Balanced accuracy: 0.79\n"
          ]
        }
      ],
      "source": [
        "logits = []\n",
        "for input_nodes, output_nodes, mfgs in test_dataloader:\n",
        "    with torch.no_grad():\n",
        "        logits.append(model(mfgs, feat[input_nodes]))\n",
        "logits = torch.cat(logits)\n",
        "y_pred = torch.argmax(logits, 1)\n",
        "score = balanced_accuracy_score(label[test_mask], y_pred)\n",
        "assert score > 0.7\n",
        "print(f'Balanced accuracy: {score:.2f}')"
      ]
    },
    {
      "cell_type": "markdown",
      "id": "a34b61ca",
      "metadata": {
        "id": "a34b61ca"
      },
      "source": [
        "### References"
      ]
    },
    {
      "cell_type": "markdown",
      "id": "3073b8e0",
      "metadata": {
        "id": "3073b8e0"
      },
      "source": [
        "<a id='references'></a>\n",
        "\n",
        "[1] Kipf, T. N., & Welling, M. (2016). Semi-Supervised Classification with Graph Convolutional Networks. CoRR, abs/1609.02907. http://arxiv.org/abs/1609.02907\n",
        "\n",
        "[2] Gilmer, J., Schoenholz, S. S., Riley, P. F., Vinyals, O., & Dahl, G. E. (2017). Neural Message Passing for Quantum Chemistry. CoRR, abs/1704.01212. http://arxiv.org/abs/1704.01212\n",
        "\n",
        "[3] Kipf, T. N., & Welling, M. (2016). Variational Graph Auto-Encoders. arXiv. https://doi.org/10.48550/ARXIV.1611.07308\n",
        "\n",
        "[4] Simonovsky, M., & Komodakis, N. (2018). GraphVAE: Towards Generation of Small Graphs Using Variational Autoencoders. CoRR, abs/1802.03480. http://arxiv.org/abs/1802.03480\n",
        "\n",
        "[5] Veličković, P., Cucurull, G., Casanova, A., Romero, A., Liò, P., & Bengio, Y. (2017). Graph Attention Networks. arXiv. https://doi.org/10.48550/ARXIV.1710.10903\n",
        "\n",
        "[6] Vaswani, A., Shazeer, N., Parmar, N., Uszkoreit, J., Jones, L., Gomez, A. N., Kaiser, L., & Polosukhin, I. (2017). Attention Is All You Need. CoRR, abs/1706.03762. http://arxiv.org/abs/1706.03762\n",
        "\n",
        "[7] Hamilton, W. L., Ying, R., & Leskovec, J. (2017). Inductive Representation Learning on Large Graphs. CoRR, abs/1706.02216. http://arxiv.org/abs/1706.02216"
      ]
    },
    {
      "cell_type": "code",
      "execution_count": null,
      "id": "12f86f8a",
      "metadata": {
        "id": "12f86f8a"
      },
      "outputs": [],
      "source": []
    }
  ],
  "metadata": {
    "kernelspec": {
      "display_name": "Python 3",
      "language": "python",
      "name": "python3"
    },
    "language_info": {
      "codemirror_mode": {
        "name": "ipython",
        "version": 3
      },
      "file_extension": ".py",
      "mimetype": "text/x-python",
      "name": "python",
      "nbconvert_exporter": "python",
      "pygments_lexer": "ipython3",
      "version": "3.7.4"
    },
    "colab": {
      "provenance": []
    },
    "widgets": {
      "application/vnd.jupyter.widget-state+json": {
        "5c50d8232a884dfe8d39f867a4ac265e": {
          "model_module": "@jupyter-widgets/controls",
          "model_name": "HBoxModel",
          "model_module_version": "1.5.0",
          "state": {
            "_dom_classes": [],
            "_model_module": "@jupyter-widgets/controls",
            "_model_module_version": "1.5.0",
            "_model_name": "HBoxModel",
            "_view_count": null,
            "_view_module": "@jupyter-widgets/controls",
            "_view_module_version": "1.5.0",
            "_view_name": "HBoxView",
            "box_style": "",
            "children": [
              "IPY_MODEL_a084bb2514164799a53ead0182d8ab8d",
              "IPY_MODEL_9536510cb774444f9c14cff0e86628e1",
              "IPY_MODEL_f50566b8bf87428ea8730e19af487aff"
            ],
            "layout": "IPY_MODEL_2b107449694a4e3bbb7eee94e93afde8"
          }
        },
        "a084bb2514164799a53ead0182d8ab8d": {
          "model_module": "@jupyter-widgets/controls",
          "model_name": "HTMLModel",
          "model_module_version": "1.5.0",
          "state": {
            "_dom_classes": [],
            "_model_module": "@jupyter-widgets/controls",
            "_model_module_version": "1.5.0",
            "_model_name": "HTMLModel",
            "_view_count": null,
            "_view_module": "@jupyter-widgets/controls",
            "_view_module_version": "1.5.0",
            "_view_name": "HTMLView",
            "description": "",
            "description_tooltip": null,
            "layout": "IPY_MODEL_a5f23c86092244519b0246bf39202b6e",
            "placeholder": "​",
            "style": "IPY_MODEL_8ff61f5f44ec4c1599b4e0d500102ec3",
            "value": "100%"
          }
        },
        "9536510cb774444f9c14cff0e86628e1": {
          "model_module": "@jupyter-widgets/controls",
          "model_name": "FloatProgressModel",
          "model_module_version": "1.5.0",
          "state": {
            "_dom_classes": [],
            "_model_module": "@jupyter-widgets/controls",
            "_model_module_version": "1.5.0",
            "_model_name": "FloatProgressModel",
            "_view_count": null,
            "_view_module": "@jupyter-widgets/controls",
            "_view_module_version": "1.5.0",
            "_view_name": "ProgressView",
            "bar_style": "success",
            "description": "",
            "description_tooltip": null,
            "layout": "IPY_MODEL_b12669fa686441a7bbc17ea387638ea3",
            "max": 200,
            "min": 0,
            "orientation": "horizontal",
            "style": "IPY_MODEL_6ac586a11e00434185385237458719cb",
            "value": 200
          }
        },
        "f50566b8bf87428ea8730e19af487aff": {
          "model_module": "@jupyter-widgets/controls",
          "model_name": "HTMLModel",
          "model_module_version": "1.5.0",
          "state": {
            "_dom_classes": [],
            "_model_module": "@jupyter-widgets/controls",
            "_model_module_version": "1.5.0",
            "_model_name": "HTMLModel",
            "_view_count": null,
            "_view_module": "@jupyter-widgets/controls",
            "_view_module_version": "1.5.0",
            "_view_name": "HTMLView",
            "description": "",
            "description_tooltip": null,
            "layout": "IPY_MODEL_b846735d1c6d49b59ed41cb88b7c9b51",
            "placeholder": "​",
            "style": "IPY_MODEL_d1b46b8f5d3a464796787227be1f839a",
            "value": " 200/200 [00:37&lt;00:00,  6.84it/s]"
          }
        },
        "2b107449694a4e3bbb7eee94e93afde8": {
          "model_module": "@jupyter-widgets/base",
          "model_name": "LayoutModel",
          "model_module_version": "1.2.0",
          "state": {
            "_model_module": "@jupyter-widgets/base",
            "_model_module_version": "1.2.0",
            "_model_name": "LayoutModel",
            "_view_count": null,
            "_view_module": "@jupyter-widgets/base",
            "_view_module_version": "1.2.0",
            "_view_name": "LayoutView",
            "align_content": null,
            "align_items": null,
            "align_self": null,
            "border": null,
            "bottom": null,
            "display": null,
            "flex": null,
            "flex_flow": null,
            "grid_area": null,
            "grid_auto_columns": null,
            "grid_auto_flow": null,
            "grid_auto_rows": null,
            "grid_column": null,
            "grid_gap": null,
            "grid_row": null,
            "grid_template_areas": null,
            "grid_template_columns": null,
            "grid_template_rows": null,
            "height": null,
            "justify_content": null,
            "justify_items": null,
            "left": null,
            "margin": null,
            "max_height": null,
            "max_width": null,
            "min_height": null,
            "min_width": null,
            "object_fit": null,
            "object_position": null,
            "order": null,
            "overflow": null,
            "overflow_x": null,
            "overflow_y": null,
            "padding": null,
            "right": null,
            "top": null,
            "visibility": null,
            "width": null
          }
        },
        "a5f23c86092244519b0246bf39202b6e": {
          "model_module": "@jupyter-widgets/base",
          "model_name": "LayoutModel",
          "model_module_version": "1.2.0",
          "state": {
            "_model_module": "@jupyter-widgets/base",
            "_model_module_version": "1.2.0",
            "_model_name": "LayoutModel",
            "_view_count": null,
            "_view_module": "@jupyter-widgets/base",
            "_view_module_version": "1.2.0",
            "_view_name": "LayoutView",
            "align_content": null,
            "align_items": null,
            "align_self": null,
            "border": null,
            "bottom": null,
            "display": null,
            "flex": null,
            "flex_flow": null,
            "grid_area": null,
            "grid_auto_columns": null,
            "grid_auto_flow": null,
            "grid_auto_rows": null,
            "grid_column": null,
            "grid_gap": null,
            "grid_row": null,
            "grid_template_areas": null,
            "grid_template_columns": null,
            "grid_template_rows": null,
            "height": null,
            "justify_content": null,
            "justify_items": null,
            "left": null,
            "margin": null,
            "max_height": null,
            "max_width": null,
            "min_height": null,
            "min_width": null,
            "object_fit": null,
            "object_position": null,
            "order": null,
            "overflow": null,
            "overflow_x": null,
            "overflow_y": null,
            "padding": null,
            "right": null,
            "top": null,
            "visibility": null,
            "width": null
          }
        },
        "8ff61f5f44ec4c1599b4e0d500102ec3": {
          "model_module": "@jupyter-widgets/controls",
          "model_name": "DescriptionStyleModel",
          "model_module_version": "1.5.0",
          "state": {
            "_model_module": "@jupyter-widgets/controls",
            "_model_module_version": "1.5.0",
            "_model_name": "DescriptionStyleModel",
            "_view_count": null,
            "_view_module": "@jupyter-widgets/base",
            "_view_module_version": "1.2.0",
            "_view_name": "StyleView",
            "description_width": ""
          }
        },
        "b12669fa686441a7bbc17ea387638ea3": {
          "model_module": "@jupyter-widgets/base",
          "model_name": "LayoutModel",
          "model_module_version": "1.2.0",
          "state": {
            "_model_module": "@jupyter-widgets/base",
            "_model_module_version": "1.2.0",
            "_model_name": "LayoutModel",
            "_view_count": null,
            "_view_module": "@jupyter-widgets/base",
            "_view_module_version": "1.2.0",
            "_view_name": "LayoutView",
            "align_content": null,
            "align_items": null,
            "align_self": null,
            "border": null,
            "bottom": null,
            "display": null,
            "flex": null,
            "flex_flow": null,
            "grid_area": null,
            "grid_auto_columns": null,
            "grid_auto_flow": null,
            "grid_auto_rows": null,
            "grid_column": null,
            "grid_gap": null,
            "grid_row": null,
            "grid_template_areas": null,
            "grid_template_columns": null,
            "grid_template_rows": null,
            "height": null,
            "justify_content": null,
            "justify_items": null,
            "left": null,
            "margin": null,
            "max_height": null,
            "max_width": null,
            "min_height": null,
            "min_width": null,
            "object_fit": null,
            "object_position": null,
            "order": null,
            "overflow": null,
            "overflow_x": null,
            "overflow_y": null,
            "padding": null,
            "right": null,
            "top": null,
            "visibility": null,
            "width": null
          }
        },
        "6ac586a11e00434185385237458719cb": {
          "model_module": "@jupyter-widgets/controls",
          "model_name": "ProgressStyleModel",
          "model_module_version": "1.5.0",
          "state": {
            "_model_module": "@jupyter-widgets/controls",
            "_model_module_version": "1.5.0",
            "_model_name": "ProgressStyleModel",
            "_view_count": null,
            "_view_module": "@jupyter-widgets/base",
            "_view_module_version": "1.2.0",
            "_view_name": "StyleView",
            "bar_color": null,
            "description_width": ""
          }
        },
        "b846735d1c6d49b59ed41cb88b7c9b51": {
          "model_module": "@jupyter-widgets/base",
          "model_name": "LayoutModel",
          "model_module_version": "1.2.0",
          "state": {
            "_model_module": "@jupyter-widgets/base",
            "_model_module_version": "1.2.0",
            "_model_name": "LayoutModel",
            "_view_count": null,
            "_view_module": "@jupyter-widgets/base",
            "_view_module_version": "1.2.0",
            "_view_name": "LayoutView",
            "align_content": null,
            "align_items": null,
            "align_self": null,
            "border": null,
            "bottom": null,
            "display": null,
            "flex": null,
            "flex_flow": null,
            "grid_area": null,
            "grid_auto_columns": null,
            "grid_auto_flow": null,
            "grid_auto_rows": null,
            "grid_column": null,
            "grid_gap": null,
            "grid_row": null,
            "grid_template_areas": null,
            "grid_template_columns": null,
            "grid_template_rows": null,
            "height": null,
            "justify_content": null,
            "justify_items": null,
            "left": null,
            "margin": null,
            "max_height": null,
            "max_width": null,
            "min_height": null,
            "min_width": null,
            "object_fit": null,
            "object_position": null,
            "order": null,
            "overflow": null,
            "overflow_x": null,
            "overflow_y": null,
            "padding": null,
            "right": null,
            "top": null,
            "visibility": null,
            "width": null
          }
        },
        "d1b46b8f5d3a464796787227be1f839a": {
          "model_module": "@jupyter-widgets/controls",
          "model_name": "DescriptionStyleModel",
          "model_module_version": "1.5.0",
          "state": {
            "_model_module": "@jupyter-widgets/controls",
            "_model_module_version": "1.5.0",
            "_model_name": "DescriptionStyleModel",
            "_view_count": null,
            "_view_module": "@jupyter-widgets/base",
            "_view_module_version": "1.2.0",
            "_view_name": "StyleView",
            "description_width": ""
          }
        },
        "f04ae41e833947c7b05c35a05045e726": {
          "model_module": "@jupyter-widgets/controls",
          "model_name": "HBoxModel",
          "model_module_version": "1.5.0",
          "state": {
            "_dom_classes": [],
            "_model_module": "@jupyter-widgets/controls",
            "_model_module_version": "1.5.0",
            "_model_name": "HBoxModel",
            "_view_count": null,
            "_view_module": "@jupyter-widgets/controls",
            "_view_module_version": "1.5.0",
            "_view_name": "HBoxView",
            "box_style": "",
            "children": [
              "IPY_MODEL_d0dfc07616344bce980f0d43c54a613d",
              "IPY_MODEL_889ebaf0214f4ff18a923af81f2c633c",
              "IPY_MODEL_7db718b4eae94d44ba75f6e10732f7dd"
            ],
            "layout": "IPY_MODEL_4989fd2f5fba482b846c0ffc19cce9d3"
          }
        },
        "d0dfc07616344bce980f0d43c54a613d": {
          "model_module": "@jupyter-widgets/controls",
          "model_name": "HTMLModel",
          "model_module_version": "1.5.0",
          "state": {
            "_dom_classes": [],
            "_model_module": "@jupyter-widgets/controls",
            "_model_module_version": "1.5.0",
            "_model_name": "HTMLModel",
            "_view_count": null,
            "_view_module": "@jupyter-widgets/controls",
            "_view_module_version": "1.5.0",
            "_view_name": "HTMLView",
            "description": "",
            "description_tooltip": null,
            "layout": "IPY_MODEL_19eae579ee5c4911bc5c224bb104c149",
            "placeholder": "​",
            "style": "IPY_MODEL_b82301bbbdf04fad8edd78fda91ac062",
            "value": "100%"
          }
        },
        "889ebaf0214f4ff18a923af81f2c633c": {
          "model_module": "@jupyter-widgets/controls",
          "model_name": "FloatProgressModel",
          "model_module_version": "1.5.0",
          "state": {
            "_dom_classes": [],
            "_model_module": "@jupyter-widgets/controls",
            "_model_module_version": "1.5.0",
            "_model_name": "FloatProgressModel",
            "_view_count": null,
            "_view_module": "@jupyter-widgets/controls",
            "_view_module_version": "1.5.0",
            "_view_name": "ProgressView",
            "bar_style": "success",
            "description": "",
            "description_tooltip": null,
            "layout": "IPY_MODEL_ef024d2fcce04e09836c7de783005338",
            "max": 200,
            "min": 0,
            "orientation": "horizontal",
            "style": "IPY_MODEL_4e7d8f44dfe94abdada03d170ee46809",
            "value": 200
          }
        },
        "7db718b4eae94d44ba75f6e10732f7dd": {
          "model_module": "@jupyter-widgets/controls",
          "model_name": "HTMLModel",
          "model_module_version": "1.5.0",
          "state": {
            "_dom_classes": [],
            "_model_module": "@jupyter-widgets/controls",
            "_model_module_version": "1.5.0",
            "_model_name": "HTMLModel",
            "_view_count": null,
            "_view_module": "@jupyter-widgets/controls",
            "_view_module_version": "1.5.0",
            "_view_name": "HTMLView",
            "description": "",
            "description_tooltip": null,
            "layout": "IPY_MODEL_359d6d4b92b74f4aab9a392e3698033b",
            "placeholder": "​",
            "style": "IPY_MODEL_f51e1a83b3874dfb8af6bed821b2b511",
            "value": " 200/200 [00:04&lt;00:00, 39.64it/s]"
          }
        },
        "4989fd2f5fba482b846c0ffc19cce9d3": {
          "model_module": "@jupyter-widgets/base",
          "model_name": "LayoutModel",
          "model_module_version": "1.2.0",
          "state": {
            "_model_module": "@jupyter-widgets/base",
            "_model_module_version": "1.2.0",
            "_model_name": "LayoutModel",
            "_view_count": null,
            "_view_module": "@jupyter-widgets/base",
            "_view_module_version": "1.2.0",
            "_view_name": "LayoutView",
            "align_content": null,
            "align_items": null,
            "align_self": null,
            "border": null,
            "bottom": null,
            "display": null,
            "flex": null,
            "flex_flow": null,
            "grid_area": null,
            "grid_auto_columns": null,
            "grid_auto_flow": null,
            "grid_auto_rows": null,
            "grid_column": null,
            "grid_gap": null,
            "grid_row": null,
            "grid_template_areas": null,
            "grid_template_columns": null,
            "grid_template_rows": null,
            "height": null,
            "justify_content": null,
            "justify_items": null,
            "left": null,
            "margin": null,
            "max_height": null,
            "max_width": null,
            "min_height": null,
            "min_width": null,
            "object_fit": null,
            "object_position": null,
            "order": null,
            "overflow": null,
            "overflow_x": null,
            "overflow_y": null,
            "padding": null,
            "right": null,
            "top": null,
            "visibility": null,
            "width": null
          }
        },
        "19eae579ee5c4911bc5c224bb104c149": {
          "model_module": "@jupyter-widgets/base",
          "model_name": "LayoutModel",
          "model_module_version": "1.2.0",
          "state": {
            "_model_module": "@jupyter-widgets/base",
            "_model_module_version": "1.2.0",
            "_model_name": "LayoutModel",
            "_view_count": null,
            "_view_module": "@jupyter-widgets/base",
            "_view_module_version": "1.2.0",
            "_view_name": "LayoutView",
            "align_content": null,
            "align_items": null,
            "align_self": null,
            "border": null,
            "bottom": null,
            "display": null,
            "flex": null,
            "flex_flow": null,
            "grid_area": null,
            "grid_auto_columns": null,
            "grid_auto_flow": null,
            "grid_auto_rows": null,
            "grid_column": null,
            "grid_gap": null,
            "grid_row": null,
            "grid_template_areas": null,
            "grid_template_columns": null,
            "grid_template_rows": null,
            "height": null,
            "justify_content": null,
            "justify_items": null,
            "left": null,
            "margin": null,
            "max_height": null,
            "max_width": null,
            "min_height": null,
            "min_width": null,
            "object_fit": null,
            "object_position": null,
            "order": null,
            "overflow": null,
            "overflow_x": null,
            "overflow_y": null,
            "padding": null,
            "right": null,
            "top": null,
            "visibility": null,
            "width": null
          }
        },
        "b82301bbbdf04fad8edd78fda91ac062": {
          "model_module": "@jupyter-widgets/controls",
          "model_name": "DescriptionStyleModel",
          "model_module_version": "1.5.0",
          "state": {
            "_model_module": "@jupyter-widgets/controls",
            "_model_module_version": "1.5.0",
            "_model_name": "DescriptionStyleModel",
            "_view_count": null,
            "_view_module": "@jupyter-widgets/base",
            "_view_module_version": "1.2.0",
            "_view_name": "StyleView",
            "description_width": ""
          }
        },
        "ef024d2fcce04e09836c7de783005338": {
          "model_module": "@jupyter-widgets/base",
          "model_name": "LayoutModel",
          "model_module_version": "1.2.0",
          "state": {
            "_model_module": "@jupyter-widgets/base",
            "_model_module_version": "1.2.0",
            "_model_name": "LayoutModel",
            "_view_count": null,
            "_view_module": "@jupyter-widgets/base",
            "_view_module_version": "1.2.0",
            "_view_name": "LayoutView",
            "align_content": null,
            "align_items": null,
            "align_self": null,
            "border": null,
            "bottom": null,
            "display": null,
            "flex": null,
            "flex_flow": null,
            "grid_area": null,
            "grid_auto_columns": null,
            "grid_auto_flow": null,
            "grid_auto_rows": null,
            "grid_column": null,
            "grid_gap": null,
            "grid_row": null,
            "grid_template_areas": null,
            "grid_template_columns": null,
            "grid_template_rows": null,
            "height": null,
            "justify_content": null,
            "justify_items": null,
            "left": null,
            "margin": null,
            "max_height": null,
            "max_width": null,
            "min_height": null,
            "min_width": null,
            "object_fit": null,
            "object_position": null,
            "order": null,
            "overflow": null,
            "overflow_x": null,
            "overflow_y": null,
            "padding": null,
            "right": null,
            "top": null,
            "visibility": null,
            "width": null
          }
        },
        "4e7d8f44dfe94abdada03d170ee46809": {
          "model_module": "@jupyter-widgets/controls",
          "model_name": "ProgressStyleModel",
          "model_module_version": "1.5.0",
          "state": {
            "_model_module": "@jupyter-widgets/controls",
            "_model_module_version": "1.5.0",
            "_model_name": "ProgressStyleModel",
            "_view_count": null,
            "_view_module": "@jupyter-widgets/base",
            "_view_module_version": "1.2.0",
            "_view_name": "StyleView",
            "bar_color": null,
            "description_width": ""
          }
        },
        "359d6d4b92b74f4aab9a392e3698033b": {
          "model_module": "@jupyter-widgets/base",
          "model_name": "LayoutModel",
          "model_module_version": "1.2.0",
          "state": {
            "_model_module": "@jupyter-widgets/base",
            "_model_module_version": "1.2.0",
            "_model_name": "LayoutModel",
            "_view_count": null,
            "_view_module": "@jupyter-widgets/base",
            "_view_module_version": "1.2.0",
            "_view_name": "LayoutView",
            "align_content": null,
            "align_items": null,
            "align_self": null,
            "border": null,
            "bottom": null,
            "display": null,
            "flex": null,
            "flex_flow": null,
            "grid_area": null,
            "grid_auto_columns": null,
            "grid_auto_flow": null,
            "grid_auto_rows": null,
            "grid_column": null,
            "grid_gap": null,
            "grid_row": null,
            "grid_template_areas": null,
            "grid_template_columns": null,
            "grid_template_rows": null,
            "height": null,
            "justify_content": null,
            "justify_items": null,
            "left": null,
            "margin": null,
            "max_height": null,
            "max_width": null,
            "min_height": null,
            "min_width": null,
            "object_fit": null,
            "object_position": null,
            "order": null,
            "overflow": null,
            "overflow_x": null,
            "overflow_y": null,
            "padding": null,
            "right": null,
            "top": null,
            "visibility": null,
            "width": null
          }
        },
        "f51e1a83b3874dfb8af6bed821b2b511": {
          "model_module": "@jupyter-widgets/controls",
          "model_name": "DescriptionStyleModel",
          "model_module_version": "1.5.0",
          "state": {
            "_model_module": "@jupyter-widgets/controls",
            "_model_module_version": "1.5.0",
            "_model_name": "DescriptionStyleModel",
            "_view_count": null,
            "_view_module": "@jupyter-widgets/base",
            "_view_module_version": "1.2.0",
            "_view_name": "StyleView",
            "description_width": ""
          }
        },
        "9a656860ac1b41299ee08223aa6ac55d": {
          "model_module": "@jupyter-widgets/controls",
          "model_name": "HBoxModel",
          "model_module_version": "1.5.0",
          "state": {
            "_dom_classes": [],
            "_model_module": "@jupyter-widgets/controls",
            "_model_module_version": "1.5.0",
            "_model_name": "HBoxModel",
            "_view_count": null,
            "_view_module": "@jupyter-widgets/controls",
            "_view_module_version": "1.5.0",
            "_view_name": "HBoxView",
            "box_style": "",
            "children": [
              "IPY_MODEL_e2ccd3c00abb4b818242e2647059d6bc",
              "IPY_MODEL_71598a253fcc4a2696eb28a280709d6a",
              "IPY_MODEL_d760def4e30a43fe91db1d74c280d351"
            ],
            "layout": "IPY_MODEL_033637eebaaa4d618c79b56f83941e67"
          }
        },
        "e2ccd3c00abb4b818242e2647059d6bc": {
          "model_module": "@jupyter-widgets/controls",
          "model_name": "HTMLModel",
          "model_module_version": "1.5.0",
          "state": {
            "_dom_classes": [],
            "_model_module": "@jupyter-widgets/controls",
            "_model_module_version": "1.5.0",
            "_model_name": "HTMLModel",
            "_view_count": null,
            "_view_module": "@jupyter-widgets/controls",
            "_view_module_version": "1.5.0",
            "_view_name": "HTMLView",
            "description": "",
            "description_tooltip": null,
            "layout": "IPY_MODEL_99a7f695fc9742a9ae85b03957b70044",
            "placeholder": "​",
            "style": "IPY_MODEL_02b824e086884019a0a09cb4f505bf8a",
            "value": "100%"
          }
        },
        "71598a253fcc4a2696eb28a280709d6a": {
          "model_module": "@jupyter-widgets/controls",
          "model_name": "FloatProgressModel",
          "model_module_version": "1.5.0",
          "state": {
            "_dom_classes": [],
            "_model_module": "@jupyter-widgets/controls",
            "_model_module_version": "1.5.0",
            "_model_name": "FloatProgressModel",
            "_view_count": null,
            "_view_module": "@jupyter-widgets/controls",
            "_view_module_version": "1.5.0",
            "_view_name": "ProgressView",
            "bar_style": "success",
            "description": "",
            "description_tooltip": null,
            "layout": "IPY_MODEL_2e36ed7952fe4ceb90bd533b217844ca",
            "max": 400,
            "min": 0,
            "orientation": "horizontal",
            "style": "IPY_MODEL_cdecf5ebe7954c0eac1c5b56acf97e1f",
            "value": 400
          }
        },
        "d760def4e30a43fe91db1d74c280d351": {
          "model_module": "@jupyter-widgets/controls",
          "model_name": "HTMLModel",
          "model_module_version": "1.5.0",
          "state": {
            "_dom_classes": [],
            "_model_module": "@jupyter-widgets/controls",
            "_model_module_version": "1.5.0",
            "_model_name": "HTMLModel",
            "_view_count": null,
            "_view_module": "@jupyter-widgets/controls",
            "_view_module_version": "1.5.0",
            "_view_name": "HTMLView",
            "description": "",
            "description_tooltip": null,
            "layout": "IPY_MODEL_d85de07097e44ceeb9b30bd86418d28f",
            "placeholder": "​",
            "style": "IPY_MODEL_25526c3f53d34b869024ac994410bbbb",
            "value": " 400/400 [01:37&lt;00:00,  4.69it/s]"
          }
        },
        "033637eebaaa4d618c79b56f83941e67": {
          "model_module": "@jupyter-widgets/base",
          "model_name": "LayoutModel",
          "model_module_version": "1.2.0",
          "state": {
            "_model_module": "@jupyter-widgets/base",
            "_model_module_version": "1.2.0",
            "_model_name": "LayoutModel",
            "_view_count": null,
            "_view_module": "@jupyter-widgets/base",
            "_view_module_version": "1.2.0",
            "_view_name": "LayoutView",
            "align_content": null,
            "align_items": null,
            "align_self": null,
            "border": null,
            "bottom": null,
            "display": null,
            "flex": null,
            "flex_flow": null,
            "grid_area": null,
            "grid_auto_columns": null,
            "grid_auto_flow": null,
            "grid_auto_rows": null,
            "grid_column": null,
            "grid_gap": null,
            "grid_row": null,
            "grid_template_areas": null,
            "grid_template_columns": null,
            "grid_template_rows": null,
            "height": null,
            "justify_content": null,
            "justify_items": null,
            "left": null,
            "margin": null,
            "max_height": null,
            "max_width": null,
            "min_height": null,
            "min_width": null,
            "object_fit": null,
            "object_position": null,
            "order": null,
            "overflow": null,
            "overflow_x": null,
            "overflow_y": null,
            "padding": null,
            "right": null,
            "top": null,
            "visibility": null,
            "width": null
          }
        },
        "99a7f695fc9742a9ae85b03957b70044": {
          "model_module": "@jupyter-widgets/base",
          "model_name": "LayoutModel",
          "model_module_version": "1.2.0",
          "state": {
            "_model_module": "@jupyter-widgets/base",
            "_model_module_version": "1.2.0",
            "_model_name": "LayoutModel",
            "_view_count": null,
            "_view_module": "@jupyter-widgets/base",
            "_view_module_version": "1.2.0",
            "_view_name": "LayoutView",
            "align_content": null,
            "align_items": null,
            "align_self": null,
            "border": null,
            "bottom": null,
            "display": null,
            "flex": null,
            "flex_flow": null,
            "grid_area": null,
            "grid_auto_columns": null,
            "grid_auto_flow": null,
            "grid_auto_rows": null,
            "grid_column": null,
            "grid_gap": null,
            "grid_row": null,
            "grid_template_areas": null,
            "grid_template_columns": null,
            "grid_template_rows": null,
            "height": null,
            "justify_content": null,
            "justify_items": null,
            "left": null,
            "margin": null,
            "max_height": null,
            "max_width": null,
            "min_height": null,
            "min_width": null,
            "object_fit": null,
            "object_position": null,
            "order": null,
            "overflow": null,
            "overflow_x": null,
            "overflow_y": null,
            "padding": null,
            "right": null,
            "top": null,
            "visibility": null,
            "width": null
          }
        },
        "02b824e086884019a0a09cb4f505bf8a": {
          "model_module": "@jupyter-widgets/controls",
          "model_name": "DescriptionStyleModel",
          "model_module_version": "1.5.0",
          "state": {
            "_model_module": "@jupyter-widgets/controls",
            "_model_module_version": "1.5.0",
            "_model_name": "DescriptionStyleModel",
            "_view_count": null,
            "_view_module": "@jupyter-widgets/base",
            "_view_module_version": "1.2.0",
            "_view_name": "StyleView",
            "description_width": ""
          }
        },
        "2e36ed7952fe4ceb90bd533b217844ca": {
          "model_module": "@jupyter-widgets/base",
          "model_name": "LayoutModel",
          "model_module_version": "1.2.0",
          "state": {
            "_model_module": "@jupyter-widgets/base",
            "_model_module_version": "1.2.0",
            "_model_name": "LayoutModel",
            "_view_count": null,
            "_view_module": "@jupyter-widgets/base",
            "_view_module_version": "1.2.0",
            "_view_name": "LayoutView",
            "align_content": null,
            "align_items": null,
            "align_self": null,
            "border": null,
            "bottom": null,
            "display": null,
            "flex": null,
            "flex_flow": null,
            "grid_area": null,
            "grid_auto_columns": null,
            "grid_auto_flow": null,
            "grid_auto_rows": null,
            "grid_column": null,
            "grid_gap": null,
            "grid_row": null,
            "grid_template_areas": null,
            "grid_template_columns": null,
            "grid_template_rows": null,
            "height": null,
            "justify_content": null,
            "justify_items": null,
            "left": null,
            "margin": null,
            "max_height": null,
            "max_width": null,
            "min_height": null,
            "min_width": null,
            "object_fit": null,
            "object_position": null,
            "order": null,
            "overflow": null,
            "overflow_x": null,
            "overflow_y": null,
            "padding": null,
            "right": null,
            "top": null,
            "visibility": null,
            "width": null
          }
        },
        "cdecf5ebe7954c0eac1c5b56acf97e1f": {
          "model_module": "@jupyter-widgets/controls",
          "model_name": "ProgressStyleModel",
          "model_module_version": "1.5.0",
          "state": {
            "_model_module": "@jupyter-widgets/controls",
            "_model_module_version": "1.5.0",
            "_model_name": "ProgressStyleModel",
            "_view_count": null,
            "_view_module": "@jupyter-widgets/base",
            "_view_module_version": "1.2.0",
            "_view_name": "StyleView",
            "bar_color": null,
            "description_width": ""
          }
        },
        "d85de07097e44ceeb9b30bd86418d28f": {
          "model_module": "@jupyter-widgets/base",
          "model_name": "LayoutModel",
          "model_module_version": "1.2.0",
          "state": {
            "_model_module": "@jupyter-widgets/base",
            "_model_module_version": "1.2.0",
            "_model_name": "LayoutModel",
            "_view_count": null,
            "_view_module": "@jupyter-widgets/base",
            "_view_module_version": "1.2.0",
            "_view_name": "LayoutView",
            "align_content": null,
            "align_items": null,
            "align_self": null,
            "border": null,
            "bottom": null,
            "display": null,
            "flex": null,
            "flex_flow": null,
            "grid_area": null,
            "grid_auto_columns": null,
            "grid_auto_flow": null,
            "grid_auto_rows": null,
            "grid_column": null,
            "grid_gap": null,
            "grid_row": null,
            "grid_template_areas": null,
            "grid_template_columns": null,
            "grid_template_rows": null,
            "height": null,
            "justify_content": null,
            "justify_items": null,
            "left": null,
            "margin": null,
            "max_height": null,
            "max_width": null,
            "min_height": null,
            "min_width": null,
            "object_fit": null,
            "object_position": null,
            "order": null,
            "overflow": null,
            "overflow_x": null,
            "overflow_y": null,
            "padding": null,
            "right": null,
            "top": null,
            "visibility": null,
            "width": null
          }
        },
        "25526c3f53d34b869024ac994410bbbb": {
          "model_module": "@jupyter-widgets/controls",
          "model_name": "DescriptionStyleModel",
          "model_module_version": "1.5.0",
          "state": {
            "_model_module": "@jupyter-widgets/controls",
            "_model_module_version": "1.5.0",
            "_model_name": "DescriptionStyleModel",
            "_view_count": null,
            "_view_module": "@jupyter-widgets/base",
            "_view_module_version": "1.2.0",
            "_view_name": "StyleView",
            "description_width": ""
          }
        },
        "da1e61e8c29d423ab5abc1e04657d7ba": {
          "model_module": "@jupyter-widgets/controls",
          "model_name": "HBoxModel",
          "model_module_version": "1.5.0",
          "state": {
            "_dom_classes": [],
            "_model_module": "@jupyter-widgets/controls",
            "_model_module_version": "1.5.0",
            "_model_name": "HBoxModel",
            "_view_count": null,
            "_view_module": "@jupyter-widgets/controls",
            "_view_module_version": "1.5.0",
            "_view_name": "HBoxView",
            "box_style": "",
            "children": [
              "IPY_MODEL_899fff2528b344fea35b1785823dc939",
              "IPY_MODEL_2bc46e346f3643cca47ddbe36a3978bb",
              "IPY_MODEL_754e01cc85aa4af2aa47a4832aab3905"
            ],
            "layout": "IPY_MODEL_c272da749ef241608e2c6558e5d5a106"
          }
        },
        "899fff2528b344fea35b1785823dc939": {
          "model_module": "@jupyter-widgets/controls",
          "model_name": "HTMLModel",
          "model_module_version": "1.5.0",
          "state": {
            "_dom_classes": [],
            "_model_module": "@jupyter-widgets/controls",
            "_model_module_version": "1.5.0",
            "_model_name": "HTMLModel",
            "_view_count": null,
            "_view_module": "@jupyter-widgets/controls",
            "_view_module_version": "1.5.0",
            "_view_name": "HTMLView",
            "description": "",
            "description_tooltip": null,
            "layout": "IPY_MODEL_7389280f481247468685883c8ab73205",
            "placeholder": "​",
            "style": "IPY_MODEL_ed570867bb7d4b3da831688ba7eb5b2b",
            "value": "100%"
          }
        },
        "2bc46e346f3643cca47ddbe36a3978bb": {
          "model_module": "@jupyter-widgets/controls",
          "model_name": "FloatProgressModel",
          "model_module_version": "1.5.0",
          "state": {
            "_dom_classes": [],
            "_model_module": "@jupyter-widgets/controls",
            "_model_module_version": "1.5.0",
            "_model_name": "FloatProgressModel",
            "_view_count": null,
            "_view_module": "@jupyter-widgets/controls",
            "_view_module_version": "1.5.0",
            "_view_name": "ProgressView",
            "bar_style": "success",
            "description": "",
            "description_tooltip": null,
            "layout": "IPY_MODEL_14e060d80d704eb1b246dd08631cef71",
            "max": 120,
            "min": 0,
            "orientation": "horizontal",
            "style": "IPY_MODEL_05b9620eb61d4815b6d4eafdbe61d0f6",
            "value": 120
          }
        },
        "754e01cc85aa4af2aa47a4832aab3905": {
          "model_module": "@jupyter-widgets/controls",
          "model_name": "HTMLModel",
          "model_module_version": "1.5.0",
          "state": {
            "_dom_classes": [],
            "_model_module": "@jupyter-widgets/controls",
            "_model_module_version": "1.5.0",
            "_model_name": "HTMLModel",
            "_view_count": null,
            "_view_module": "@jupyter-widgets/controls",
            "_view_module_version": "1.5.0",
            "_view_name": "HTMLView",
            "description": "",
            "description_tooltip": null,
            "layout": "IPY_MODEL_45723c1af31245568b220e8eeca1d7be",
            "placeholder": "​",
            "style": "IPY_MODEL_b34a0e4b04e64818945ef375654864b0",
            "value": " 120/120 [00:21&lt;00:00,  6.01it/s]"
          }
        },
        "c272da749ef241608e2c6558e5d5a106": {
          "model_module": "@jupyter-widgets/base",
          "model_name": "LayoutModel",
          "model_module_version": "1.2.0",
          "state": {
            "_model_module": "@jupyter-widgets/base",
            "_model_module_version": "1.2.0",
            "_model_name": "LayoutModel",
            "_view_count": null,
            "_view_module": "@jupyter-widgets/base",
            "_view_module_version": "1.2.0",
            "_view_name": "LayoutView",
            "align_content": null,
            "align_items": null,
            "align_self": null,
            "border": null,
            "bottom": null,
            "display": null,
            "flex": null,
            "flex_flow": null,
            "grid_area": null,
            "grid_auto_columns": null,
            "grid_auto_flow": null,
            "grid_auto_rows": null,
            "grid_column": null,
            "grid_gap": null,
            "grid_row": null,
            "grid_template_areas": null,
            "grid_template_columns": null,
            "grid_template_rows": null,
            "height": null,
            "justify_content": null,
            "justify_items": null,
            "left": null,
            "margin": null,
            "max_height": null,
            "max_width": null,
            "min_height": null,
            "min_width": null,
            "object_fit": null,
            "object_position": null,
            "order": null,
            "overflow": null,
            "overflow_x": null,
            "overflow_y": null,
            "padding": null,
            "right": null,
            "top": null,
            "visibility": null,
            "width": null
          }
        },
        "7389280f481247468685883c8ab73205": {
          "model_module": "@jupyter-widgets/base",
          "model_name": "LayoutModel",
          "model_module_version": "1.2.0",
          "state": {
            "_model_module": "@jupyter-widgets/base",
            "_model_module_version": "1.2.0",
            "_model_name": "LayoutModel",
            "_view_count": null,
            "_view_module": "@jupyter-widgets/base",
            "_view_module_version": "1.2.0",
            "_view_name": "LayoutView",
            "align_content": null,
            "align_items": null,
            "align_self": null,
            "border": null,
            "bottom": null,
            "display": null,
            "flex": null,
            "flex_flow": null,
            "grid_area": null,
            "grid_auto_columns": null,
            "grid_auto_flow": null,
            "grid_auto_rows": null,
            "grid_column": null,
            "grid_gap": null,
            "grid_row": null,
            "grid_template_areas": null,
            "grid_template_columns": null,
            "grid_template_rows": null,
            "height": null,
            "justify_content": null,
            "justify_items": null,
            "left": null,
            "margin": null,
            "max_height": null,
            "max_width": null,
            "min_height": null,
            "min_width": null,
            "object_fit": null,
            "object_position": null,
            "order": null,
            "overflow": null,
            "overflow_x": null,
            "overflow_y": null,
            "padding": null,
            "right": null,
            "top": null,
            "visibility": null,
            "width": null
          }
        },
        "ed570867bb7d4b3da831688ba7eb5b2b": {
          "model_module": "@jupyter-widgets/controls",
          "model_name": "DescriptionStyleModel",
          "model_module_version": "1.5.0",
          "state": {
            "_model_module": "@jupyter-widgets/controls",
            "_model_module_version": "1.5.0",
            "_model_name": "DescriptionStyleModel",
            "_view_count": null,
            "_view_module": "@jupyter-widgets/base",
            "_view_module_version": "1.2.0",
            "_view_name": "StyleView",
            "description_width": ""
          }
        },
        "14e060d80d704eb1b246dd08631cef71": {
          "model_module": "@jupyter-widgets/base",
          "model_name": "LayoutModel",
          "model_module_version": "1.2.0",
          "state": {
            "_model_module": "@jupyter-widgets/base",
            "_model_module_version": "1.2.0",
            "_model_name": "LayoutModel",
            "_view_count": null,
            "_view_module": "@jupyter-widgets/base",
            "_view_module_version": "1.2.0",
            "_view_name": "LayoutView",
            "align_content": null,
            "align_items": null,
            "align_self": null,
            "border": null,
            "bottom": null,
            "display": null,
            "flex": null,
            "flex_flow": null,
            "grid_area": null,
            "grid_auto_columns": null,
            "grid_auto_flow": null,
            "grid_auto_rows": null,
            "grid_column": null,
            "grid_gap": null,
            "grid_row": null,
            "grid_template_areas": null,
            "grid_template_columns": null,
            "grid_template_rows": null,
            "height": null,
            "justify_content": null,
            "justify_items": null,
            "left": null,
            "margin": null,
            "max_height": null,
            "max_width": null,
            "min_height": null,
            "min_width": null,
            "object_fit": null,
            "object_position": null,
            "order": null,
            "overflow": null,
            "overflow_x": null,
            "overflow_y": null,
            "padding": null,
            "right": null,
            "top": null,
            "visibility": null,
            "width": null
          }
        },
        "05b9620eb61d4815b6d4eafdbe61d0f6": {
          "model_module": "@jupyter-widgets/controls",
          "model_name": "ProgressStyleModel",
          "model_module_version": "1.5.0",
          "state": {
            "_model_module": "@jupyter-widgets/controls",
            "_model_module_version": "1.5.0",
            "_model_name": "ProgressStyleModel",
            "_view_count": null,
            "_view_module": "@jupyter-widgets/base",
            "_view_module_version": "1.2.0",
            "_view_name": "StyleView",
            "bar_color": null,
            "description_width": ""
          }
        },
        "45723c1af31245568b220e8eeca1d7be": {
          "model_module": "@jupyter-widgets/base",
          "model_name": "LayoutModel",
          "model_module_version": "1.2.0",
          "state": {
            "_model_module": "@jupyter-widgets/base",
            "_model_module_version": "1.2.0",
            "_model_name": "LayoutModel",
            "_view_count": null,
            "_view_module": "@jupyter-widgets/base",
            "_view_module_version": "1.2.0",
            "_view_name": "LayoutView",
            "align_content": null,
            "align_items": null,
            "align_self": null,
            "border": null,
            "bottom": null,
            "display": null,
            "flex": null,
            "flex_flow": null,
            "grid_area": null,
            "grid_auto_columns": null,
            "grid_auto_flow": null,
            "grid_auto_rows": null,
            "grid_column": null,
            "grid_gap": null,
            "grid_row": null,
            "grid_template_areas": null,
            "grid_template_columns": null,
            "grid_template_rows": null,
            "height": null,
            "justify_content": null,
            "justify_items": null,
            "left": null,
            "margin": null,
            "max_height": null,
            "max_width": null,
            "min_height": null,
            "min_width": null,
            "object_fit": null,
            "object_position": null,
            "order": null,
            "overflow": null,
            "overflow_x": null,
            "overflow_y": null,
            "padding": null,
            "right": null,
            "top": null,
            "visibility": null,
            "width": null
          }
        },
        "b34a0e4b04e64818945ef375654864b0": {
          "model_module": "@jupyter-widgets/controls",
          "model_name": "DescriptionStyleModel",
          "model_module_version": "1.5.0",
          "state": {
            "_model_module": "@jupyter-widgets/controls",
            "_model_module_version": "1.5.0",
            "_model_name": "DescriptionStyleModel",
            "_view_count": null,
            "_view_module": "@jupyter-widgets/base",
            "_view_module_version": "1.2.0",
            "_view_name": "StyleView",
            "description_width": ""
          }
        },
        "2b7b2701928e41f6b14e01daae63112d": {
          "model_module": "@jupyter-widgets/controls",
          "model_name": "HBoxModel",
          "model_module_version": "1.5.0",
          "state": {
            "_dom_classes": [],
            "_model_module": "@jupyter-widgets/controls",
            "_model_module_version": "1.5.0",
            "_model_name": "HBoxModel",
            "_view_count": null,
            "_view_module": "@jupyter-widgets/controls",
            "_view_module_version": "1.5.0",
            "_view_name": "HBoxView",
            "box_style": "",
            "children": [
              "IPY_MODEL_9ba5ab3eb2c44b73a15604150cd2a817",
              "IPY_MODEL_108b243808854f7aa3c0a34968fb9b53",
              "IPY_MODEL_1bac55de4730484ca901e0b376a72e9c"
            ],
            "layout": "IPY_MODEL_9080017c6be449b98ba85452ed02ab26"
          }
        },
        "9ba5ab3eb2c44b73a15604150cd2a817": {
          "model_module": "@jupyter-widgets/controls",
          "model_name": "HTMLModel",
          "model_module_version": "1.5.0",
          "state": {
            "_dom_classes": [],
            "_model_module": "@jupyter-widgets/controls",
            "_model_module_version": "1.5.0",
            "_model_name": "HTMLModel",
            "_view_count": null,
            "_view_module": "@jupyter-widgets/controls",
            "_view_module_version": "1.5.0",
            "_view_name": "HTMLView",
            "description": "",
            "description_tooltip": null,
            "layout": "IPY_MODEL_28ce80bd091843018a01e1c3b1973a61",
            "placeholder": "​",
            "style": "IPY_MODEL_9ac6a8312c6f4f0f92894606082121d1",
            "value": "100%"
          }
        },
        "108b243808854f7aa3c0a34968fb9b53": {
          "model_module": "@jupyter-widgets/controls",
          "model_name": "FloatProgressModel",
          "model_module_version": "1.5.0",
          "state": {
            "_dom_classes": [],
            "_model_module": "@jupyter-widgets/controls",
            "_model_module_version": "1.5.0",
            "_model_name": "FloatProgressModel",
            "_view_count": null,
            "_view_module": "@jupyter-widgets/controls",
            "_view_module_version": "1.5.0",
            "_view_name": "ProgressView",
            "bar_style": "success",
            "description": "",
            "description_tooltip": null,
            "layout": "IPY_MODEL_b76a12e1a14a4f3c970b17821fc00686",
            "max": 50,
            "min": 0,
            "orientation": "horizontal",
            "style": "IPY_MODEL_fee44b48f8ab4165b5cd21c65d3b8c7d",
            "value": 50
          }
        },
        "1bac55de4730484ca901e0b376a72e9c": {
          "model_module": "@jupyter-widgets/controls",
          "model_name": "HTMLModel",
          "model_module_version": "1.5.0",
          "state": {
            "_dom_classes": [],
            "_model_module": "@jupyter-widgets/controls",
            "_model_module_version": "1.5.0",
            "_model_name": "HTMLModel",
            "_view_count": null,
            "_view_module": "@jupyter-widgets/controls",
            "_view_module_version": "1.5.0",
            "_view_name": "HTMLView",
            "description": "",
            "description_tooltip": null,
            "layout": "IPY_MODEL_42718c7a145c4f9a86c647143d9194c9",
            "placeholder": "​",
            "style": "IPY_MODEL_257ba2a9188c493b869aab98309bd5de",
            "value": " 50/50 [00:06&lt;00:00, 10.99it/s]"
          }
        },
        "9080017c6be449b98ba85452ed02ab26": {
          "model_module": "@jupyter-widgets/base",
          "model_name": "LayoutModel",
          "model_module_version": "1.2.0",
          "state": {
            "_model_module": "@jupyter-widgets/base",
            "_model_module_version": "1.2.0",
            "_model_name": "LayoutModel",
            "_view_count": null,
            "_view_module": "@jupyter-widgets/base",
            "_view_module_version": "1.2.0",
            "_view_name": "LayoutView",
            "align_content": null,
            "align_items": null,
            "align_self": null,
            "border": null,
            "bottom": null,
            "display": null,
            "flex": null,
            "flex_flow": null,
            "grid_area": null,
            "grid_auto_columns": null,
            "grid_auto_flow": null,
            "grid_auto_rows": null,
            "grid_column": null,
            "grid_gap": null,
            "grid_row": null,
            "grid_template_areas": null,
            "grid_template_columns": null,
            "grid_template_rows": null,
            "height": null,
            "justify_content": null,
            "justify_items": null,
            "left": null,
            "margin": null,
            "max_height": null,
            "max_width": null,
            "min_height": null,
            "min_width": null,
            "object_fit": null,
            "object_position": null,
            "order": null,
            "overflow": null,
            "overflow_x": null,
            "overflow_y": null,
            "padding": null,
            "right": null,
            "top": null,
            "visibility": null,
            "width": null
          }
        },
        "28ce80bd091843018a01e1c3b1973a61": {
          "model_module": "@jupyter-widgets/base",
          "model_name": "LayoutModel",
          "model_module_version": "1.2.0",
          "state": {
            "_model_module": "@jupyter-widgets/base",
            "_model_module_version": "1.2.0",
            "_model_name": "LayoutModel",
            "_view_count": null,
            "_view_module": "@jupyter-widgets/base",
            "_view_module_version": "1.2.0",
            "_view_name": "LayoutView",
            "align_content": null,
            "align_items": null,
            "align_self": null,
            "border": null,
            "bottom": null,
            "display": null,
            "flex": null,
            "flex_flow": null,
            "grid_area": null,
            "grid_auto_columns": null,
            "grid_auto_flow": null,
            "grid_auto_rows": null,
            "grid_column": null,
            "grid_gap": null,
            "grid_row": null,
            "grid_template_areas": null,
            "grid_template_columns": null,
            "grid_template_rows": null,
            "height": null,
            "justify_content": null,
            "justify_items": null,
            "left": null,
            "margin": null,
            "max_height": null,
            "max_width": null,
            "min_height": null,
            "min_width": null,
            "object_fit": null,
            "object_position": null,
            "order": null,
            "overflow": null,
            "overflow_x": null,
            "overflow_y": null,
            "padding": null,
            "right": null,
            "top": null,
            "visibility": null,
            "width": null
          }
        },
        "9ac6a8312c6f4f0f92894606082121d1": {
          "model_module": "@jupyter-widgets/controls",
          "model_name": "DescriptionStyleModel",
          "model_module_version": "1.5.0",
          "state": {
            "_model_module": "@jupyter-widgets/controls",
            "_model_module_version": "1.5.0",
            "_model_name": "DescriptionStyleModel",
            "_view_count": null,
            "_view_module": "@jupyter-widgets/base",
            "_view_module_version": "1.2.0",
            "_view_name": "StyleView",
            "description_width": ""
          }
        },
        "b76a12e1a14a4f3c970b17821fc00686": {
          "model_module": "@jupyter-widgets/base",
          "model_name": "LayoutModel",
          "model_module_version": "1.2.0",
          "state": {
            "_model_module": "@jupyter-widgets/base",
            "_model_module_version": "1.2.0",
            "_model_name": "LayoutModel",
            "_view_count": null,
            "_view_module": "@jupyter-widgets/base",
            "_view_module_version": "1.2.0",
            "_view_name": "LayoutView",
            "align_content": null,
            "align_items": null,
            "align_self": null,
            "border": null,
            "bottom": null,
            "display": null,
            "flex": null,
            "flex_flow": null,
            "grid_area": null,
            "grid_auto_columns": null,
            "grid_auto_flow": null,
            "grid_auto_rows": null,
            "grid_column": null,
            "grid_gap": null,
            "grid_row": null,
            "grid_template_areas": null,
            "grid_template_columns": null,
            "grid_template_rows": null,
            "height": null,
            "justify_content": null,
            "justify_items": null,
            "left": null,
            "margin": null,
            "max_height": null,
            "max_width": null,
            "min_height": null,
            "min_width": null,
            "object_fit": null,
            "object_position": null,
            "order": null,
            "overflow": null,
            "overflow_x": null,
            "overflow_y": null,
            "padding": null,
            "right": null,
            "top": null,
            "visibility": null,
            "width": null
          }
        },
        "fee44b48f8ab4165b5cd21c65d3b8c7d": {
          "model_module": "@jupyter-widgets/controls",
          "model_name": "ProgressStyleModel",
          "model_module_version": "1.5.0",
          "state": {
            "_model_module": "@jupyter-widgets/controls",
            "_model_module_version": "1.5.0",
            "_model_name": "ProgressStyleModel",
            "_view_count": null,
            "_view_module": "@jupyter-widgets/base",
            "_view_module_version": "1.2.0",
            "_view_name": "StyleView",
            "bar_color": null,
            "description_width": ""
          }
        },
        "42718c7a145c4f9a86c647143d9194c9": {
          "model_module": "@jupyter-widgets/base",
          "model_name": "LayoutModel",
          "model_module_version": "1.2.0",
          "state": {
            "_model_module": "@jupyter-widgets/base",
            "_model_module_version": "1.2.0",
            "_model_name": "LayoutModel",
            "_view_count": null,
            "_view_module": "@jupyter-widgets/base",
            "_view_module_version": "1.2.0",
            "_view_name": "LayoutView",
            "align_content": null,
            "align_items": null,
            "align_self": null,
            "border": null,
            "bottom": null,
            "display": null,
            "flex": null,
            "flex_flow": null,
            "grid_area": null,
            "grid_auto_columns": null,
            "grid_auto_flow": null,
            "grid_auto_rows": null,
            "grid_column": null,
            "grid_gap": null,
            "grid_row": null,
            "grid_template_areas": null,
            "grid_template_columns": null,
            "grid_template_rows": null,
            "height": null,
            "justify_content": null,
            "justify_items": null,
            "left": null,
            "margin": null,
            "max_height": null,
            "max_width": null,
            "min_height": null,
            "min_width": null,
            "object_fit": null,
            "object_position": null,
            "order": null,
            "overflow": null,
            "overflow_x": null,
            "overflow_y": null,
            "padding": null,
            "right": null,
            "top": null,
            "visibility": null,
            "width": null
          }
        },
        "257ba2a9188c493b869aab98309bd5de": {
          "model_module": "@jupyter-widgets/controls",
          "model_name": "DescriptionStyleModel",
          "model_module_version": "1.5.0",
          "state": {
            "_model_module": "@jupyter-widgets/controls",
            "_model_module_version": "1.5.0",
            "_model_name": "DescriptionStyleModel",
            "_view_count": null,
            "_view_module": "@jupyter-widgets/base",
            "_view_module_version": "1.2.0",
            "_view_name": "StyleView",
            "description_width": ""
          }
        }
      }
    }
  },
  "nbformat": 4,
  "nbformat_minor": 5
}